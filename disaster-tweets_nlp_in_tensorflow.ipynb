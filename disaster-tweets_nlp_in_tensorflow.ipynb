{
  "nbformat": 4,
  "nbformat_minor": 0,
  "metadata": {
    "colab": {
      "provenance": [],
      "authorship_tag": "ABX9TyMvWgt0gqfssKnkapuGvmYP",
      "include_colab_link": true
    },
    "kernelspec": {
      "name": "python3",
      "display_name": "Python 3"
    },
    "language_info": {
      "name": "python"
    },
    "accelerator": "GPU",
    "gpuClass": "standard"
  },
  "cells": [
    {
      "cell_type": "markdown",
      "metadata": {
        "id": "view-in-github",
        "colab_type": "text"
      },
      "source": [
        "<a href=\"https://colab.research.google.com/github/snehalad/nlp-disaster-tweets-classification/blob/main/disaster-tweets_nlp_in_tensorflow.ipynb\" target=\"_parent\"><img src=\"https://colab.research.google.com/assets/colab-badge.svg\" alt=\"Open In Colab\"/></a>"
      ]
    },
    {
      "cell_type": "markdown",
      "source": [
        "## Introduction to NLP Fundamentals in Tensorflow\n",
        "\n",
        "NLP has the goal of deiving information out of natural language (could be sequence text or speech).\n",
        "\n",
        "Another common term for NLP problems is sequence to sequence problems (seq2seq).\n",
        "\n",
        "Natural language is a broad term but you can consider it to cover any of the following:\n",
        "\n",
        "- Text (such as that contained in an email, blog post, book, Tweet)\n",
        "- Speech (a conversation you have with a doctor, voice commands you give to a smart speaker)\n",
        "\n",
        "NLP Flow:\n",
        "```\n",
        "Text -> turn into numbers -> build a model -> train the model to find patterns -> use patterns (make predictions)\n",
        "\n",
        "```\n",
        "[Vectorization NLP](analyticsvidhya.com/blog/2021/06/part-5-step-by-step-guide-to-master-nlp-text-vectorization-approaches/#:~:text=To%20convert%20the%20text%20data,text%20data%20to%20numerical%20vectors.)\n"
      ],
      "metadata": {
        "id": "Cn1FaVdOiv8D"
      }
    },
    {
      "cell_type": "markdown",
      "source": [
        "## Check for GPU"
      ],
      "metadata": {
        "id": "gKDPGO7YlGJA"
      }
    },
    {
      "cell_type": "code",
      "source": [
        "!nvidia-smi -L"
      ],
      "metadata": {
        "colab": {
          "base_uri": "https://localhost:8080/"
        },
        "id": "BU4gLFbhkehn",
        "outputId": "db800daf-8a20-43fb-98c9-bfaef6c6d3a2"
      },
      "execution_count": null,
      "outputs": [
        {
          "output_type": "stream",
          "name": "stdout",
          "text": [
            "GPU 0: Tesla T4 (UUID: GPU-ddfaa9e3-0ce8-7785-5d14-a120bc52ebb8)\n"
          ]
        }
      ]
    },
    {
      "cell_type": "markdown",
      "source": [
        "## Get helper function"
      ],
      "metadata": {
        "id": "ipqscBf8lKVC"
      }
    },
    {
      "cell_type": "code",
      "source": [
        "!wget https://raw.githubusercontent.com/mrdbourke/tensorflow-deep-learning/main/extras/helper_functions.py\n",
        "\n",
        "# Import series of helper functions\n",
        "from helper_functions import unzip_data, create_tensorboard_callback, plot_loss_curves, compare_historys"
      ],
      "metadata": {
        "colab": {
          "base_uri": "https://localhost:8080/"
        },
        "id": "BAslK9V3k9vq",
        "outputId": "f127a83f-a5e9-4622-c7fb-8ded8bfcf39a"
      },
      "execution_count": null,
      "outputs": [
        {
          "output_type": "stream",
          "name": "stdout",
          "text": [
            "--2023-03-09 11:33:59--  https://raw.githubusercontent.com/mrdbourke/tensorflow-deep-learning/main/extras/helper_functions.py\n",
            "Resolving raw.githubusercontent.com (raw.githubusercontent.com)... 185.199.111.133, 185.199.110.133, 185.199.108.133, ...\n",
            "Connecting to raw.githubusercontent.com (raw.githubusercontent.com)|185.199.111.133|:443... connected.\n",
            "HTTP request sent, awaiting response... 200 OK\n",
            "Length: 10246 (10K) [text/plain]\n",
            "Saving to: ‘helper_functions.py’\n",
            "\n",
            "\rhelper_functions.py   0%[                    ]       0  --.-KB/s               \rhelper_functions.py 100%[===================>]  10.01K  --.-KB/s    in 0s      \n",
            "\n",
            "2023-03-09 11:34:00 (72.6 MB/s) - ‘helper_functions.py’ saved [10246/10246]\n",
            "\n"
          ]
        }
      ]
    },
    {
      "cell_type": "markdown",
      "source": [
        "## Get a text dataset\n",
        "\n",
        "The dataset we're going to be using is kaggle's introduction to NLP dataset (text sample of tweets labelled as disaster or not)\n",
        "\n",
        "source : https://www.kaggle.com/competitions/nlp-getting-started/data"
      ],
      "metadata": {
        "id": "Tci2G1mIldFv"
      }
    },
    {
      "cell_type": "code",
      "source": [
        "!wget https://storage.googleapis.com/ztm_tf_course/nlp_getting_started.zip\n",
        "\n",
        "# unzip data\n",
        "unzip_data(\"nlp_getting_started.zip\")"
      ],
      "metadata": {
        "colab": {
          "base_uri": "https://localhost:8080/"
        },
        "id": "TjFy95eKm674",
        "outputId": "e77ff1f9-e1d7-4ca1-b87d-608509fb0d9a"
      },
      "execution_count": null,
      "outputs": [
        {
          "output_type": "stream",
          "name": "stdout",
          "text": [
            "--2023-03-09 11:34:07--  https://storage.googleapis.com/ztm_tf_course/nlp_getting_started.zip\n",
            "Resolving storage.googleapis.com (storage.googleapis.com)... 74.125.26.128, 172.217.193.128, 173.194.210.128, ...\n",
            "Connecting to storage.googleapis.com (storage.googleapis.com)|74.125.26.128|:443... connected.\n",
            "HTTP request sent, awaiting response... 200 OK\n",
            "Length: 607343 (593K) [application/zip]\n",
            "Saving to: ‘nlp_getting_started.zip’\n",
            "\n",
            "\rnlp_getting_started   0%[                    ]       0  --.-KB/s               \rnlp_getting_started 100%[===================>] 593.11K  --.-KB/s    in 0.009s  \n",
            "\n",
            "2023-03-09 11:34:07 (66.0 MB/s) - ‘nlp_getting_started.zip’ saved [607343/607343]\n",
            "\n"
          ]
        }
      ]
    },
    {
      "cell_type": "markdown",
      "source": [
        "## Visualizing a text dataset"
      ],
      "metadata": {
        "id": "MGiQHq5wnbzG"
      }
    },
    {
      "cell_type": "code",
      "source": [
        "import pandas as pd\n",
        "train_df = pd.read_csv(\"train.csv\")\n",
        "test_df = pd.read_csv(\"test.csv\")\n",
        "train_df.head()"
      ],
      "metadata": {
        "colab": {
          "base_uri": "https://localhost:8080/",
          "height": 206
        },
        "id": "hlto_oK1YXbH",
        "outputId": "128bdef3-219e-4fd6-ca77-1ebec2bc284e"
      },
      "execution_count": null,
      "outputs": [
        {
          "output_type": "execute_result",
          "data": {
            "text/plain": [
              "   id keyword location                                               text  \\\n",
              "0   1     NaN      NaN  Our Deeds are the Reason of this #earthquake M...   \n",
              "1   4     NaN      NaN             Forest fire near La Ronge Sask. Canada   \n",
              "2   5     NaN      NaN  All residents asked to 'shelter in place' are ...   \n",
              "3   6     NaN      NaN  13,000 people receive #wildfires evacuation or...   \n",
              "4   7     NaN      NaN  Just got sent this photo from Ruby #Alaska as ...   \n",
              "\n",
              "   target  \n",
              "0       1  \n",
              "1       1  \n",
              "2       1  \n",
              "3       1  \n",
              "4       1  "
            ],
            "text/html": [
              "\n",
              "  <div id=\"df-cd6ce699-426c-4574-b451-856a7c809817\">\n",
              "    <div class=\"colab-df-container\">\n",
              "      <div>\n",
              "<style scoped>\n",
              "    .dataframe tbody tr th:only-of-type {\n",
              "        vertical-align: middle;\n",
              "    }\n",
              "\n",
              "    .dataframe tbody tr th {\n",
              "        vertical-align: top;\n",
              "    }\n",
              "\n",
              "    .dataframe thead th {\n",
              "        text-align: right;\n",
              "    }\n",
              "</style>\n",
              "<table border=\"1\" class=\"dataframe\">\n",
              "  <thead>\n",
              "    <tr style=\"text-align: right;\">\n",
              "      <th></th>\n",
              "      <th>id</th>\n",
              "      <th>keyword</th>\n",
              "      <th>location</th>\n",
              "      <th>text</th>\n",
              "      <th>target</th>\n",
              "    </tr>\n",
              "  </thead>\n",
              "  <tbody>\n",
              "    <tr>\n",
              "      <th>0</th>\n",
              "      <td>1</td>\n",
              "      <td>NaN</td>\n",
              "      <td>NaN</td>\n",
              "      <td>Our Deeds are the Reason of this #earthquake M...</td>\n",
              "      <td>1</td>\n",
              "    </tr>\n",
              "    <tr>\n",
              "      <th>1</th>\n",
              "      <td>4</td>\n",
              "      <td>NaN</td>\n",
              "      <td>NaN</td>\n",
              "      <td>Forest fire near La Ronge Sask. Canada</td>\n",
              "      <td>1</td>\n",
              "    </tr>\n",
              "    <tr>\n",
              "      <th>2</th>\n",
              "      <td>5</td>\n",
              "      <td>NaN</td>\n",
              "      <td>NaN</td>\n",
              "      <td>All residents asked to 'shelter in place' are ...</td>\n",
              "      <td>1</td>\n",
              "    </tr>\n",
              "    <tr>\n",
              "      <th>3</th>\n",
              "      <td>6</td>\n",
              "      <td>NaN</td>\n",
              "      <td>NaN</td>\n",
              "      <td>13,000 people receive #wildfires evacuation or...</td>\n",
              "      <td>1</td>\n",
              "    </tr>\n",
              "    <tr>\n",
              "      <th>4</th>\n",
              "      <td>7</td>\n",
              "      <td>NaN</td>\n",
              "      <td>NaN</td>\n",
              "      <td>Just got sent this photo from Ruby #Alaska as ...</td>\n",
              "      <td>1</td>\n",
              "    </tr>\n",
              "  </tbody>\n",
              "</table>\n",
              "</div>\n",
              "      <button class=\"colab-df-convert\" onclick=\"convertToInteractive('df-cd6ce699-426c-4574-b451-856a7c809817')\"\n",
              "              title=\"Convert this dataframe to an interactive table.\"\n",
              "              style=\"display:none;\">\n",
              "        \n",
              "  <svg xmlns=\"http://www.w3.org/2000/svg\" height=\"24px\"viewBox=\"0 0 24 24\"\n",
              "       width=\"24px\">\n",
              "    <path d=\"M0 0h24v24H0V0z\" fill=\"none\"/>\n",
              "    <path d=\"M18.56 5.44l.94 2.06.94-2.06 2.06-.94-2.06-.94-.94-2.06-.94 2.06-2.06.94zm-11 1L8.5 8.5l.94-2.06 2.06-.94-2.06-.94L8.5 2.5l-.94 2.06-2.06.94zm10 10l.94 2.06.94-2.06 2.06-.94-2.06-.94-.94-2.06-.94 2.06-2.06.94z\"/><path d=\"M17.41 7.96l-1.37-1.37c-.4-.4-.92-.59-1.43-.59-.52 0-1.04.2-1.43.59L10.3 9.45l-7.72 7.72c-.78.78-.78 2.05 0 2.83L4 21.41c.39.39.9.59 1.41.59.51 0 1.02-.2 1.41-.59l7.78-7.78 2.81-2.81c.8-.78.8-2.07 0-2.86zM5.41 20L4 18.59l7.72-7.72 1.47 1.35L5.41 20z\"/>\n",
              "  </svg>\n",
              "      </button>\n",
              "      \n",
              "  <style>\n",
              "    .colab-df-container {\n",
              "      display:flex;\n",
              "      flex-wrap:wrap;\n",
              "      gap: 12px;\n",
              "    }\n",
              "\n",
              "    .colab-df-convert {\n",
              "      background-color: #E8F0FE;\n",
              "      border: none;\n",
              "      border-radius: 50%;\n",
              "      cursor: pointer;\n",
              "      display: none;\n",
              "      fill: #1967D2;\n",
              "      height: 32px;\n",
              "      padding: 0 0 0 0;\n",
              "      width: 32px;\n",
              "    }\n",
              "\n",
              "    .colab-df-convert:hover {\n",
              "      background-color: #E2EBFA;\n",
              "      box-shadow: 0px 1px 2px rgba(60, 64, 67, 0.3), 0px 1px 3px 1px rgba(60, 64, 67, 0.15);\n",
              "      fill: #174EA6;\n",
              "    }\n",
              "\n",
              "    [theme=dark] .colab-df-convert {\n",
              "      background-color: #3B4455;\n",
              "      fill: #D2E3FC;\n",
              "    }\n",
              "\n",
              "    [theme=dark] .colab-df-convert:hover {\n",
              "      background-color: #434B5C;\n",
              "      box-shadow: 0px 1px 3px 1px rgba(0, 0, 0, 0.15);\n",
              "      filter: drop-shadow(0px 1px 2px rgba(0, 0, 0, 0.3));\n",
              "      fill: #FFFFFF;\n",
              "    }\n",
              "  </style>\n",
              "\n",
              "      <script>\n",
              "        const buttonEl =\n",
              "          document.querySelector('#df-cd6ce699-426c-4574-b451-856a7c809817 button.colab-df-convert');\n",
              "        buttonEl.style.display =\n",
              "          google.colab.kernel.accessAllowed ? 'block' : 'none';\n",
              "\n",
              "        async function convertToInteractive(key) {\n",
              "          const element = document.querySelector('#df-cd6ce699-426c-4574-b451-856a7c809817');\n",
              "          const dataTable =\n",
              "            await google.colab.kernel.invokeFunction('convertToInteractive',\n",
              "                                                     [key], {});\n",
              "          if (!dataTable) return;\n",
              "\n",
              "          const docLinkHtml = 'Like what you see? Visit the ' +\n",
              "            '<a target=\"_blank\" href=https://colab.research.google.com/notebooks/data_table.ipynb>data table notebook</a>'\n",
              "            + ' to learn more about interactive tables.';\n",
              "          element.innerHTML = '';\n",
              "          dataTable['output_type'] = 'display_data';\n",
              "          await google.colab.output.renderOutput(dataTable, element);\n",
              "          const docLink = document.createElement('div');\n",
              "          docLink.innerHTML = docLinkHtml;\n",
              "          element.appendChild(docLink);\n",
              "        }\n",
              "      </script>\n",
              "    </div>\n",
              "  </div>\n",
              "  "
            ]
          },
          "metadata": {},
          "execution_count": 4
        }
      ]
    },
    {
      "cell_type": "code",
      "source": [
        "# shuffle training dataframe\n",
        "train_df_shuffle = train_df.sample(frac=1, random_state=42)\n",
        "train_df_shuffle.head()"
      ],
      "metadata": {
        "colab": {
          "base_uri": "https://localhost:8080/",
          "height": 337
        },
        "id": "cuD2Dmz3ZLnD",
        "outputId": "6d97e21d-2947-4bb6-e395-83a03c034ad5"
      },
      "execution_count": null,
      "outputs": [
        {
          "output_type": "execute_result",
          "data": {
            "text/plain": [
              "        id      keyword               location  \\\n",
              "2644  3796  destruction                    NaN   \n",
              "2227  3185       deluge                    NaN   \n",
              "5448  7769       police                     UK   \n",
              "132    191   aftershock                    NaN   \n",
              "6845  9810       trauma  Montgomery County, MD   \n",
              "\n",
              "                                                   text  target  \n",
              "2644  So you have a new weapon that can cause un-ima...       1  \n",
              "2227  The f$&amp;@ing things I do for #GISHWHES Just...       0  \n",
              "5448  DT @georgegalloway: RT @Galloway4Mayor: ÛÏThe...       1  \n",
              "132   Aftershock back to school kick off was great. ...       0  \n",
              "6845  in response to trauma Children of Addicts deve...       0  "
            ],
            "text/html": [
              "\n",
              "  <div id=\"df-310fcc6f-1fe0-422a-84fa-c7d8e590cbb6\">\n",
              "    <div class=\"colab-df-container\">\n",
              "      <div>\n",
              "<style scoped>\n",
              "    .dataframe tbody tr th:only-of-type {\n",
              "        vertical-align: middle;\n",
              "    }\n",
              "\n",
              "    .dataframe tbody tr th {\n",
              "        vertical-align: top;\n",
              "    }\n",
              "\n",
              "    .dataframe thead th {\n",
              "        text-align: right;\n",
              "    }\n",
              "</style>\n",
              "<table border=\"1\" class=\"dataframe\">\n",
              "  <thead>\n",
              "    <tr style=\"text-align: right;\">\n",
              "      <th></th>\n",
              "      <th>id</th>\n",
              "      <th>keyword</th>\n",
              "      <th>location</th>\n",
              "      <th>text</th>\n",
              "      <th>target</th>\n",
              "    </tr>\n",
              "  </thead>\n",
              "  <tbody>\n",
              "    <tr>\n",
              "      <th>2644</th>\n",
              "      <td>3796</td>\n",
              "      <td>destruction</td>\n",
              "      <td>NaN</td>\n",
              "      <td>So you have a new weapon that can cause un-ima...</td>\n",
              "      <td>1</td>\n",
              "    </tr>\n",
              "    <tr>\n",
              "      <th>2227</th>\n",
              "      <td>3185</td>\n",
              "      <td>deluge</td>\n",
              "      <td>NaN</td>\n",
              "      <td>The f$&amp;amp;@ing things I do for #GISHWHES Just...</td>\n",
              "      <td>0</td>\n",
              "    </tr>\n",
              "    <tr>\n",
              "      <th>5448</th>\n",
              "      <td>7769</td>\n",
              "      <td>police</td>\n",
              "      <td>UK</td>\n",
              "      <td>DT @georgegalloway: RT @Galloway4Mayor: ÛÏThe...</td>\n",
              "      <td>1</td>\n",
              "    </tr>\n",
              "    <tr>\n",
              "      <th>132</th>\n",
              "      <td>191</td>\n",
              "      <td>aftershock</td>\n",
              "      <td>NaN</td>\n",
              "      <td>Aftershock back to school kick off was great. ...</td>\n",
              "      <td>0</td>\n",
              "    </tr>\n",
              "    <tr>\n",
              "      <th>6845</th>\n",
              "      <td>9810</td>\n",
              "      <td>trauma</td>\n",
              "      <td>Montgomery County, MD</td>\n",
              "      <td>in response to trauma Children of Addicts deve...</td>\n",
              "      <td>0</td>\n",
              "    </tr>\n",
              "  </tbody>\n",
              "</table>\n",
              "</div>\n",
              "      <button class=\"colab-df-convert\" onclick=\"convertToInteractive('df-310fcc6f-1fe0-422a-84fa-c7d8e590cbb6')\"\n",
              "              title=\"Convert this dataframe to an interactive table.\"\n",
              "              style=\"display:none;\">\n",
              "        \n",
              "  <svg xmlns=\"http://www.w3.org/2000/svg\" height=\"24px\"viewBox=\"0 0 24 24\"\n",
              "       width=\"24px\">\n",
              "    <path d=\"M0 0h24v24H0V0z\" fill=\"none\"/>\n",
              "    <path d=\"M18.56 5.44l.94 2.06.94-2.06 2.06-.94-2.06-.94-.94-2.06-.94 2.06-2.06.94zm-11 1L8.5 8.5l.94-2.06 2.06-.94-2.06-.94L8.5 2.5l-.94 2.06-2.06.94zm10 10l.94 2.06.94-2.06 2.06-.94-2.06-.94-.94-2.06-.94 2.06-2.06.94z\"/><path d=\"M17.41 7.96l-1.37-1.37c-.4-.4-.92-.59-1.43-.59-.52 0-1.04.2-1.43.59L10.3 9.45l-7.72 7.72c-.78.78-.78 2.05 0 2.83L4 21.41c.39.39.9.59 1.41.59.51 0 1.02-.2 1.41-.59l7.78-7.78 2.81-2.81c.8-.78.8-2.07 0-2.86zM5.41 20L4 18.59l7.72-7.72 1.47 1.35L5.41 20z\"/>\n",
              "  </svg>\n",
              "      </button>\n",
              "      \n",
              "  <style>\n",
              "    .colab-df-container {\n",
              "      display:flex;\n",
              "      flex-wrap:wrap;\n",
              "      gap: 12px;\n",
              "    }\n",
              "\n",
              "    .colab-df-convert {\n",
              "      background-color: #E8F0FE;\n",
              "      border: none;\n",
              "      border-radius: 50%;\n",
              "      cursor: pointer;\n",
              "      display: none;\n",
              "      fill: #1967D2;\n",
              "      height: 32px;\n",
              "      padding: 0 0 0 0;\n",
              "      width: 32px;\n",
              "    }\n",
              "\n",
              "    .colab-df-convert:hover {\n",
              "      background-color: #E2EBFA;\n",
              "      box-shadow: 0px 1px 2px rgba(60, 64, 67, 0.3), 0px 1px 3px 1px rgba(60, 64, 67, 0.15);\n",
              "      fill: #174EA6;\n",
              "    }\n",
              "\n",
              "    [theme=dark] .colab-df-convert {\n",
              "      background-color: #3B4455;\n",
              "      fill: #D2E3FC;\n",
              "    }\n",
              "\n",
              "    [theme=dark] .colab-df-convert:hover {\n",
              "      background-color: #434B5C;\n",
              "      box-shadow: 0px 1px 3px 1px rgba(0, 0, 0, 0.15);\n",
              "      filter: drop-shadow(0px 1px 2px rgba(0, 0, 0, 0.3));\n",
              "      fill: #FFFFFF;\n",
              "    }\n",
              "  </style>\n",
              "\n",
              "      <script>\n",
              "        const buttonEl =\n",
              "          document.querySelector('#df-310fcc6f-1fe0-422a-84fa-c7d8e590cbb6 button.colab-df-convert');\n",
              "        buttonEl.style.display =\n",
              "          google.colab.kernel.accessAllowed ? 'block' : 'none';\n",
              "\n",
              "        async function convertToInteractive(key) {\n",
              "          const element = document.querySelector('#df-310fcc6f-1fe0-422a-84fa-c7d8e590cbb6');\n",
              "          const dataTable =\n",
              "            await google.colab.kernel.invokeFunction('convertToInteractive',\n",
              "                                                     [key], {});\n",
              "          if (!dataTable) return;\n",
              "\n",
              "          const docLinkHtml = 'Like what you see? Visit the ' +\n",
              "            '<a target=\"_blank\" href=https://colab.research.google.com/notebooks/data_table.ipynb>data table notebook</a>'\n",
              "            + ' to learn more about interactive tables.';\n",
              "          element.innerHTML = '';\n",
              "          dataTable['output_type'] = 'display_data';\n",
              "          await google.colab.output.renderOutput(dataTable, element);\n",
              "          const docLink = document.createElement('div');\n",
              "          docLink.innerHTML = docLinkHtml;\n",
              "          element.appendChild(docLink);\n",
              "        }\n",
              "      </script>\n",
              "    </div>\n",
              "  </div>\n",
              "  "
            ]
          },
          "metadata": {},
          "execution_count": 5
        }
      ]
    },
    {
      "cell_type": "code",
      "source": [
        "# what the test dataframe look like?\n",
        "test_df.head()"
      ],
      "metadata": {
        "colab": {
          "base_uri": "https://localhost:8080/",
          "height": 206
        },
        "id": "yvr1x0RgZ-xt",
        "outputId": "b1021db3-8238-44a6-d060-a562ba315345"
      },
      "execution_count": null,
      "outputs": [
        {
          "output_type": "execute_result",
          "data": {
            "text/plain": [
              "   id keyword location                                               text\n",
              "0   0     NaN      NaN                 Just happened a terrible car crash\n",
              "1   2     NaN      NaN  Heard about #earthquake is different cities, s...\n",
              "2   3     NaN      NaN  there is a forest fire at spot pond, geese are...\n",
              "3   9     NaN      NaN           Apocalypse lighting. #Spokane #wildfires\n",
              "4  11     NaN      NaN      Typhoon Soudelor kills 28 in China and Taiwan"
            ],
            "text/html": [
              "\n",
              "  <div id=\"df-de6ac6de-d1b4-4115-be9b-f8982da704a4\">\n",
              "    <div class=\"colab-df-container\">\n",
              "      <div>\n",
              "<style scoped>\n",
              "    .dataframe tbody tr th:only-of-type {\n",
              "        vertical-align: middle;\n",
              "    }\n",
              "\n",
              "    .dataframe tbody tr th {\n",
              "        vertical-align: top;\n",
              "    }\n",
              "\n",
              "    .dataframe thead th {\n",
              "        text-align: right;\n",
              "    }\n",
              "</style>\n",
              "<table border=\"1\" class=\"dataframe\">\n",
              "  <thead>\n",
              "    <tr style=\"text-align: right;\">\n",
              "      <th></th>\n",
              "      <th>id</th>\n",
              "      <th>keyword</th>\n",
              "      <th>location</th>\n",
              "      <th>text</th>\n",
              "    </tr>\n",
              "  </thead>\n",
              "  <tbody>\n",
              "    <tr>\n",
              "      <th>0</th>\n",
              "      <td>0</td>\n",
              "      <td>NaN</td>\n",
              "      <td>NaN</td>\n",
              "      <td>Just happened a terrible car crash</td>\n",
              "    </tr>\n",
              "    <tr>\n",
              "      <th>1</th>\n",
              "      <td>2</td>\n",
              "      <td>NaN</td>\n",
              "      <td>NaN</td>\n",
              "      <td>Heard about #earthquake is different cities, s...</td>\n",
              "    </tr>\n",
              "    <tr>\n",
              "      <th>2</th>\n",
              "      <td>3</td>\n",
              "      <td>NaN</td>\n",
              "      <td>NaN</td>\n",
              "      <td>there is a forest fire at spot pond, geese are...</td>\n",
              "    </tr>\n",
              "    <tr>\n",
              "      <th>3</th>\n",
              "      <td>9</td>\n",
              "      <td>NaN</td>\n",
              "      <td>NaN</td>\n",
              "      <td>Apocalypse lighting. #Spokane #wildfires</td>\n",
              "    </tr>\n",
              "    <tr>\n",
              "      <th>4</th>\n",
              "      <td>11</td>\n",
              "      <td>NaN</td>\n",
              "      <td>NaN</td>\n",
              "      <td>Typhoon Soudelor kills 28 in China and Taiwan</td>\n",
              "    </tr>\n",
              "  </tbody>\n",
              "</table>\n",
              "</div>\n",
              "      <button class=\"colab-df-convert\" onclick=\"convertToInteractive('df-de6ac6de-d1b4-4115-be9b-f8982da704a4')\"\n",
              "              title=\"Convert this dataframe to an interactive table.\"\n",
              "              style=\"display:none;\">\n",
              "        \n",
              "  <svg xmlns=\"http://www.w3.org/2000/svg\" height=\"24px\"viewBox=\"0 0 24 24\"\n",
              "       width=\"24px\">\n",
              "    <path d=\"M0 0h24v24H0V0z\" fill=\"none\"/>\n",
              "    <path d=\"M18.56 5.44l.94 2.06.94-2.06 2.06-.94-2.06-.94-.94-2.06-.94 2.06-2.06.94zm-11 1L8.5 8.5l.94-2.06 2.06-.94-2.06-.94L8.5 2.5l-.94 2.06-2.06.94zm10 10l.94 2.06.94-2.06 2.06-.94-2.06-.94-.94-2.06-.94 2.06-2.06.94z\"/><path d=\"M17.41 7.96l-1.37-1.37c-.4-.4-.92-.59-1.43-.59-.52 0-1.04.2-1.43.59L10.3 9.45l-7.72 7.72c-.78.78-.78 2.05 0 2.83L4 21.41c.39.39.9.59 1.41.59.51 0 1.02-.2 1.41-.59l7.78-7.78 2.81-2.81c.8-.78.8-2.07 0-2.86zM5.41 20L4 18.59l7.72-7.72 1.47 1.35L5.41 20z\"/>\n",
              "  </svg>\n",
              "      </button>\n",
              "      \n",
              "  <style>\n",
              "    .colab-df-container {\n",
              "      display:flex;\n",
              "      flex-wrap:wrap;\n",
              "      gap: 12px;\n",
              "    }\n",
              "\n",
              "    .colab-df-convert {\n",
              "      background-color: #E8F0FE;\n",
              "      border: none;\n",
              "      border-radius: 50%;\n",
              "      cursor: pointer;\n",
              "      display: none;\n",
              "      fill: #1967D2;\n",
              "      height: 32px;\n",
              "      padding: 0 0 0 0;\n",
              "      width: 32px;\n",
              "    }\n",
              "\n",
              "    .colab-df-convert:hover {\n",
              "      background-color: #E2EBFA;\n",
              "      box-shadow: 0px 1px 2px rgba(60, 64, 67, 0.3), 0px 1px 3px 1px rgba(60, 64, 67, 0.15);\n",
              "      fill: #174EA6;\n",
              "    }\n",
              "\n",
              "    [theme=dark] .colab-df-convert {\n",
              "      background-color: #3B4455;\n",
              "      fill: #D2E3FC;\n",
              "    }\n",
              "\n",
              "    [theme=dark] .colab-df-convert:hover {\n",
              "      background-color: #434B5C;\n",
              "      box-shadow: 0px 1px 3px 1px rgba(0, 0, 0, 0.15);\n",
              "      filter: drop-shadow(0px 1px 2px rgba(0, 0, 0, 0.3));\n",
              "      fill: #FFFFFF;\n",
              "    }\n",
              "  </style>\n",
              "\n",
              "      <script>\n",
              "        const buttonEl =\n",
              "          document.querySelector('#df-de6ac6de-d1b4-4115-be9b-f8982da704a4 button.colab-df-convert');\n",
              "        buttonEl.style.display =\n",
              "          google.colab.kernel.accessAllowed ? 'block' : 'none';\n",
              "\n",
              "        async function convertToInteractive(key) {\n",
              "          const element = document.querySelector('#df-de6ac6de-d1b4-4115-be9b-f8982da704a4');\n",
              "          const dataTable =\n",
              "            await google.colab.kernel.invokeFunction('convertToInteractive',\n",
              "                                                     [key], {});\n",
              "          if (!dataTable) return;\n",
              "\n",
              "          const docLinkHtml = 'Like what you see? Visit the ' +\n",
              "            '<a target=\"_blank\" href=https://colab.research.google.com/notebooks/data_table.ipynb>data table notebook</a>'\n",
              "            + ' to learn more about interactive tables.';\n",
              "          element.innerHTML = '';\n",
              "          dataTable['output_type'] = 'display_data';\n",
              "          await google.colab.output.renderOutput(dataTable, element);\n",
              "          const docLink = document.createElement('div');\n",
              "          docLink.innerHTML = docLinkHtml;\n",
              "          element.appendChild(docLink);\n",
              "        }\n",
              "      </script>\n",
              "    </div>\n",
              "  </div>\n",
              "  "
            ]
          },
          "metadata": {},
          "execution_count": 6
        }
      ]
    },
    {
      "cell_type": "code",
      "source": [
        "# how many example of each class?\n",
        "train_df.target.value_counts()"
      ],
      "metadata": {
        "colab": {
          "base_uri": "https://localhost:8080/"
        },
        "id": "dAVlo_vIaS6S",
        "outputId": "256cbbe2-feac-4068-f1fc-c53e262651b4"
      },
      "execution_count": null,
      "outputs": [
        {
          "output_type": "execute_result",
          "data": {
            "text/plain": [
              "0    4342\n",
              "1    3271\n",
              "Name: target, dtype: int64"
            ]
          },
          "metadata": {},
          "execution_count": 7
        }
      ]
    },
    {
      "cell_type": "code",
      "source": [
        "# how many total samples?\n",
        "len(train_df), len(test_df)"
      ],
      "metadata": {
        "colab": {
          "base_uri": "https://localhost:8080/"
        },
        "id": "qCfcYhqhaoVu",
        "outputId": "9176577b-1c4b-4c10-f4af-ff449f6f6c53"
      },
      "execution_count": null,
      "outputs": [
        {
          "output_type": "execute_result",
          "data": {
            "text/plain": [
              "(7613, 3263)"
            ]
          },
          "metadata": {},
          "execution_count": 8
        }
      ]
    },
    {
      "cell_type": "code",
      "source": [
        "# let's visualize some random training example\n",
        "import random\n",
        "random_index = random.randint(0, len(train_df)-5)\n",
        "for row in train_df_shuffle[[\"text\", \"target\"]][random_index:random_index+5].itertuples():\n",
        "  _, text, target = row\n",
        "  print(f\"Target: {target}\", \"{real disaster}\" if target>0 else \"{not real disaster}\")\n",
        "  print(f\"Text: {text}\")\n",
        "  print(f\"-----\\n\")"
      ],
      "metadata": {
        "colab": {
          "base_uri": "https://localhost:8080/"
        },
        "id": "xuxAFfKjbvQV",
        "outputId": "c5ade7f8-27b5-4a5d-d1b5-53810b9a79d1"
      },
      "execution_count": null,
      "outputs": [
        {
          "output_type": "stream",
          "name": "stdout",
          "text": [
            "Target: 1 {real disaster}\n",
            "Text: Doves - The Storm + Greatest Denier (Electric Proms Pt4) http://t.co/xjTpV4OydL\n",
            "-----\n",
            "\n",
            "Target: 1 {real disaster}\n",
            "Text: #NASA announced that a massive #solar storm is headed straight for us: http://t.co/CM5u55MiOl\n",
            "-----\n",
            "\n",
            "Target: 0 {not real disaster}\n",
            "Text: @StephanieMarija 'light rain' was the forecast I based my dressing on. Light. Rain. Not incessant deluge!\n",
            "-----\n",
            "\n",
            "Target: 1 {real disaster}\n",
            "Text: I think a Typhoon just passed through here lol\n",
            "-----\n",
            "\n",
            "Target: 0 {not real disaster}\n",
            "Text: Shirley Caesar - Windstorm http://t.co/KoCH8SLasQ #nowplaying #listenlive\n",
            "-----\n",
            "\n"
          ]
        }
      ]
    },
    {
      "cell_type": "markdown",
      "source": [
        "## Split data into training and validation"
      ],
      "metadata": {
        "id": "ahkBSFUuef55"
      }
    },
    {
      "cell_type": "code",
      "source": [
        "from sklearn.model_selection import train_test_split"
      ],
      "metadata": {
        "id": "5Nk3-mV3lXCX"
      },
      "execution_count": null,
      "outputs": []
    },
    {
      "cell_type": "code",
      "source": [
        "# split data\n",
        "train_sentences, val_sentence, train_labels, val_labels = train_test_split(train_df_shuffle[\"text\"].to_numpy(),\n",
        "                                                                           train_df_shuffle[\"target\"].to_numpy(),\n",
        "                                                                           test_size=0.1,\n",
        "                                                                           random_state=42)"
      ],
      "metadata": {
        "id": "vyLeoSNsloyQ"
      },
      "execution_count": null,
      "outputs": []
    },
    {
      "cell_type": "code",
      "source": [
        "# check lengths\n",
        "len(train_sentences), len(train_labels), len(val_sentence), len(val_labels)"
      ],
      "metadata": {
        "colab": {
          "base_uri": "https://localhost:8080/"
        },
        "id": "NLWR1DHaFjnb",
        "outputId": "1edcd38a-9cc7-43ec-b4e8-4c529671bbfa"
      },
      "execution_count": null,
      "outputs": [
        {
          "output_type": "execute_result",
          "data": {
            "text/plain": [
              "(6851, 6851, 762, 762)"
            ]
          },
          "metadata": {},
          "execution_count": 12
        }
      ]
    },
    {
      "cell_type": "code",
      "source": [
        "# check the first 10 samples\n",
        "train_sentences[:10], train_labels[:10]"
      ],
      "metadata": {
        "colab": {
          "base_uri": "https://localhost:8080/"
        },
        "id": "9vXYs6MwGIu6",
        "outputId": "1abebb75-0d71-46b8-e0df-a439026c0c9d"
      },
      "execution_count": null,
      "outputs": [
        {
          "output_type": "execute_result",
          "data": {
            "text/plain": [
              "(array(['@mogacola @zamtriossu i screamed after hitting tweet',\n",
              "        'Imagine getting flattened by Kurt Zouma',\n",
              "        '@Gurmeetramrahim #MSGDoing111WelfareWorks Green S welfare force ke appx 65000 members har time disaster victim ki help ke liye tyar hai....',\n",
              "        \"@shakjn @C7 @Magnums im shaking in fear he's gonna hack the planet\",\n",
              "        'Somehow find you and I collide http://t.co/Ee8RpOahPk',\n",
              "        '@EvaHanderek @MarleyKnysh great times until the bus driver held us hostage in the mall parking lot lmfao',\n",
              "        'destroy the free fandom honestly',\n",
              "        'Weapons stolen from National Guard Armory in New Albany still missing #Gunsense http://t.co/lKNU8902JE',\n",
              "        '@wfaaweather Pete when will the heat wave pass? Is it really going to be mid month? Frisco Boy Scouts have a canoe trip in Okla.',\n",
              "        'Patient-reported outcomes in long-term survivors of metastatic colorectal cancer - British Journal of Surgery http://t.co/5Yl4DC1Tqt'],\n",
              "       dtype=object), array([0, 0, 1, 0, 0, 1, 1, 0, 1, 1]))"
            ]
          },
          "metadata": {},
          "execution_count": 13
        }
      ]
    },
    {
      "cell_type": "markdown",
      "source": [
        "## Converting Text into Numbers\n",
        "\n",
        "In NLP, there are two main concepts for turning text into numbers\n",
        "\n",
        "1. Tokenization - A straight mapping from word or character or sub-word to a numerical value.\n",
        "- word-level tokenization\n",
        "- character-level tokenization\n",
        "- sub-word tokenization\n",
        "\n",
        "2. Embeddings -word embedding is the process of converting text data to numerical vectors.  An embedding is a representation of natural language which can be learned.\n",
        "- Create your own embedding (tf.keras.layers.Embedding)\n",
        "- Resuse a pre-learned embedding \n"
      ],
      "metadata": {
        "id": "PQFLMgsaGwLq"
      }
    },
    {
      "cell_type": "code",
      "source": [
        "train_sentences[:10]"
      ],
      "metadata": {
        "colab": {
          "base_uri": "https://localhost:8080/"
        },
        "id": "UDzlYC-rYF-b",
        "outputId": "db0ec732-fc97-42a9-b2e7-0d401c4ecf3c"
      },
      "execution_count": null,
      "outputs": [
        {
          "output_type": "execute_result",
          "data": {
            "text/plain": [
              "array(['@mogacola @zamtriossu i screamed after hitting tweet',\n",
              "       'Imagine getting flattened by Kurt Zouma',\n",
              "       '@Gurmeetramrahim #MSGDoing111WelfareWorks Green S welfare force ke appx 65000 members har time disaster victim ki help ke liye tyar hai....',\n",
              "       \"@shakjn @C7 @Magnums im shaking in fear he's gonna hack the planet\",\n",
              "       'Somehow find you and I collide http://t.co/Ee8RpOahPk',\n",
              "       '@EvaHanderek @MarleyKnysh great times until the bus driver held us hostage in the mall parking lot lmfao',\n",
              "       'destroy the free fandom honestly',\n",
              "       'Weapons stolen from National Guard Armory in New Albany still missing #Gunsense http://t.co/lKNU8902JE',\n",
              "       '@wfaaweather Pete when will the heat wave pass? Is it really going to be mid month? Frisco Boy Scouts have a canoe trip in Okla.',\n",
              "       'Patient-reported outcomes in long-term survivors of metastatic colorectal cancer - British Journal of Surgery http://t.co/5Yl4DC1Tqt'],\n",
              "      dtype=object)"
            ]
          },
          "metadata": {},
          "execution_count": 14
        }
      ]
    },
    {
      "cell_type": "code",
      "source": [
        "import tensorflow as tf\n",
        "from tensorflow.keras.layers import TextVectorization\n",
        "\n",
        "# Use the default TextVectorization prameters\n",
        "text_vectorizer = TextVectorization(max_tokens=None, # how many words in vocabulary (auto add <oov>)\n",
        "                                    standardize='lower_and_strip_punctuation',\n",
        "                                    split='whitespace',\n",
        "                                    ngrams=None, # create groups of n-words?\n",
        "                                    output_mode='int', # how to map token to numbers\n",
        "                                    output_sequence_length=None, # how long do you want your sequence to be?\n",
        "                                    pad_to_max_tokens=False)"
      ],
      "metadata": {
        "id": "ZWs97_-QaIy2"
      },
      "execution_count": null,
      "outputs": []
    },
    {
      "cell_type": "code",
      "source": [
        "len(train_sentences[0].split())"
      ],
      "metadata": {
        "colab": {
          "base_uri": "https://localhost:8080/"
        },
        "id": "D-okqPM8bSZb",
        "outputId": "88496abd-5382-4f7b-da2e-59f2b3176d8e"
      },
      "execution_count": null,
      "outputs": [
        {
          "output_type": "execute_result",
          "data": {
            "text/plain": [
              "7"
            ]
          },
          "metadata": {},
          "execution_count": 16
        }
      ]
    },
    {
      "cell_type": "code",
      "source": [
        "# find average number of tokens (word) in training tweets\n",
        "round(sum([len(i.split()) for i in train_sentences]) / len(train_sentences))"
      ],
      "metadata": {
        "colab": {
          "base_uri": "https://localhost:8080/"
        },
        "id": "MfG9iFOYeaGQ",
        "outputId": "bed1f27e-3102-40fb-a4ff-b6a7bf3836c3"
      },
      "execution_count": null,
      "outputs": [
        {
          "output_type": "execute_result",
          "data": {
            "text/plain": [
              "15"
            ]
          },
          "metadata": {},
          "execution_count": 17
        }
      ]
    },
    {
      "cell_type": "code",
      "source": [
        "# seup text vectorization variables\n",
        "max_vocab_length=10000 # max number of words to have in our vocabulary\n",
        "max_length = 15 # max lenght our sequences will be (eg. how many words from a tweet does a model see?)\n",
        "\n",
        "text_vectorizer = TextVectorization(max_tokens=max_vocab_length,\n",
        "                                    output_mode=\"int\",\n",
        "                                    output_sequence_length=max_length)"
      ],
      "metadata": {
        "id": "kG5bHmoHe0fW"
      },
      "execution_count": null,
      "outputs": []
    },
    {
      "cell_type": "code",
      "source": [
        "# fit the text vectorizer to training text\n",
        "text_vectorizer.adapt(train_sentences)"
      ],
      "metadata": {
        "id": "QsCE5jPygDzc"
      },
      "execution_count": null,
      "outputs": []
    },
    {
      "cell_type": "code",
      "source": [
        "# create a sample sentence and tokenize it\n",
        "sample_sentense = \"There is a flood in my street!\"\n",
        "text_vectorizer([sample_sentense])"
      ],
      "metadata": {
        "colab": {
          "base_uri": "https://localhost:8080/"
        },
        "id": "Kz8cJ-JGkHDP",
        "outputId": "328ff86c-5ba1-4841-dced-e4c3c37e4e75"
      },
      "execution_count": null,
      "outputs": [
        {
          "output_type": "execute_result",
          "data": {
            "text/plain": [
              "<tf.Tensor: shape=(1, 15), dtype=int64, numpy=\n",
              "array([[ 74,   9,   3, 232,   4,  13, 698,   0,   0,   0,   0,   0,   0,\n",
              "          0,   0]])>"
            ]
          },
          "metadata": {},
          "execution_count": 20
        }
      ]
    },
    {
      "cell_type": "code",
      "source": [
        "# choose a random sentence from the training dataset and tokenize it\n",
        "random_sentence = random.choice(train_sentences)\n",
        "print(f\"Original text: \\n {random_sentence}\\\n",
        "      \\n\\nVectorized version:\")\n",
        "text_vectorizer([random_sentence])"
      ],
      "metadata": {
        "colab": {
          "base_uri": "https://localhost:8080/"
        },
        "id": "xW6rrkxBkoh5",
        "outputId": "9deab246-bf9a-4b19-a370-e9a906fef3f2"
      },
      "execution_count": null,
      "outputs": [
        {
          "output_type": "stream",
          "name": "stdout",
          "text": [
            "Original text: \n",
            " Senators calling for emergency housing: Boxer Feinstein back plan to move #homeless vets to VA campus http://t.co/Gm80X3vutf      \n",
            "\n",
            "Vectorized version:\n"
          ]
        },
        {
          "output_type": "execute_result",
          "data": {
            "text/plain": [
              "<tf.Tensor: shape=(1, 15), dtype=int64, numpy=\n",
              "array([[8664, 1705,   10,   73, 2433, 3141, 5657,   88,  241,    5,  769,\n",
              "        2093, 2619,    5, 2623]])>"
            ]
          },
          "metadata": {},
          "execution_count": 21
        }
      ]
    },
    {
      "cell_type": "code",
      "source": [
        "# get the unique words in the vocabulary\n",
        "words_in_vocab = text_vectorizer.get_vocabulary()\n",
        "top_5_words = words_in_vocab[:5]\n",
        "bottom_5_words = words_in_vocab[-5:]\n",
        "print(f\"Number of words in vocab :{len(words_in_vocab)}\\\n",
        "      \\n5 most common words: {top_5_words}\\\n",
        "      \\n5 least common words: {bottom_5_words}\")"
      ],
      "metadata": {
        "colab": {
          "base_uri": "https://localhost:8080/"
        },
        "id": "CPP5jjsTl4o8",
        "outputId": "432256ff-e18b-44ac-8298-4457fcbd52e1"
      },
      "execution_count": null,
      "outputs": [
        {
          "output_type": "stream",
          "name": "stdout",
          "text": [
            "Number of words in vocab :10000      \n",
            "5 most common words: ['', '[UNK]', 'the', 'a', 'in']      \n",
            "5 least common words: ['pages', 'paeds', 'pads', 'padres', 'paddytomlinson1']\n"
          ]
        }
      ]
    },
    {
      "cell_type": "markdown",
      "source": [
        "## Creating an Embedding using an Embedding LAyer\n",
        "\n",
        "To make our embedding, we're going to use Tensorflow's embedding layer:https://www.tensorflow.org/api_docs/python/tf/keras/layers/Embedding\n",
        "\n",
        "The parameters we care most about for our embedding layers:\n",
        "- `input_dim` : Size of the vocabulary\n",
        "- `output_dim` : Size of output embedding vector, for eg. a value of 100 would mean each token gets reprented by a vector 100 long\n",
        "- `input_lenght` : Length of the sequences being passed to the embedding layer"
      ],
      "metadata": {
        "id": "uY29mVHun7ze"
      }
    },
    {
      "cell_type": "code",
      "source": [
        "from tensorflow.keras import layers\n",
        "\n",
        "embedding = layers.Embedding(input_dim=max_vocab_length,# set input shape\n",
        "                             output_dim=128, # output shape\n",
        "                             input_length=max_length # how long is each input\n",
        "                             )\n",
        "embedding"
      ],
      "metadata": {
        "colab": {
          "base_uri": "https://localhost:8080/"
        },
        "id": "rFmv3_EAd0DH",
        "outputId": "9ba71e83-3d50-4088-bc3d-f8b0f31412c5"
      },
      "execution_count": null,
      "outputs": [
        {
          "output_type": "execute_result",
          "data": {
            "text/plain": [
              "<keras.layers.core.embedding.Embedding at 0x7f29104bb400>"
            ]
          },
          "metadata": {},
          "execution_count": 23
        }
      ]
    },
    {
      "cell_type": "code",
      "source": [
        "# get a random sentence from the training set\n",
        "random_sentence = random.choice(train_sentences)\n",
        "print(f\"Original text \\n {random_sentence}\\\n",
        "    \\n\\n Embedbed version:\")\n",
        "\n",
        "# Embeded the random sentence (turn sentence into numetric form)\n",
        "sample_embed = embedding(text_vectorizer([random_sentence]))\n",
        "sample_embed"
      ],
      "metadata": {
        "colab": {
          "base_uri": "https://localhost:8080/"
        },
        "id": "tFbMhMoVePr3",
        "outputId": "9bf02940-51d3-4441-e0a9-e3a8756b2f40"
      },
      "execution_count": null,
      "outputs": [
        {
          "output_type": "stream",
          "name": "stdout",
          "text": [
            "Original text \n",
            " I just made a weird high pitched noise and then I heard a siren ofnsixjks ??????    \n",
            "\n",
            " Embedbed version:\n"
          ]
        },
        {
          "output_type": "execute_result",
          "data": {
            "text/plain": [
              "<tf.Tensor: shape=(1, 15, 128), dtype=float32, numpy=\n",
              "array([[[ 0.01507868, -0.0357944 , -0.00058181, ..., -0.02154465,\n",
              "         -0.00363879, -0.01299015],\n",
              "        [ 0.04006595,  0.02393884,  0.04324177, ..., -0.0139709 ,\n",
              "          0.01496125, -0.02663397],\n",
              "        [ 0.01767914,  0.04122286, -0.00791372, ...,  0.04006625,\n",
              "         -0.01908134, -0.01173701],\n",
              "        ...,\n",
              "        [ 0.04695362, -0.04032891, -0.04796262, ..., -0.00352197,\n",
              "         -0.01576615,  0.02364695],\n",
              "        [ 0.04981569,  0.01300354, -0.00632912, ..., -0.04183821,\n",
              "          0.00304103, -0.03175875],\n",
              "        [-0.04703338,  0.03654352,  0.01483021, ...,  0.00575266,\n",
              "          0.04832793, -0.00265867]]], dtype=float32)>"
            ]
          },
          "metadata": {},
          "execution_count": 24
        }
      ]
    },
    {
      "cell_type": "code",
      "source": [
        "# check out a single token's embedding\n",
        "sample_embed[0][0], sample_embed[0][0].shape, random_sentence"
      ],
      "metadata": {
        "colab": {
          "base_uri": "https://localhost:8080/"
        },
        "id": "LhWmms_0eZi3",
        "outputId": "222b2b11-1701-4a36-9ba4-e57fb40f3399"
      },
      "execution_count": null,
      "outputs": [
        {
          "output_type": "execute_result",
          "data": {
            "text/plain": [
              "(<tf.Tensor: shape=(128,), dtype=float32, numpy=\n",
              " array([ 0.01507868, -0.0357944 , -0.00058181,  0.02489319,  0.01729324,\n",
              "        -0.04607768, -0.02827063,  0.04034693, -0.03852577, -0.0021318 ,\n",
              "         0.04878419,  0.03518851,  0.0480201 ,  0.02089932,  0.02991103,\n",
              "         0.03813303,  0.01427453, -0.03254842,  0.02529887,  0.01631561,\n",
              "         0.007138  ,  0.01195035, -0.0350057 , -0.01592553,  0.02251747,\n",
              "         0.00706721,  0.0432549 ,  0.01987579, -0.03869933,  0.04992059,\n",
              "         0.03220553, -0.0019895 ,  0.02761516,  0.04943143,  0.00612081,\n",
              "         0.035689  , -0.02686528,  0.04204706, -0.00466963,  0.01307306,\n",
              "         0.03997489, -0.03583685,  0.0425523 ,  0.00857929, -0.042886  ,\n",
              "         0.01387472, -0.01234444,  0.01361645,  0.03112436,  0.01654396,\n",
              "        -0.01716577,  0.02294989, -0.04055657,  0.0241176 , -0.02178047,\n",
              "         0.04997337, -0.03773042, -0.00432303, -0.03213724, -0.00485873,\n",
              "        -0.03185221,  0.01714555, -0.02023832, -0.01604642,  0.02180493,\n",
              "         0.02526027, -0.02899662,  0.02839284,  0.04070446, -0.00925557,\n",
              "        -0.04841745, -0.01918169, -0.04495425,  0.03338845, -0.00654829,\n",
              "         0.02497704,  0.04760775,  0.03659418, -0.00190854,  0.03904409,\n",
              "         0.01090847, -0.04221499, -0.04799414,  0.02784229,  0.02239397,\n",
              "        -0.04363095,  0.00238403,  0.03048271, -0.04855925, -0.00481291,\n",
              "        -0.01510625,  0.0122674 ,  0.02749297,  0.04667182, -0.01205047,\n",
              "        -0.00691326,  0.00279012,  0.01009321,  0.04514885, -0.01628921,\n",
              "         0.01770271, -0.01467504, -0.04344698, -0.00071507, -0.04499297,\n",
              "         0.03703985,  0.00101095,  0.00100166,  0.04207948, -0.00802387,\n",
              "        -0.00330468, -0.0299823 ,  0.04766715,  0.02730999,  0.0158442 ,\n",
              "         0.03000415, -0.01715318,  0.0482816 , -0.03511028, -0.00192885,\n",
              "         0.01057204,  0.03355063, -0.02608201, -0.03841877,  0.04879526,\n",
              "        -0.02154465, -0.00363879, -0.01299015], dtype=float32)>,\n",
              " TensorShape([128]),\n",
              " 'I just made a weird high pitched noise and then I heard a siren ofnsixjks ??????')"
            ]
          },
          "metadata": {},
          "execution_count": 25
        }
      ]
    },
    {
      "cell_type": "markdown",
      "source": [
        "## Modeling a text dataset (running a series of experiments)\n",
        "\n",
        "Now we've a got way to turn our text sequences into numbers, it's time to start building a series of modelling experiments.\n",
        "we'll start with a baseline and move on from there.\n",
        "- Model 0: Naive Bayes (baseline), this is from ML map: https://scikit-learn.org/stable/tutorial/machine_learning_map/index.html\n",
        "- Model 1 : Feed-forward neural network (dense model)\n",
        "- Model 2 : LSTM model (RNN)\n",
        "- Model 3 : GRU model (RNN)\n",
        "- Model 4 : Bidirectional-LSTM model (RNN)\n",
        "- Model 5 : 1D Convolutional neural network\n",
        "- Model 6 : Tensorflow Hub Pretrained Feature Extractor (using trasfer learning for NLP)\n",
        "- Model 7 : Same as model 6 with 10% training data\n",
        "\n",
        "*Steps in modelling with tensorflow:*\n",
        "- Create a model\n",
        "- Build a model\n",
        "- Fit a model\n",
        "- Evaluate our model\n"
      ],
      "metadata": {
        "id": "tRt_LcF_hqQd"
      }
    },
    {
      "cell_type": "markdown",
      "source": [
        "#### Model 0 : Getting a Baseline\n",
        "As with all machine learning modelling experiments, it's important to create a baseline model so you've got a benchmark for future experimets to build upon.\n",
        "\n",
        "To create our baseline, we'll use Sklearn's multinominal Naive Bayes using the TF-IDF formula to convert our words to numbers.\n",
        "\n",
        "🔑 Note : It's common practice to use non-DL algorithms as a baseline because of their speed and then later using DL to see if you can improve upon them."
      ],
      "metadata": {
        "id": "zICr2G6vpCYl"
      }
    },
    {
      "cell_type": "code",
      "source": [
        "from sklearn.feature_extraction.text import TfidfVectorizer\n",
        "from sklearn.naive_bayes import MultinomialNB\n",
        "from sklearn.pipeline import Pipeline\n",
        "\n",
        "# create tokenization and modelling pipeline\n",
        "model_0 = Pipeline([\n",
        "    (\"tfidf\", TfidfVectorizer()), # convert word to numbers using tfidf\n",
        "     (\"clf\", MultinomialNB()) # model the text\n",
        "])\n",
        "\n",
        "# fit the pipeline to the training data\n",
        "model_0.fit(train_sentences, train_labels)"
      ],
      "metadata": {
        "colab": {
          "base_uri": "https://localhost:8080/",
          "height": 125
        },
        "id": "tpc6tze72Hh8",
        "outputId": "f4c67e32-ccff-4b57-c4f8-049ecf192cbc"
      },
      "execution_count": null,
      "outputs": [
        {
          "output_type": "execute_result",
          "data": {
            "text/plain": [
              "Pipeline(steps=[('tfidf', TfidfVectorizer()), ('clf', MultinomialNB())])"
            ],
            "text/html": [
              "<style>#sk-container-id-1 {color: black;background-color: white;}#sk-container-id-1 pre{padding: 0;}#sk-container-id-1 div.sk-toggleable {background-color: white;}#sk-container-id-1 label.sk-toggleable__label {cursor: pointer;display: block;width: 100%;margin-bottom: 0;padding: 0.3em;box-sizing: border-box;text-align: center;}#sk-container-id-1 label.sk-toggleable__label-arrow:before {content: \"▸\";float: left;margin-right: 0.25em;color: #696969;}#sk-container-id-1 label.sk-toggleable__label-arrow:hover:before {color: black;}#sk-container-id-1 div.sk-estimator:hover label.sk-toggleable__label-arrow:before {color: black;}#sk-container-id-1 div.sk-toggleable__content {max-height: 0;max-width: 0;overflow: hidden;text-align: left;background-color: #f0f8ff;}#sk-container-id-1 div.sk-toggleable__content pre {margin: 0.2em;color: black;border-radius: 0.25em;background-color: #f0f8ff;}#sk-container-id-1 input.sk-toggleable__control:checked~div.sk-toggleable__content {max-height: 200px;max-width: 100%;overflow: auto;}#sk-container-id-1 input.sk-toggleable__control:checked~label.sk-toggleable__label-arrow:before {content: \"▾\";}#sk-container-id-1 div.sk-estimator input.sk-toggleable__control:checked~label.sk-toggleable__label {background-color: #d4ebff;}#sk-container-id-1 div.sk-label input.sk-toggleable__control:checked~label.sk-toggleable__label {background-color: #d4ebff;}#sk-container-id-1 input.sk-hidden--visually {border: 0;clip: rect(1px 1px 1px 1px);clip: rect(1px, 1px, 1px, 1px);height: 1px;margin: -1px;overflow: hidden;padding: 0;position: absolute;width: 1px;}#sk-container-id-1 div.sk-estimator {font-family: monospace;background-color: #f0f8ff;border: 1px dotted black;border-radius: 0.25em;box-sizing: border-box;margin-bottom: 0.5em;}#sk-container-id-1 div.sk-estimator:hover {background-color: #d4ebff;}#sk-container-id-1 div.sk-parallel-item::after {content: \"\";width: 100%;border-bottom: 1px solid gray;flex-grow: 1;}#sk-container-id-1 div.sk-label:hover label.sk-toggleable__label {background-color: #d4ebff;}#sk-container-id-1 div.sk-serial::before {content: \"\";position: absolute;border-left: 1px solid gray;box-sizing: border-box;top: 0;bottom: 0;left: 50%;z-index: 0;}#sk-container-id-1 div.sk-serial {display: flex;flex-direction: column;align-items: center;background-color: white;padding-right: 0.2em;padding-left: 0.2em;position: relative;}#sk-container-id-1 div.sk-item {position: relative;z-index: 1;}#sk-container-id-1 div.sk-parallel {display: flex;align-items: stretch;justify-content: center;background-color: white;position: relative;}#sk-container-id-1 div.sk-item::before, #sk-container-id-1 div.sk-parallel-item::before {content: \"\";position: absolute;border-left: 1px solid gray;box-sizing: border-box;top: 0;bottom: 0;left: 50%;z-index: -1;}#sk-container-id-1 div.sk-parallel-item {display: flex;flex-direction: column;z-index: 1;position: relative;background-color: white;}#sk-container-id-1 div.sk-parallel-item:first-child::after {align-self: flex-end;width: 50%;}#sk-container-id-1 div.sk-parallel-item:last-child::after {align-self: flex-start;width: 50%;}#sk-container-id-1 div.sk-parallel-item:only-child::after {width: 0;}#sk-container-id-1 div.sk-dashed-wrapped {border: 1px dashed gray;margin: 0 0.4em 0.5em 0.4em;box-sizing: border-box;padding-bottom: 0.4em;background-color: white;}#sk-container-id-1 div.sk-label label {font-family: monospace;font-weight: bold;display: inline-block;line-height: 1.2em;}#sk-container-id-1 div.sk-label-container {text-align: center;}#sk-container-id-1 div.sk-container {/* jupyter's `normalize.less` sets `[hidden] { display: none; }` but bootstrap.min.css set `[hidden] { display: none !important; }` so we also need the `!important` here to be able to override the default hidden behavior on the sphinx rendered scikit-learn.org. See: https://github.com/scikit-learn/scikit-learn/issues/21755 */display: inline-block !important;position: relative;}#sk-container-id-1 div.sk-text-repr-fallback {display: none;}</style><div id=\"sk-container-id-1\" class=\"sk-top-container\"><div class=\"sk-text-repr-fallback\"><pre>Pipeline(steps=[(&#x27;tfidf&#x27;, TfidfVectorizer()), (&#x27;clf&#x27;, MultinomialNB())])</pre><b>In a Jupyter environment, please rerun this cell to show the HTML representation or trust the notebook. <br />On GitHub, the HTML representation is unable to render, please try loading this page with nbviewer.org.</b></div><div class=\"sk-container\" hidden><div class=\"sk-item sk-dashed-wrapped\"><div class=\"sk-label-container\"><div class=\"sk-label sk-toggleable\"><input class=\"sk-toggleable__control sk-hidden--visually\" id=\"sk-estimator-id-1\" type=\"checkbox\" ><label for=\"sk-estimator-id-1\" class=\"sk-toggleable__label sk-toggleable__label-arrow\">Pipeline</label><div class=\"sk-toggleable__content\"><pre>Pipeline(steps=[(&#x27;tfidf&#x27;, TfidfVectorizer()), (&#x27;clf&#x27;, MultinomialNB())])</pre></div></div></div><div class=\"sk-serial\"><div class=\"sk-item\"><div class=\"sk-estimator sk-toggleable\"><input class=\"sk-toggleable__control sk-hidden--visually\" id=\"sk-estimator-id-2\" type=\"checkbox\" ><label for=\"sk-estimator-id-2\" class=\"sk-toggleable__label sk-toggleable__label-arrow\">TfidfVectorizer</label><div class=\"sk-toggleable__content\"><pre>TfidfVectorizer()</pre></div></div></div><div class=\"sk-item\"><div class=\"sk-estimator sk-toggleable\"><input class=\"sk-toggleable__control sk-hidden--visually\" id=\"sk-estimator-id-3\" type=\"checkbox\" ><label for=\"sk-estimator-id-3\" class=\"sk-toggleable__label sk-toggleable__label-arrow\">MultinomialNB</label><div class=\"sk-toggleable__content\"><pre>MultinomialNB()</pre></div></div></div></div></div></div></div>"
            ]
          },
          "metadata": {},
          "execution_count": 26
        }
      ]
    },
    {
      "cell_type": "code",
      "source": [
        "# evaluate our basline model \n",
        "baseline_score = model_0.score(val_sentence, val_labels)\n",
        "print(f\"Our baseline model achieves an accuracy of: {baseline_score*100:.2f}%\")"
      ],
      "metadata": {
        "colab": {
          "base_uri": "https://localhost:8080/"
        },
        "id": "_Hh92ugj4M_n",
        "outputId": "9b05236d-5827-4f47-aaa8-09027772df3f"
      },
      "execution_count": null,
      "outputs": [
        {
          "output_type": "stream",
          "name": "stdout",
          "text": [
            "Our baseline model achieves an accuracy of: 79.27%\n"
          ]
        }
      ]
    },
    {
      "cell_type": "code",
      "source": [
        "# make predictions\n",
        "baseline_preds = model_0.predict(val_sentence)\n",
        "baseline_preds[:10]"
      ],
      "metadata": {
        "colab": {
          "base_uri": "https://localhost:8080/"
        },
        "id": "T3rV0gCT7hOp",
        "outputId": "e893c1ad-8bd9-4d7d-e607-8a4cf39e0915"
      },
      "execution_count": null,
      "outputs": [
        {
          "output_type": "execute_result",
          "data": {
            "text/plain": [
              "array([1, 1, 1, 0, 0, 1, 1, 1, 1, 0])"
            ]
          },
          "metadata": {},
          "execution_count": 28
        }
      ]
    },
    {
      "cell_type": "code",
      "source": [
        "train_labels"
      ],
      "metadata": {
        "colab": {
          "base_uri": "https://localhost:8080/"
        },
        "id": "w25V1Jh08M1q",
        "outputId": "00f04ea7-73bb-47b6-cc8d-10e94de9a338"
      },
      "execution_count": null,
      "outputs": [
        {
          "output_type": "execute_result",
          "data": {
            "text/plain": [
              "array([0, 0, 1, ..., 1, 1, 0])"
            ]
          },
          "metadata": {},
          "execution_count": 29
        }
      ]
    },
    {
      "cell_type": "markdown",
      "source": [
        "### Creating an evaluation function for our model experimets\n",
        "\n",
        "Metrics are:\n",
        "- Accuracy\n",
        "- Precision\n",
        "- Recall\n",
        "- F1-score\n",
        "\n"
      ],
      "metadata": {
        "id": "QgLKXGNb8PcY"
      }
    },
    {
      "cell_type": "code",
      "source": [
        "from sklearn.metrics import accuracy_score, precision_recall_fscore_support\n",
        "\n",
        "def calculate_result(y_true, y_pred):\n",
        "  \"\"\"\n",
        "  Calculates model accuracy, precision, recall and f1 score of a binary classification\n",
        "  \"\"\"\n",
        "  # calculate model accuracy\n",
        "  model_accuracy = accuracy_score(y_true, y_pred) * 100\n",
        "  # calculate model precision, recall and f1-score using \"weighted\" average\n",
        "  model_precision, model_recall, model_f1, _ = precision_recall_fscore_support(y_true, y_pred, average=\"weighted\")\n",
        "  model_results = {\"accuracy\":model_accuracy,\n",
        "                   \"precision\":model_precision,\n",
        "                   \"recall\":model_recall,\n",
        "                   \"f1\":model_f1}\n",
        "  return model_results"
      ],
      "metadata": {
        "id": "R-Ow4_xK89oG"
      },
      "execution_count": null,
      "outputs": []
    },
    {
      "cell_type": "code",
      "source": [
        "# Get baseline result\n",
        "baseline_result = calculate_result(y_true=val_labels,\n",
        "                                   y_pred=baseline_preds)\n",
        "baseline_result"
      ],
      "metadata": {
        "colab": {
          "base_uri": "https://localhost:8080/"
        },
        "id": "atfrO9_yAG9C",
        "outputId": "9bd5a104-39ec-492c-b9af-f327ee7da43a"
      },
      "execution_count": null,
      "outputs": [
        {
          "output_type": "execute_result",
          "data": {
            "text/plain": [
              "{'accuracy': 79.26509186351706,\n",
              " 'precision': 0.8111390004213173,\n",
              " 'recall': 0.7926509186351706,\n",
              " 'f1': 0.7862189758049549}"
            ]
          },
          "metadata": {},
          "execution_count": 31
        }
      ]
    },
    {
      "cell_type": "markdown",
      "source": [
        "### Model 1 : A Simple dense model"
      ],
      "metadata": {
        "id": "P9Ej8kHWAcMX"
      }
    },
    {
      "cell_type": "code",
      "source": [
        "# Create a tensorboard callback \n",
        "from helper_functions import create_tensorboard_callback\n",
        "\n",
        "# create a directory to save tensorboard logs\n",
        "SAVE_DIR = \"model_logs\""
      ],
      "metadata": {
        "id": "9DzWD11WX1Wm"
      },
      "execution_count": null,
      "outputs": []
    },
    {
      "cell_type": "code",
      "source": [
        "# Build model with the Functional API\n",
        "from tensorflow.keras import layers\n",
        "inputs = layers.Input(shape=(1,), dtype=\"string\") # inputs are 1-dimensional strings\n",
        "x = text_vectorizer(inputs) # turn the input text into numbers\n",
        "x = embedding(x) # create an embedding of the numerized numbers\n",
        "x = layers.GlobalAveragePooling1D()(x) # lower the dimensionality of the embedding (try running the model without this layer and see what happens)\n",
        "outputs = layers.Dense(1, activation=\"sigmoid\")(x) # create the output layer, want binary outputs so use sigmoid activation\n",
        "model_1 = tf.keras.Model(inputs, outputs, name=\"model_1_dense\") # construct the model"
      ],
      "metadata": {
        "id": "aHfisup1ZM0b"
      },
      "execution_count": null,
      "outputs": []
    },
    {
      "cell_type": "code",
      "source": [
        "model_1.summary()"
      ],
      "metadata": {
        "colab": {
          "base_uri": "https://localhost:8080/"
        },
        "id": "HCWbk-zma6mN",
        "outputId": "131707df-49e4-4675-a976-15d707707897"
      },
      "execution_count": null,
      "outputs": [
        {
          "output_type": "stream",
          "name": "stdout",
          "text": [
            "Model: \"model_1_dense\"\n",
            "_________________________________________________________________\n",
            " Layer (type)                Output Shape              Param #   \n",
            "=================================================================\n",
            " input_1 (InputLayer)        [(None, 1)]               0         \n",
            "                                                                 \n",
            " text_vectorization_1 (TextV  (None, 15)               0         \n",
            " ectorization)                                                   \n",
            "                                                                 \n",
            " embedding (Embedding)       (None, 15, 128)           1280000   \n",
            "                                                                 \n",
            " global_average_pooling1d (G  (None, 128)              0         \n",
            " lobalAveragePooling1D)                                          \n",
            "                                                                 \n",
            " dense (Dense)               (None, 1)                 129       \n",
            "                                                                 \n",
            "=================================================================\n",
            "Total params: 1,280,129\n",
            "Trainable params: 1,280,129\n",
            "Non-trainable params: 0\n",
            "_________________________________________________________________\n"
          ]
        }
      ]
    },
    {
      "cell_type": "code",
      "source": [
        "# Compile model\n",
        "model_1.compile(loss=\"binary_crossentropy\",\n",
        "                optimizer=tf.keras.optimizers.Adam(),\n",
        "                metrics=[\"accuracy\"])"
      ],
      "metadata": {
        "id": "OQxk0b7sbbz-"
      },
      "execution_count": null,
      "outputs": []
    },
    {
      "cell_type": "code",
      "source": [
        "# Fit the model\n",
        "model_1_history = model_1.fit(x=train_sentences,\n",
        "                              y=train_labels,\n",
        "                              epochs=5,\n",
        "                              validation_data=(val_sentence, val_labels),\n",
        "                              callbacks=[create_tensorboard_callback(dir_name=SAVE_DIR,\n",
        "                                                                    experiment_name=\"model_1_dense\")])"
      ],
      "metadata": {
        "colab": {
          "base_uri": "https://localhost:8080/"
        },
        "id": "vMf87QKMb5am",
        "outputId": "c794cc2c-b4f4-4380-ae33-f75f0d9c09b2"
      },
      "execution_count": null,
      "outputs": [
        {
          "output_type": "stream",
          "name": "stdout",
          "text": [
            "Saving TensorBoard log files to: model_logs/model_1_dense/20230309-113415\n",
            "Epoch 1/5\n",
            "215/215 [==============================] - 16s 51ms/step - loss: 0.6110 - accuracy: 0.7046 - val_loss: 0.5380 - val_accuracy: 0.7493\n",
            "Epoch 2/5\n",
            "215/215 [==============================] - 2s 9ms/step - loss: 0.4404 - accuracy: 0.8170 - val_loss: 0.4685 - val_accuracy: 0.7887\n",
            "Epoch 3/5\n",
            "215/215 [==============================] - 2s 9ms/step - loss: 0.3464 - accuracy: 0.8593 - val_loss: 0.4640 - val_accuracy: 0.7900\n",
            "Epoch 4/5\n",
            "215/215 [==============================] - 2s 8ms/step - loss: 0.2840 - accuracy: 0.8897 - val_loss: 0.4634 - val_accuracy: 0.7861\n",
            "Epoch 5/5\n",
            "215/215 [==============================] - 2s 7ms/step - loss: 0.2373 - accuracy: 0.9121 - val_loss: 0.4800 - val_accuracy: 0.7835\n"
          ]
        }
      ]
    },
    {
      "cell_type": "code",
      "source": [
        "# check the results\n",
        "model_1.evaluate(val_sentence, val_labels)"
      ],
      "metadata": {
        "colab": {
          "base_uri": "https://localhost:8080/"
        },
        "id": "y9-rlJHshlMs",
        "outputId": "3ebd8406-3c4f-4901-a6ff-f5d86f8aca80"
      },
      "execution_count": null,
      "outputs": [
        {
          "output_type": "stream",
          "name": "stdout",
          "text": [
            "24/24 [==============================] - 0s 3ms/step - loss: 0.4800 - accuracy: 0.7835\n"
          ]
        },
        {
          "output_type": "execute_result",
          "data": {
            "text/plain": [
              "[0.4800173044204712, 0.7834645509719849]"
            ]
          },
          "metadata": {},
          "execution_count": 37
        }
      ]
    },
    {
      "cell_type": "code",
      "source": [
        "# make some predictions and evaluate those\n",
        "model_1_pred_probs = model_1.predict(val_sentence)\n",
        "model_1_pred_probs.shape"
      ],
      "metadata": {
        "colab": {
          "base_uri": "https://localhost:8080/"
        },
        "id": "KJyyrR92iRpP",
        "outputId": "3fcce57a-3478-4bf5-ecc5-3bfdf09185d3"
      },
      "execution_count": null,
      "outputs": [
        {
          "output_type": "stream",
          "name": "stdout",
          "text": [
            "24/24 [==============================] - 0s 2ms/step\n"
          ]
        },
        {
          "output_type": "execute_result",
          "data": {
            "text/plain": [
              "(762, 1)"
            ]
          },
          "metadata": {},
          "execution_count": 38
        }
      ]
    },
    {
      "cell_type": "code",
      "source": [
        "# look at single prediction\n",
        "model_1_pred_probs[0]"
      ],
      "metadata": {
        "colab": {
          "base_uri": "https://localhost:8080/"
        },
        "id": "9OUyLIWNi_QE",
        "outputId": "d5250e4d-6b32-4fb1-cf0a-87f4b23b910b"
      },
      "execution_count": null,
      "outputs": [
        {
          "output_type": "execute_result",
          "data": {
            "text/plain": [
              "array([0.33020705], dtype=float32)"
            ]
          },
          "metadata": {},
          "execution_count": 39
        }
      ]
    },
    {
      "cell_type": "code",
      "source": [
        "# look at first 10\n",
        "model_1_pred_probs[:10]"
      ],
      "metadata": {
        "colab": {
          "base_uri": "https://localhost:8080/"
        },
        "id": "e1JXeQS4kSD7",
        "outputId": "283c7d25-4295-4213-fffc-0301de58505f"
      },
      "execution_count": null,
      "outputs": [
        {
          "output_type": "execute_result",
          "data": {
            "text/plain": [
              "array([[0.33020705],\n",
              "       [0.74288416],\n",
              "       [0.99799013],\n",
              "       [0.10754776],\n",
              "       [0.13115104],\n",
              "       [0.9370377 ],\n",
              "       [0.922447  ],\n",
              "       [0.99317753],\n",
              "       [0.96509606],\n",
              "       [0.2614424 ]], dtype=float32)"
            ]
          },
          "metadata": {},
          "execution_count": 40
        }
      ]
    },
    {
      "cell_type": "code",
      "source": [
        "# convert model prediction probability to labels\n",
        "model_1_preds = tf.squeeze(tf.round(model_1_pred_probs))\n",
        "model_1_preds[:10]"
      ],
      "metadata": {
        "colab": {
          "base_uri": "https://localhost:8080/"
        },
        "id": "nOrLBM7IkYFQ",
        "outputId": "cadd4007-9f9e-4e84-94b2-bb9c3db74cc2"
      },
      "execution_count": null,
      "outputs": [
        {
          "output_type": "execute_result",
          "data": {
            "text/plain": [
              "<tf.Tensor: shape=(10,), dtype=float32, numpy=array([0., 1., 1., 0., 0., 1., 1., 1., 1., 0.], dtype=float32)>"
            ]
          },
          "metadata": {},
          "execution_count": 41
        }
      ]
    },
    {
      "cell_type": "code",
      "source": [
        "# calculate our model 1 results\n",
        "model_1_results = calculate_result(y_true=val_labels,\n",
        "                                   y_pred=model_1_preds)\n",
        "model_1_results"
      ],
      "metadata": {
        "colab": {
          "base_uri": "https://localhost:8080/"
        },
        "id": "CobYTy5lksS8",
        "outputId": "50c647f9-fd44-4534-afe4-7a4fd4920647"
      },
      "execution_count": null,
      "outputs": [
        {
          "output_type": "execute_result",
          "data": {
            "text/plain": [
              "{'accuracy': 78.34645669291339,\n",
              " 'precision': 0.7888731352165597,\n",
              " 'recall': 0.7834645669291339,\n",
              " 'f1': 0.780192419920975}"
            ]
          },
          "metadata": {},
          "execution_count": 42
        }
      ]
    },
    {
      "cell_type": "code",
      "source": [
        "baseline_result"
      ],
      "metadata": {
        "colab": {
          "base_uri": "https://localhost:8080/"
        },
        "id": "8HDNrLZAkuZF",
        "outputId": "feeedfce-ccde-4b66-e642-5f500a715838"
      },
      "execution_count": null,
      "outputs": [
        {
          "output_type": "execute_result",
          "data": {
            "text/plain": [
              "{'accuracy': 79.26509186351706,\n",
              " 'precision': 0.8111390004213173,\n",
              " 'recall': 0.7926509186351706,\n",
              " 'f1': 0.7862189758049549}"
            ]
          },
          "metadata": {},
          "execution_count": 43
        }
      ]
    },
    {
      "cell_type": "markdown",
      "source": [
        "## Visualizing learned embeddings"
      ],
      "metadata": {
        "id": "xDO9meGEtGX_"
      }
    },
    {
      "cell_type": "code",
      "source": [
        "# Get the vocabulary from the text vectorization layer\n",
        "words_in_vocab = text_vectorizer.get_vocabulary()\n",
        "len(words_in_vocab), words_in_vocab[:10]"
      ],
      "metadata": {
        "colab": {
          "base_uri": "https://localhost:8080/"
        },
        "id": "WE97uSPltvDb",
        "outputId": "01251ec6-8dc0-4868-fccf-06d0b5ceced4"
      },
      "execution_count": null,
      "outputs": [
        {
          "output_type": "execute_result",
          "data": {
            "text/plain": [
              "(10000, ['', '[UNK]', 'the', 'a', 'in', 'to', 'of', 'and', 'i', 'is'])"
            ]
          },
          "metadata": {},
          "execution_count": 44
        }
      ]
    },
    {
      "cell_type": "code",
      "source": [
        "model_1.summary()"
      ],
      "metadata": {
        "colab": {
          "base_uri": "https://localhost:8080/"
        },
        "id": "Wl6xc5FcuMFW",
        "outputId": "fa127134-ce98-4c9f-f00e-4fc8fa34d3eb"
      },
      "execution_count": null,
      "outputs": [
        {
          "output_type": "stream",
          "name": "stdout",
          "text": [
            "Model: \"model_1_dense\"\n",
            "_________________________________________________________________\n",
            " Layer (type)                Output Shape              Param #   \n",
            "=================================================================\n",
            " input_1 (InputLayer)        [(None, 1)]               0         \n",
            "                                                                 \n",
            " text_vectorization_1 (TextV  (None, 15)               0         \n",
            " ectorization)                                                   \n",
            "                                                                 \n",
            " embedding (Embedding)       (None, 15, 128)           1280000   \n",
            "                                                                 \n",
            " global_average_pooling1d (G  (None, 128)              0         \n",
            " lobalAveragePooling1D)                                          \n",
            "                                                                 \n",
            " dense (Dense)               (None, 1)                 129       \n",
            "                                                                 \n",
            "=================================================================\n",
            "Total params: 1,280,129\n",
            "Trainable params: 1,280,129\n",
            "Non-trainable params: 0\n",
            "_________________________________________________________________\n"
          ]
        }
      ]
    },
    {
      "cell_type": "code",
      "source": [
        "# Get the weight matrix of embedding layer\n",
        "# (these are the numerical representatio of eavh token in our training data, which have been learned for -5 epochs)\n",
        "embed_weights = model_1.get_layer(\"embedding\").get_weights()[0]\n",
        "embed_weights.shape"
      ],
      "metadata": {
        "id": "3AH3hsP6uUvr",
        "colab": {
          "base_uri": "https://localhost:8080/"
        },
        "outputId": "c3dbffc9-aa43-4791-8459-ff82bfb5f780"
      },
      "execution_count": null,
      "outputs": [
        {
          "output_type": "execute_result",
          "data": {
            "text/plain": [
              "(10000, 128)"
            ]
          },
          "metadata": {},
          "execution_count": 46
        }
      ]
    },
    {
      "cell_type": "markdown",
      "source": [
        "Now we got the embedding matrix our model has learned to represent our tokens.\n",
        "Tensorflow has a handy tool called projector : https://projector.tensorflow.org/\n",
        "\n",
        "And TensorFlow also has an incredible guide on word embedding themselves : https://www.tensorflow.org/text/guide/word_embeddings\n",
        "\n",
        "resources : https://jalammar.github.io/illustrated-word2vec/"
      ],
      "metadata": {
        "id": "YofRAHCIwI4L"
      }
    },
    {
      "cell_type": "code",
      "source": [
        "# creading embedding files \n",
        "import io\n",
        "out_v = io.open('vectors.tsv', 'w', encoding='utf-8')\n",
        "out_m = io.open('metadata.tsv', 'w', encoding='utf-8')\n",
        "\n",
        "for index, word in enumerate(words_in_vocab):\n",
        "  if index == 0:\n",
        "    continue  # skip 0, it's padding.\n",
        "  vec = embed_weights[index]\n",
        "  out_v.write('\\t'.join([str(x) for x in vec]) + \"\\n\")\n",
        "  out_m.write(word + \"\\n\")\n",
        "out_v.close()\n",
        "out_m.close()"
      ],
      "metadata": {
        "id": "RpZp8b3xuImV"
      },
      "execution_count": null,
      "outputs": []
    },
    {
      "cell_type": "code",
      "source": [
        "# Download files from colab to upload to projector\n",
        "# try:\n",
        "#   from google.colab import files\n",
        "#   files.download('vectors.tsv')\n",
        "#   files.download('metadata.tsv')\n",
        "# except Exception:\n",
        "#   pass"
      ],
      "metadata": {
        "id": "vIDaMT0bxBOK"
      },
      "execution_count": null,
      "outputs": []
    },
    {
      "cell_type": "markdown",
      "source": [
        "# *Recurrent Neural Network (RNN)*\n",
        "\n",
        "RNN's are useful for sequence data.\n",
        "\n",
        "The Premises of a recurrent neural network is to use the reprsentation of a previous input to aid the      representation of later input.\n"
      ],
      "metadata": {
        "id": "ec4DEVnXyNmz"
      }
    },
    {
      "cell_type": "markdown",
      "source": [
        "### Model 2 : LSTM\n",
        "\n",
        "[About Deep Learning Algorithms](https://www.simplilearn.com/tutorials/deep-learning-tutorial/deep-learning-algorithm)\n",
        "\n",
        "LSTM = long short term memory (one of the most popular LSTM cells)\n",
        "\n",
        "Our Structure of an RNN typically looks Like:\n",
        "\n",
        "\n",
        "```\n",
        "Input (text) -> Tokenize -> Embedding -> Layers (RNN/dense) -> Output (label probability) \n",
        "```"
      ],
      "metadata": {
        "id": "x-ZUu2JC4DIG"
      }
    },
    {
      "cell_type": "code",
      "source": [
        "# Create a LSTM model\n",
        "tf.random.set_seed(42)\n",
        "from tensorflow.keras import layers\n",
        "inputs = layers.Input(shape=(1,), dtype=\"string\")\n",
        "x = text_vectorizer(inputs)\n",
        "x = embedding(x)\n",
        "print(x.shape)\n",
        "# x = layers.LSTM(64, return_sequences=True)(x) # return vector for each word in the Tweet (you can stack RNN cells as long as return_sequences=True)\n",
        "# print(x.shape)\n",
        "x = layers.LSTM(64)(x)\n",
        "print(x.shape)\n",
        "# x = layers.Dense(64, activation=\"relu\")(x) # optional dense layer on top of output of LSTM cell\n",
        "outputs = layers.Dense(1, activation=\"sigmoid\")(x) \n",
        "model_2 = tf.keras.Model(inputs, outputs, name=\"model_2_LSTM\")"
      ],
      "metadata": {
        "colab": {
          "base_uri": "https://localhost:8080/"
        },
        "id": "i0Sy0XUVkJ7l",
        "outputId": "4255fa6d-4c1f-4ac1-f699-98d169187fc9"
      },
      "execution_count": null,
      "outputs": [
        {
          "output_type": "stream",
          "name": "stdout",
          "text": [
            "(None, 15, 128)\n",
            "(None, 64)\n"
          ]
        }
      ]
    },
    {
      "cell_type": "code",
      "source": [
        "model_2.summary()"
      ],
      "metadata": {
        "colab": {
          "base_uri": "https://localhost:8080/"
        },
        "id": "FWwXjmb3ta7h",
        "outputId": "28aca1d0-998e-4deb-bbaf-cfcc23e9ef1c"
      },
      "execution_count": null,
      "outputs": [
        {
          "output_type": "stream",
          "name": "stdout",
          "text": [
            "Model: \"model_2_LSTM\"\n",
            "_________________________________________________________________\n",
            " Layer (type)                Output Shape              Param #   \n",
            "=================================================================\n",
            " input_2 (InputLayer)        [(None, 1)]               0         \n",
            "                                                                 \n",
            " text_vectorization_1 (TextV  (None, 15)               0         \n",
            " ectorization)                                                   \n",
            "                                                                 \n",
            " embedding (Embedding)       (None, 15, 128)           1280000   \n",
            "                                                                 \n",
            " lstm (LSTM)                 (None, 64)                49408     \n",
            "                                                                 \n",
            " dense_1 (Dense)             (None, 1)                 65        \n",
            "                                                                 \n",
            "=================================================================\n",
            "Total params: 1,329,473\n",
            "Trainable params: 1,329,473\n",
            "Non-trainable params: 0\n",
            "_________________________________________________________________\n"
          ]
        }
      ]
    },
    {
      "cell_type": "code",
      "source": [
        "# compile the model \n",
        "model_2.compile(loss='binary_crossentropy',\n",
        "                optimizer=tf.keras.optimizers.Adam(),\n",
        "                metrics=[\"accuracy\"])"
      ],
      "metadata": {
        "id": "NiN9kmFZxZOQ"
      },
      "execution_count": null,
      "outputs": []
    },
    {
      "cell_type": "code",
      "source": [
        "# fit the model\n",
        "model_2_history = model_2.fit(train_sentences,\n",
        "                              train_labels,\n",
        "                              epochs=5,\n",
        "                              validation_data=(val_sentence, val_labels),\n",
        "                              callbacks=[create_tensorboard_callback(SAVE_DIR,\n",
        "                                                                      \"model_2_LSTM\")])"
      ],
      "metadata": {
        "colab": {
          "base_uri": "https://localhost:8080/"
        },
        "id": "_Fg3-bplySzb",
        "outputId": "65d9fb34-b4a9-431f-e043-8a876f723c38"
      },
      "execution_count": null,
      "outputs": [
        {
          "output_type": "stream",
          "name": "stdout",
          "text": [
            "Saving TensorBoard log files to: model_logs/model_2_LSTM/20230309-113440\n",
            "Epoch 1/5\n",
            "215/215 [==============================] - 12s 34ms/step - loss: 0.2205 - accuracy: 0.9235 - val_loss: 0.5461 - val_accuracy: 0.7730\n",
            "Epoch 2/5\n",
            "215/215 [==============================] - 3s 13ms/step - loss: 0.1610 - accuracy: 0.9419 - val_loss: 0.6068 - val_accuracy: 0.7795\n",
            "Epoch 3/5\n",
            "215/215 [==============================] - 2s 11ms/step - loss: 0.1271 - accuracy: 0.9523 - val_loss: 0.7495 - val_accuracy: 0.7808\n",
            "Epoch 4/5\n",
            "215/215 [==============================] - 2s 8ms/step - loss: 0.1058 - accuracy: 0.9604 - val_loss: 0.8461 - val_accuracy: 0.7861\n",
            "Epoch 5/5\n",
            "215/215 [==============================] - 2s 9ms/step - loss: 0.0824 - accuracy: 0.9664 - val_loss: 0.9538 - val_accuracy: 0.7795\n"
          ]
        }
      ]
    },
    {
      "cell_type": "code",
      "source": [
        "# make predictions with LSTM model\n",
        "model_2_pred_probs = model_2.predict(val_sentence)\n",
        "model_2_pred_probs[:10]"
      ],
      "metadata": {
        "colab": {
          "base_uri": "https://localhost:8080/"
        },
        "id": "kDp63Dtly-7I",
        "outputId": "83b9bf4d-3841-4d73-f5fb-dcad668185ea"
      },
      "execution_count": null,
      "outputs": [
        {
          "output_type": "stream",
          "name": "stdout",
          "text": [
            "24/24 [==============================] - 0s 3ms/step\n"
          ]
        },
        {
          "output_type": "execute_result",
          "data": {
            "text/plain": [
              "array([[3.5048523e-03],\n",
              "       [7.0155275e-01],\n",
              "       [9.9964273e-01],\n",
              "       [2.4110405e-02],\n",
              "       [2.5265024e-04],\n",
              "       [9.9846601e-01],\n",
              "       [7.0836496e-01],\n",
              "       [9.9980575e-01],\n",
              "       [9.9964380e-01],\n",
              "       [5.3617954e-01]], dtype=float32)"
            ]
          },
          "metadata": {},
          "execution_count": 53
        }
      ]
    },
    {
      "cell_type": "code",
      "source": [
        "# convert model 2 pred probs to labels\n",
        "model_2_preds = tf.squeeze(tf.round(model_2_pred_probs))\n",
        "model_2_preds[:10]"
      ],
      "metadata": {
        "colab": {
          "base_uri": "https://localhost:8080/"
        },
        "id": "38Wxp-dpzmiN",
        "outputId": "78f6ece6-6934-4e87-8257-e949d01607fd"
      },
      "execution_count": null,
      "outputs": [
        {
          "output_type": "execute_result",
          "data": {
            "text/plain": [
              "<tf.Tensor: shape=(10,), dtype=float32, numpy=array([0., 1., 1., 0., 0., 1., 1., 1., 1., 1.], dtype=float32)>"
            ]
          },
          "metadata": {},
          "execution_count": 54
        }
      ]
    },
    {
      "cell_type": "code",
      "source": [
        "# calculate model 2 results\n",
        "model_2_results = calculate_result(y_true=val_labels,\n",
        "                                    y_pred=model_2_preds)\n",
        "model_2_results"
      ],
      "metadata": {
        "colab": {
          "base_uri": "https://localhost:8080/"
        },
        "id": "g7ErwF7Fz98N",
        "outputId": "606152e9-81eb-4f56-cbc5-1db1e4cb5f89"
      },
      "execution_count": null,
      "outputs": [
        {
          "output_type": "execute_result",
          "data": {
            "text/plain": [
              "{'accuracy': 77.95275590551181,\n",
              " 'precision': 0.7816545659065345,\n",
              " 'recall': 0.7795275590551181,\n",
              " 'f1': 0.7774022539420016}"
            ]
          },
          "metadata": {},
          "execution_count": 55
        }
      ]
    },
    {
      "cell_type": "code",
      "source": [
        "baseline_result"
      ],
      "metadata": {
        "colab": {
          "base_uri": "https://localhost:8080/"
        },
        "id": "TYR_T0VV0XEy",
        "outputId": "daabdd90-1238-49da-d749-467917c7bf16"
      },
      "execution_count": null,
      "outputs": [
        {
          "output_type": "execute_result",
          "data": {
            "text/plain": [
              "{'accuracy': 79.26509186351706,\n",
              " 'precision': 0.8111390004213173,\n",
              " 'recall': 0.7926509186351706,\n",
              " 'f1': 0.7862189758049549}"
            ]
          },
          "metadata": {},
          "execution_count": 56
        }
      ]
    },
    {
      "cell_type": "markdown",
      "source": [
        "### Model 3 : GRU\n",
        "Another popular and effective RNN component is the GRU or gated recurrent unit.\n",
        "\n",
        "The GRU cell has similar features to an LSTM cell but has less parametrs."
      ],
      "metadata": {
        "id": "Wu9c_yQT0coj"
      }
    },
    {
      "cell_type": "code",
      "source": [
        "# Build an RNN using the GRU cell\n",
        "from tensorflow.keras import layers\n",
        "inputs = layers.Input(shape=(1,), dtype=\"string\")\n",
        "x = text_vectorizer(inputs)\n",
        "x = embedding(x)\n",
        "print(x.shape)\n",
        "x = layers.GRU(64)(x)\n",
        "print(x.shape)\n",
        "# x = layers.GRU(64, return_sequences=True)(x)\n",
        "# print(x.shape)\n",
        "# x = layers.LSTM(42, return_sequences=True)(x)\n",
        "# print(x.shape)\n",
        "# x = layers.GRU(99)(x)\n",
        "# print(x.shape)\n",
        "x = layers.Dense(64, activation=\"relu\")(x)\n",
        "outputs = layers.Dense(1, activation=\"sigmoid\")(x)\n",
        "model_3 = tf.keras.Model(inputs, outputs, name=\"model_3_GRU\")"
      ],
      "metadata": {
        "colab": {
          "base_uri": "https://localhost:8080/"
        },
        "id": "TD5DY9-46wjX",
        "outputId": "34bddc63-f009-4776-ab33-bf45e7306df8"
      },
      "execution_count": null,
      "outputs": [
        {
          "output_type": "stream",
          "name": "stdout",
          "text": [
            "(None, 15, 128)\n",
            "(None, 64)\n"
          ]
        }
      ]
    },
    {
      "cell_type": "code",
      "source": [
        "model_3.summary()"
      ],
      "metadata": {
        "colab": {
          "base_uri": "https://localhost:8080/"
        },
        "id": "BVZAPuml9BBM",
        "outputId": "40f97f61-86e3-47bd-8fe2-3ba0692cdb60"
      },
      "execution_count": null,
      "outputs": [
        {
          "output_type": "stream",
          "name": "stdout",
          "text": [
            "Model: \"model_3_GRU\"\n",
            "_________________________________________________________________\n",
            " Layer (type)                Output Shape              Param #   \n",
            "=================================================================\n",
            " input_3 (InputLayer)        [(None, 1)]               0         \n",
            "                                                                 \n",
            " text_vectorization_1 (TextV  (None, 15)               0         \n",
            " ectorization)                                                   \n",
            "                                                                 \n",
            " embedding (Embedding)       (None, 15, 128)           1280000   \n",
            "                                                                 \n",
            " gru (GRU)                   (None, 64)                37248     \n",
            "                                                                 \n",
            " dense_2 (Dense)             (None, 64)                4160      \n",
            "                                                                 \n",
            " dense_3 (Dense)             (None, 1)                 65        \n",
            "                                                                 \n",
            "=================================================================\n",
            "Total params: 1,321,473\n",
            "Trainable params: 1,321,473\n",
            "Non-trainable params: 0\n",
            "_________________________________________________________________\n"
          ]
        }
      ]
    },
    {
      "cell_type": "code",
      "source": [
        "# compile a model\n",
        "model_3.compile(loss='binary_crossentropy',\n",
        "                optimizer=tf.keras.optimizers.Adam(),\n",
        "                metrics=[\"accuracy\"])"
      ],
      "metadata": {
        "id": "thoHIdfd9_nJ"
      },
      "execution_count": null,
      "outputs": []
    },
    {
      "cell_type": "code",
      "source": [
        "# fit the model\n",
        "model_3_history = model_3.fit(train_sentences,\n",
        "                              train_labels,\n",
        "                              epochs=5,\n",
        "                              validation_data=(val_sentence, val_labels),\n",
        "                              callbacks=[create_tensorboard_callback(SAVE_DIR,\n",
        "                                                                      \"model_3_LSTM\")])"
      ],
      "metadata": {
        "colab": {
          "base_uri": "https://localhost:8080/"
        },
        "id": "jTCi3xlg-kc8",
        "outputId": "9fb3247a-9e14-4cae-f560-3d78f4b7f625"
      },
      "execution_count": null,
      "outputs": [
        {
          "output_type": "stream",
          "name": "stdout",
          "text": [
            "Saving TensorBoard log files to: model_logs/model_3_LSTM/20230309-113501\n",
            "Epoch 1/5\n",
            "215/215 [==============================] - 13s 37ms/step - loss: 0.1572 - accuracy: 0.9496 - val_loss: 0.6836 - val_accuracy: 0.7782\n",
            "Epoch 2/5\n",
            "215/215 [==============================] - 2s 10ms/step - loss: 0.0845 - accuracy: 0.9696 - val_loss: 0.8413 - val_accuracy: 0.7808\n",
            "Epoch 3/5\n",
            "215/215 [==============================] - 3s 12ms/step - loss: 0.0687 - accuracy: 0.9739 - val_loss: 1.1390 - val_accuracy: 0.7756\n",
            "Epoch 4/5\n",
            "215/215 [==============================] - 2s 9ms/step - loss: 0.0580 - accuracy: 0.9762 - val_loss: 1.0097 - val_accuracy: 0.7743\n",
            "Epoch 5/5\n",
            "215/215 [==============================] - 2s 9ms/step - loss: 0.0500 - accuracy: 0.9774 - val_loss: 1.1242 - val_accuracy: 0.7730\n"
          ]
        }
      ]
    },
    {
      "cell_type": "code",
      "source": [
        "# make predictions with GRU model\n",
        "model_3_pred_probs = model_3.predict(val_sentence)\n",
        "model_3_pred_probs[:10]"
      ],
      "metadata": {
        "colab": {
          "base_uri": "https://localhost:8080/"
        },
        "id": "wILaxvX9-q-0",
        "outputId": "32b3deea-8ed3-4ef9-c1c4-2016173b1027"
      },
      "execution_count": null,
      "outputs": [
        {
          "output_type": "stream",
          "name": "stdout",
          "text": [
            "24/24 [==============================] - 0s 3ms/step\n"
          ]
        },
        {
          "output_type": "execute_result",
          "data": {
            "text/plain": [
              "array([[1.1518263e-03],\n",
              "       [6.0648191e-01],\n",
              "       [9.9958950e-01],\n",
              "       [2.1931869e-01],\n",
              "       [1.4104084e-05],\n",
              "       [8.4286040e-01],\n",
              "       [1.5821733e-02],\n",
              "       [9.9983263e-01],\n",
              "       [9.9962938e-01],\n",
              "       [4.0622658e-01]], dtype=float32)"
            ]
          },
          "metadata": {},
          "execution_count": 61
        }
      ]
    },
    {
      "cell_type": "code",
      "source": [
        "# convert model 3 pred probs to labels\n",
        "model_3_preds = tf.squeeze(tf.round(model_3_pred_probs))\n",
        "model_3_preds[:10]"
      ],
      "metadata": {
        "colab": {
          "base_uri": "https://localhost:8080/"
        },
        "id": "1Lp5xDwO-7-u",
        "outputId": "4e9e3c7e-56a4-41b1-9f82-5d956c49943b"
      },
      "execution_count": null,
      "outputs": [
        {
          "output_type": "execute_result",
          "data": {
            "text/plain": [
              "<tf.Tensor: shape=(10,), dtype=float32, numpy=array([0., 1., 1., 0., 0., 1., 0., 1., 1., 0.], dtype=float32)>"
            ]
          },
          "metadata": {},
          "execution_count": 62
        }
      ]
    },
    {
      "cell_type": "code",
      "source": [
        "# calculate model 3 results\n",
        "model_3_results = calculate_result(y_true=val_labels,\n",
        "                                    y_pred=model_3_preds)\n",
        "model_3_results"
      ],
      "metadata": {
        "colab": {
          "base_uri": "https://localhost:8080/"
        },
        "id": "_boVRGm2_Eov",
        "outputId": "08e2a4b7-2e93-42d9-93b6-b7bbdebd782e"
      },
      "execution_count": null,
      "outputs": [
        {
          "output_type": "execute_result",
          "data": {
            "text/plain": [
              "{'accuracy': 77.29658792650919,\n",
              " 'precision': 0.783781518328173,\n",
              " 'recall': 0.7729658792650919,\n",
              " 'f1': 0.7675425817674429}"
            ]
          },
          "metadata": {},
          "execution_count": 63
        }
      ]
    },
    {
      "cell_type": "code",
      "source": [
        "baseline_result"
      ],
      "metadata": {
        "colab": {
          "base_uri": "https://localhost:8080/"
        },
        "id": "335kRt45_K6p",
        "outputId": "5aece2df-afb5-48ca-fe04-59e2f7669ac8"
      },
      "execution_count": null,
      "outputs": [
        {
          "output_type": "execute_result",
          "data": {
            "text/plain": [
              "{'accuracy': 79.26509186351706,\n",
              " 'precision': 0.8111390004213173,\n",
              " 'recall': 0.7926509186351706,\n",
              " 'f1': 0.7862189758049549}"
            ]
          },
          "metadata": {},
          "execution_count": 64
        }
      ]
    },
    {
      "cell_type": "markdown",
      "source": [
        "### Model 4 : Bidirectional RNN\n",
        "\n",
        "A Bidirectional RNN is a combination of two RNNs training the network in opposite directions, one from the beginning to the end of a sequence, and the other, from the end to the beginning of a sequence.\n",
        "\n"
      ],
      "metadata": {
        "id": "DqoMaJF6_NTv"
      }
    },
    {
      "cell_type": "markdown",
      "source": [
        "![image.png](data:image/png;base64,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)"
      ],
      "metadata": {
        "id": "_Ih8UsRR4djB"
      }
    },
    {
      "cell_type": "code",
      "source": [
        "# Build bidirectional cell\n",
        "from tensorflow.keras import layers\n",
        "inputs = layers.Input(shape=(1,), dtype=\"string\")\n",
        "x = text_vectorizer(inputs)\n",
        "x = embedding(x)\n",
        "print(x.shape)\n",
        "# x = layers.Bidirectional(layers.LSTM(64, return_sequences=True))(x)\n",
        "# print(x.shape)\n",
        "x = layers.Bidirectional(layers.LSTM(64))(x)\n",
        "print(x.shape)\n",
        "outputs = layers.Dense(1, activation=\"sigmoid\")(x)\n",
        "model_4 = tf.keras.Model(inputs, outputs, name=\"model_4_bidirectional\")"
      ],
      "metadata": {
        "colab": {
          "base_uri": "https://localhost:8080/"
        },
        "id": "VqdnSCzpATwF",
        "outputId": "dc723ff5-5116-41b1-a9cc-674fbed5e67a"
      },
      "execution_count": null,
      "outputs": [
        {
          "output_type": "stream",
          "name": "stdout",
          "text": [
            "(None, 15, 128)\n",
            "(None, 128)\n"
          ]
        }
      ]
    },
    {
      "cell_type": "markdown",
      "source": [
        "🔑**Note** : As you can notice we got (None, 15, 128) shape but we pass 64 vector, reason is that directional goes right to left and left to right that means 64*2 = 128"
      ],
      "metadata": {
        "id": "6SNbFtkU4xdJ"
      }
    },
    {
      "cell_type": "code",
      "source": [
        "# get summary\n",
        "model_4.summary()"
      ],
      "metadata": {
        "id": "vK07AR3OB9lv",
        "colab": {
          "base_uri": "https://localhost:8080/"
        },
        "outputId": "c9ea30d1-f393-4f21-ca40-7be69bc14ab7"
      },
      "execution_count": null,
      "outputs": [
        {
          "output_type": "stream",
          "name": "stdout",
          "text": [
            "Model: \"model_4_bidirectional\"\n",
            "_________________________________________________________________\n",
            " Layer (type)                Output Shape              Param #   \n",
            "=================================================================\n",
            " input_4 (InputLayer)        [(None, 1)]               0         \n",
            "                                                                 \n",
            " text_vectorization_1 (TextV  (None, 15)               0         \n",
            " ectorization)                                                   \n",
            "                                                                 \n",
            " embedding (Embedding)       (None, 15, 128)           1280000   \n",
            "                                                                 \n",
            " bidirectional (Bidirectiona  (None, 128)              98816     \n",
            " l)                                                              \n",
            "                                                                 \n",
            " dense_4 (Dense)             (None, 1)                 129       \n",
            "                                                                 \n",
            "=================================================================\n",
            "Total params: 1,378,945\n",
            "Trainable params: 1,378,945\n",
            "Non-trainable params: 0\n",
            "_________________________________________________________________\n"
          ]
        }
      ]
    },
    {
      "cell_type": "code",
      "source": [
        "# compile model\n",
        "model_4.compile(loss=\"binary_crossentropy\",\n",
        "                optimizer=tf.keras.optimizers.Adam(),\n",
        "                metrics=[\"accuracy\"])"
      ],
      "metadata": {
        "id": "Jm2nHtHb4DPb"
      },
      "execution_count": null,
      "outputs": []
    },
    {
      "cell_type": "code",
      "source": [
        "# fit the model\n",
        "model_4_history = model_4.fit(train_sentences,\n",
        "                              train_labels,\n",
        "                              epochs=5,\n",
        "                              validation_data=(val_sentence, val_labels),\n",
        "                              callbacks=[create_tensorboard_callback(SAVE_DIR,\n",
        "                                                                     \"model_4_bidirectional\")])"
      ],
      "metadata": {
        "colab": {
          "base_uri": "https://localhost:8080/"
        },
        "id": "Cu2oXWJ45-T4",
        "outputId": "0d3bd9a4-1f15-4427-aafe-27f68c199e79"
      },
      "execution_count": null,
      "outputs": [
        {
          "output_type": "stream",
          "name": "stdout",
          "text": [
            "Saving TensorBoard log files to: model_logs/model_4_bidirectional/20230309-113526\n",
            "Epoch 1/5\n",
            "215/215 [==============================] - 12s 41ms/step - loss: 0.1140 - accuracy: 0.9664 - val_loss: 0.9304 - val_accuracy: 0.7756\n",
            "Epoch 2/5\n",
            "215/215 [==============================] - 2s 11ms/step - loss: 0.0558 - accuracy: 0.9766 - val_loss: 1.1819 - val_accuracy: 0.7795\n",
            "Epoch 3/5\n",
            "215/215 [==============================] - 3s 13ms/step - loss: 0.0457 - accuracy: 0.9793 - val_loss: 1.3209 - val_accuracy: 0.7782\n",
            "Epoch 4/5\n",
            "215/215 [==============================] - 2s 11ms/step - loss: 0.0419 - accuracy: 0.9804 - val_loss: 1.3276 - val_accuracy: 0.7756\n",
            "Epoch 5/5\n",
            "215/215 [==============================] - 2s 10ms/step - loss: 0.0411 - accuracy: 0.9806 - val_loss: 1.4669 - val_accuracy: 0.7638\n"
          ]
        }
      ]
    },
    {
      "cell_type": "code",
      "source": [
        "# make predictions with our bidirectional model\n",
        "model_4_pred_probs = model_4.predict(val_sentence)\n",
        "model_4_pred_probs[:10]"
      ],
      "metadata": {
        "colab": {
          "base_uri": "https://localhost:8080/"
        },
        "id": "NnMWg6oi6vJP",
        "outputId": "5b9dae94-3c9d-4c25-e2df-deaaf732a26d"
      },
      "execution_count": null,
      "outputs": [
        {
          "output_type": "stream",
          "name": "stdout",
          "text": [
            "24/24 [==============================] - 1s 3ms/step\n"
          ]
        },
        {
          "output_type": "execute_result",
          "data": {
            "text/plain": [
              "array([[3.4948487e-02],\n",
              "       [7.2331280e-01],\n",
              "       [9.9998343e-01],\n",
              "       [2.1407038e-01],\n",
              "       [1.0277471e-05],\n",
              "       [9.9991190e-01],\n",
              "       [9.9631304e-01],\n",
              "       [9.9999452e-01],\n",
              "       [9.9998987e-01],\n",
              "       [9.9470150e-01]], dtype=float32)"
            ]
          },
          "metadata": {},
          "execution_count": 69
        }
      ]
    },
    {
      "cell_type": "code",
      "source": [
        "# convert pred probs to pred labels\n",
        "model_4_preds = tf.squeeze(tf.round(model_4_pred_probs))\n",
        "model_4_preds[:10]"
      ],
      "metadata": {
        "colab": {
          "base_uri": "https://localhost:8080/"
        },
        "id": "F9sbjyYZ7S2R",
        "outputId": "49a01490-211f-48ea-c48e-152a931e2f30"
      },
      "execution_count": null,
      "outputs": [
        {
          "output_type": "execute_result",
          "data": {
            "text/plain": [
              "<tf.Tensor: shape=(10,), dtype=float32, numpy=array([0., 1., 1., 0., 0., 1., 1., 1., 1., 1.], dtype=float32)>"
            ]
          },
          "metadata": {},
          "execution_count": 70
        }
      ]
    },
    {
      "cell_type": "code",
      "source": [
        "# calculate results of our bidirectional model\n",
        "model_4_results = calculate_result(y_true=val_labels,\n",
        "                                    y_pred=model_4_preds)\n",
        "model_4_results"
      ],
      "metadata": {
        "colab": {
          "base_uri": "https://localhost:8080/"
        },
        "id": "cSD8P8m57mcX",
        "outputId": "adc163c0-85c9-4133-f42a-32be2504b449"
      },
      "execution_count": null,
      "outputs": [
        {
          "output_type": "execute_result",
          "data": {
            "text/plain": [
              "{'accuracy': 76.37795275590551,\n",
              " 'precision': 0.7645678751509686,\n",
              " 'recall': 0.7637795275590551,\n",
              " 'f1': 0.7620205519156684}"
            ]
          },
          "metadata": {},
          "execution_count": 71
        }
      ]
    },
    {
      "cell_type": "markdown",
      "source": [
        "# *Convolution Neural Networks (CNN) for Text (and other types of sequences)*\n",
        "\n",
        "We've used CNNs for images but images are typically 2D(heights x width)... however, our text data is 1D.\n",
        "\n",
        "Previously we've Conv2D for our image data but now we're going to use Conv1D\n",
        "\n",
        "The typical structure of Conv1D model for sequences(in our case, text)\n",
        "\n",
        "```\n",
        "input(text) -> Tokenization -> Embedding -> Layers (typically conv1D + Pooling) -> Outputs(class probabilities)\n",
        "```\n"
      ],
      "metadata": {
        "id": "dEAROtUh8OcE"
      }
    },
    {
      "cell_type": "markdown",
      "source": [
        "### Model 5: Conv 1D"
      ],
      "metadata": {
        "id": "SE98euqX_sFG"
      }
    },
    {
      "cell_type": "code",
      "source": [
        "# Test out our embedding layers, conv1D layer and max pooling\n",
        "from tensorflow.keras import layers\n",
        "embedding_test = embedding(text_vectorizer([\"this is a test sentence\"]))\n",
        "conv_1d = layers.Conv1D(filters=32,\n",
        "                        kernel_size=5, # 5 words at a time (logic same as ngram)\n",
        "                        activation=\"relu\",\n",
        "                        padding=\"valid\") # default = \"valid\" output is samaller than input, \"same\" = output is same as input\n",
        "conv_1d_output = conv_1d(embedding_test)\n",
        "max_pool = layers.GlobalMaxPool1D()\n",
        "max_pool_output = max_pool(conv_1d_output)\n",
        "embedding_test.shape, conv_1d_output.shape, max_pool_output.shape"
      ],
      "metadata": {
        "colab": {
          "base_uri": "https://localhost:8080/"
        },
        "id": "wFHPS5fG__5P",
        "outputId": "affb392e-aa0a-4ac6-df74-e0fa00b18ee4"
      },
      "execution_count": null,
      "outputs": [
        {
          "output_type": "execute_result",
          "data": {
            "text/plain": [
              "(TensorShape([1, 15, 128]), TensorShape([1, 11, 32]), TensorShape([1, 32]))"
            ]
          },
          "metadata": {},
          "execution_count": 72
        }
      ]
    },
    {
      "cell_type": "code",
      "source": [
        "max_pool_output\n"
      ],
      "metadata": {
        "colab": {
          "base_uri": "https://localhost:8080/"
        },
        "id": "CSk6158eB4Xx",
        "outputId": "d4e691c0-d97f-4e04-98bd-746922ad7d8b"
      },
      "execution_count": null,
      "outputs": [
        {
          "output_type": "execute_result",
          "data": {
            "text/plain": [
              "<tf.Tensor: shape=(1, 32), dtype=float32, numpy=\n",
              "array([[0.0685498 , 0.06111756, 0.05751116, 0.02513674, 0.02713765,\n",
              "        0.0068716 , 0.01262163, 0.05117726, 0.09522825, 0.07491477,\n",
              "        0.07448845, 0.03213466, 0.03063702, 0.06430008, 0.        ,\n",
              "        0.00854165, 0.01018682, 0.0303558 , 0.        , 0.05405369,\n",
              "        0.04806191, 0.0197476 , 0.02357347, 0.02020168, 0.05106865,\n",
              "        0.0147088 , 0.00229283, 0.04378598, 0.01047137, 0.10198332,\n",
              "        0.04018363, 0.00940425]], dtype=float32)>"
            ]
          },
          "metadata": {},
          "execution_count": 73
        }
      ]
    },
    {
      "cell_type": "code",
      "source": [
        "# create 1d convolutional layer to model sequences\n",
        "from tensorflow.keras import layers\n",
        "inputs = layers.Input(shape=(1,), dtype=tf.string)\n",
        "x = text_vectorizer(inputs)\n",
        "x = embedding(x)\n",
        "x = layers.Conv1D(filters=64, kernel_size=5, activation=\"relu\", padding=\"valid\")(x)\n",
        "x = layers.GlobalMaxPooling1D()(x)\n",
        "# x = layers.Dense(64, activation=\"relu\")(x)\n",
        "outputs = layers.Dense(1, activation=\"sigmoid\")(x)\n",
        "model_5 = tf.keras.Model(inputs, outputs, name=\"model_5_Conv1D\")\n",
        "\n",
        "# compile Conv1D model\n",
        "model_5.compile(loss=\"binary_crossentropy\",\n",
        "                optimizer=tf.keras.optimizers.Adam(),\n",
        "                metrics=[\"accuracy\"])\n",
        "\n",
        "# summary of model\n",
        "model_5.summary()"
      ],
      "metadata": {
        "id": "b6uBbAZKEOJf",
        "colab": {
          "base_uri": "https://localhost:8080/"
        },
        "outputId": "f042cbcb-6e50-4691-dbce-69d3169d623f"
      },
      "execution_count": null,
      "outputs": [
        {
          "output_type": "stream",
          "name": "stdout",
          "text": [
            "Model: \"model_5_Conv1D\"\n",
            "_________________________________________________________________\n",
            " Layer (type)                Output Shape              Param #   \n",
            "=================================================================\n",
            " input_5 (InputLayer)        [(None, 1)]               0         \n",
            "                                                                 \n",
            " text_vectorization_1 (TextV  (None, 15)               0         \n",
            " ectorization)                                                   \n",
            "                                                                 \n",
            " embedding (Embedding)       (None, 15, 128)           1280000   \n",
            "                                                                 \n",
            " conv1d_1 (Conv1D)           (None, 11, 64)            41024     \n",
            "                                                                 \n",
            " global_max_pooling1d_1 (Glo  (None, 64)               0         \n",
            " balMaxPooling1D)                                                \n",
            "                                                                 \n",
            " dense_5 (Dense)             (None, 1)                 65        \n",
            "                                                                 \n",
            "=================================================================\n",
            "Total params: 1,321,089\n",
            "Trainable params: 1,321,089\n",
            "Non-trainable params: 0\n",
            "_________________________________________________________________\n"
          ]
        }
      ]
    },
    {
      "cell_type": "code",
      "source": [
        "# fit the model\n",
        "model_5_history = model_5.fit(train_sentences,\n",
        "                              train_labels,\n",
        "                              epochs=5,\n",
        "                              validation_data=(val_sentence, val_labels),\n",
        "                              callbacks=[create_tensorboard_callback(SAVE_DIR,\n",
        "                                                                     \"model_5_conv1D\")])"
      ],
      "metadata": {
        "colab": {
          "base_uri": "https://localhost:8080/"
        },
        "id": "u9CGyj4QklE8",
        "outputId": "778e4e56-3f54-4360-dbf3-3a1bd6669e78"
      },
      "execution_count": null,
      "outputs": [
        {
          "output_type": "stream",
          "name": "stdout",
          "text": [
            "Saving TensorBoard log files to: model_logs/model_5_conv1D/20230309-113552\n",
            "Epoch 1/5\n",
            "215/215 [==============================] - 10s 35ms/step - loss: 0.1223 - accuracy: 0.9585 - val_loss: 0.8629 - val_accuracy: 0.7795\n",
            "Epoch 2/5\n",
            "215/215 [==============================] - 2s 9ms/step - loss: 0.0746 - accuracy: 0.9710 - val_loss: 1.0503 - val_accuracy: 0.7677\n",
            "Epoch 3/5\n",
            "215/215 [==============================] - 2s 8ms/step - loss: 0.0627 - accuracy: 0.9753 - val_loss: 1.1116 - val_accuracy: 0.7598\n",
            "Epoch 4/5\n",
            "215/215 [==============================] - 2s 10ms/step - loss: 0.0560 - accuracy: 0.9771 - val_loss: 1.1848 - val_accuracy: 0.7533\n",
            "Epoch 5/5\n",
            "215/215 [==============================] - 2s 8ms/step - loss: 0.0509 - accuracy: 0.9781 - val_loss: 1.2441 - val_accuracy: 0.7638\n"
          ]
        }
      ]
    },
    {
      "cell_type": "code",
      "source": [
        "# make some prediction \n",
        "model_5_pred_probs = model_5.predict(val_sentence)\n",
        "model_5_pred_probs[:10]"
      ],
      "metadata": {
        "colab": {
          "base_uri": "https://localhost:8080/"
        },
        "id": "XFg6ls_pnrBx",
        "outputId": "cf00f7fd-550a-43b1-92f6-c3f18b10bb2d"
      },
      "execution_count": null,
      "outputs": [
        {
          "output_type": "stream",
          "name": "stdout",
          "text": [
            "24/24 [==============================] - 0s 2ms/step\n"
          ]
        },
        {
          "output_type": "execute_result",
          "data": {
            "text/plain": [
              "array([[5.8212999e-02],\n",
              "       [6.9714725e-01],\n",
              "       [9.9985886e-01],\n",
              "       [6.5466389e-02],\n",
              "       [6.0273891e-08],\n",
              "       [9.8957622e-01],\n",
              "       [9.6684998e-01],\n",
              "       [9.9998116e-01],\n",
              "       [9.9999964e-01],\n",
              "       [8.3756876e-01]], dtype=float32)"
            ]
          },
          "metadata": {},
          "execution_count": 76
        }
      ]
    },
    {
      "cell_type": "code",
      "source": [
        "model_5_pred = tf.squeeze(tf.round(model_5_pred_probs))\n",
        "model_5_pred[:10]"
      ],
      "metadata": {
        "colab": {
          "base_uri": "https://localhost:8080/"
        },
        "id": "f_5prF8VosHB",
        "outputId": "43ad9a4b-ec77-45d6-a1f8-acde87c78817"
      },
      "execution_count": null,
      "outputs": [
        {
          "output_type": "execute_result",
          "data": {
            "text/plain": [
              "<tf.Tensor: shape=(10,), dtype=float32, numpy=array([0., 1., 1., 0., 0., 1., 1., 1., 1., 1.], dtype=float32)>"
            ]
          },
          "metadata": {},
          "execution_count": 77
        }
      ]
    },
    {
      "cell_type": "code",
      "source": [
        "# evaluate model 5 predictions\n",
        "model_5_results = calculate_result(y_true=val_labels,\n",
        "                                   y_pred=model_5_pred)\n",
        "model_5_results"
      ],
      "metadata": {
        "colab": {
          "base_uri": "https://localhost:8080/"
        },
        "id": "szxHIUCio34Z",
        "outputId": "5a91497d-19e9-4be3-ed27-d4a830d2dc1f"
      },
      "execution_count": null,
      "outputs": [
        {
          "output_type": "execute_result",
          "data": {
            "text/plain": [
              "{'accuracy': 76.37795275590551,\n",
              " 'precision': 0.7649838845988884,\n",
              " 'recall': 0.7637795275590551,\n",
              " 'f1': 0.761768588939328}"
            ]
          },
          "metadata": {},
          "execution_count": 78
        }
      ]
    },
    {
      "cell_type": "markdown",
      "source": [
        "# Model 6 : Tensorflow Hub Pretrained Senetnce Encoder"
      ],
      "metadata": {
        "id": "IdueeGXuOQVv"
      }
    },
    {
      "cell_type": "code",
      "source": [
        "sample_sentense"
      ],
      "metadata": {
        "colab": {
          "base_uri": "https://localhost:8080/",
          "height": 36
        },
        "id": "0OWNebR1SWAa",
        "outputId": "be456b69-2a4b-47a2-fe19-24e1df6d38f0"
      },
      "execution_count": null,
      "outputs": [
        {
          "output_type": "execute_result",
          "data": {
            "text/plain": [
              "'There is a flood in my street!'"
            ],
            "application/vnd.google.colaboratory.intrinsic+json": {
              "type": "string"
            }
          },
          "metadata": {},
          "execution_count": 79
        }
      ]
    },
    {
      "cell_type": "code",
      "source": [
        "import tensorflow_hub as hub\n",
        "embed = hub.load(\"https://tfhub.dev/google/universal-sentence-encoder/4\")\n",
        "embed_samples = embed([sample_sentense,\n",
        "                       \"When you can the universal senetence encoder on a sentence, it convert into number.\"])\n",
        "print(embed_samples[0][:50])"
      ],
      "metadata": {
        "colab": {
          "base_uri": "https://localhost:8080/"
        },
        "id": "tFo7KLDhRgbr",
        "outputId": "eb2a38ca-2dc3-4b27-f49c-1b8da72e403b"
      },
      "execution_count": null,
      "outputs": [
        {
          "output_type": "stream",
          "name": "stdout",
          "text": [
            "tf.Tensor(\n",
            "[-0.01602836  0.01068851  0.02425465 -0.01405769  0.01434426  0.08292625\n",
            "  0.0196337   0.0616014  -0.003527   -0.01216414  0.00978647 -0.01248498\n",
            "  0.01232347  0.09748451  0.06141113 -0.03728352  0.01860887 -0.04669853\n",
            "  0.00413913 -0.06363908 -0.02469896  0.02713692  0.02284443 -0.00210029\n",
            " -0.00630592 -0.0396496   0.02220408  0.00115074 -0.03132182  0.00119527\n",
            " -0.04012549  0.04561896 -0.01530597 -0.00175915  0.02173133 -0.08450424\n",
            "  0.03340027  0.04604554 -0.02480249 -0.08681662  0.00702696 -0.00770476\n",
            " -0.01434537  0.07814164 -0.10676058 -0.05152997 -0.00858159 -0.03232228\n",
            " -0.03871096  0.02581472], shape=(50,), dtype=float32)\n"
          ]
        }
      ]
    },
    {
      "cell_type": "code",
      "source": [
        "embed_samples[0].shape \n",
        "# The input is variable length English text and the output is a 512 dimensional vector."
      ],
      "metadata": {
        "colab": {
          "base_uri": "https://localhost:8080/"
        },
        "id": "4f4IjfoOR-4B",
        "outputId": "43e67171-696b-49cc-d7db-8f9b70501833"
      },
      "execution_count": null,
      "outputs": [
        {
          "output_type": "execute_result",
          "data": {
            "text/plain": [
              "TensorShape([512])"
            ]
          },
          "metadata": {},
          "execution_count": 81
        }
      ]
    },
    {
      "cell_type": "code",
      "source": [
        "# create a keras leyer using the USE pretrained layer from tensorflow hub\n",
        "sentence_encoder_layer = hub.KerasLayer(\"https://tfhub.dev/google/universal-sentence-encoder/4\",\n",
        "                                        input_shape=[],\n",
        "                                        dtype=tf.string,\n",
        "                                        trainable=False,\n",
        "                                        name=\"USE\")"
      ],
      "metadata": {
        "id": "3m4k3Q0SSjho",
        "colab": {
          "base_uri": "https://localhost:8080/"
        },
        "outputId": "a5531e59-94ed-4aac-d63a-ea4907a8a72f"
      },
      "execution_count": null,
      "outputs": [
        {
          "output_type": "stream",
          "name": "stderr",
          "text": [
            "WARNING:tensorflow:Please fix your imports. Module tensorflow.python.training.tracking.data_structures has been moved to tensorflow.python.trackable.data_structures. The old module will be deleted in version 2.11.\n"
          ]
        }
      ]
    },
    {
      "cell_type": "code",
      "source": [
        "# create model using the sequential API\n",
        "model_6 = tf.keras.Sequential([\n",
        "    sentence_encoder_layer,\n",
        "    layers.Dense(64, activation=\"relu\"),\n",
        "    layers.Dense(1, activation=\"sigmoid\")\n",
        "], name=\"model_6_USE\")\n",
        "\n",
        "# compile\n",
        "model_6.compile(loss=\"binary_crossentropy\",\n",
        "                optimizer=tf.keras.optimizers.Adam(),\n",
        "                metrics=[\"accuracy\"])\n",
        "\n",
        "model_6.summary()"
      ],
      "metadata": {
        "colab": {
          "base_uri": "https://localhost:8080/"
        },
        "id": "FnCXzRGsT7pD",
        "outputId": "c7bb912b-5248-484a-d99b-2de0c0b0a40b"
      },
      "execution_count": null,
      "outputs": [
        {
          "output_type": "stream",
          "name": "stderr",
          "text": [
            "WARNING:tensorflow:From /usr/local/lib/python3.9/dist-packages/tensorflow/python/autograph/pyct/static_analysis/liveness.py:83: Analyzer.lamba_check (from tensorflow.python.autograph.pyct.static_analysis.liveness) is deprecated and will be removed after 2023-09-23.\n",
            "Instructions for updating:\n",
            "Lambda fuctions will be no more assumed to be used in the statement where they are used, or at least in the same block. https://github.com/tensorflow/tensorflow/issues/56089\n"
          ]
        },
        {
          "output_type": "stream",
          "name": "stdout",
          "text": [
            "Model: \"model_6_USE\"\n",
            "_________________________________________________________________\n",
            " Layer (type)                Output Shape              Param #   \n",
            "=================================================================\n",
            " USE (KerasLayer)            (None, 512)               256797824 \n",
            "                                                                 \n",
            " dense_6 (Dense)             (None, 64)                32832     \n",
            "                                                                 \n",
            " dense_7 (Dense)             (None, 1)                 65        \n",
            "                                                                 \n",
            "=================================================================\n",
            "Total params: 256,830,721\n",
            "Trainable params: 32,897\n",
            "Non-trainable params: 256,797,824\n",
            "_________________________________________________________________\n"
          ]
        }
      ]
    },
    {
      "cell_type": "code",
      "source": [
        "# Train a classifier on top of USE pretrained embeddings\n",
        "model_6_history = model_6.fit(train_sentences,\n",
        "                              train_labels,\n",
        "                              epochs=5,\n",
        "                              validation_data=(val_sentence, val_labels),\n",
        "                              callbacks=[create_tensorboard_callback(SAVE_DIR,\n",
        "                                                                     \"tf_hub_sentence_encoder\")])"
      ],
      "metadata": {
        "colab": {
          "base_uri": "https://localhost:8080/"
        },
        "id": "LFqA3MVsXM8B",
        "outputId": "5b80126f-9fb1-4a62-9f4b-8a0ab3d20f18"
      },
      "execution_count": null,
      "outputs": [
        {
          "output_type": "stream",
          "name": "stdout",
          "text": [
            "Saving TensorBoard log files to: model_logs/tf_hub_sentence_encoder/20230309-113635\n",
            "Epoch 1/5\n",
            "215/215 [==============================] - 6s 14ms/step - loss: 0.5057 - accuracy: 0.7856 - val_loss: 0.4482 - val_accuracy: 0.7966\n",
            "Epoch 2/5\n",
            "215/215 [==============================] - 3s 14ms/step - loss: 0.4152 - accuracy: 0.8158 - val_loss: 0.4370 - val_accuracy: 0.8123\n",
            "Epoch 3/5\n",
            "215/215 [==============================] - 3s 14ms/step - loss: 0.4007 - accuracy: 0.8197 - val_loss: 0.4327 - val_accuracy: 0.8136\n",
            "Epoch 4/5\n",
            "215/215 [==============================] - 3s 12ms/step - loss: 0.3939 - accuracy: 0.8254 - val_loss: 0.4284 - val_accuracy: 0.8150\n",
            "Epoch 5/5\n",
            "215/215 [==============================] - 2s 11ms/step - loss: 0.3883 - accuracy: 0.8285 - val_loss: 0.4299 - val_accuracy: 0.8163\n"
          ]
        }
      ]
    },
    {
      "cell_type": "code",
      "source": [
        "# make predictions with USE TF hub model\n",
        "model_6_pred_probs = model_6.predict(val_sentence)\n",
        "model_6_pred_probs[:10]"
      ],
      "metadata": {
        "colab": {
          "base_uri": "https://localhost:8080/"
        },
        "id": "eLZfI6MSYQds",
        "outputId": "24c16a10-0a58-4d15-bf91-45157b7a317a"
      },
      "execution_count": null,
      "outputs": [
        {
          "output_type": "stream",
          "name": "stdout",
          "text": [
            "24/24 [==============================] - 1s 10ms/step\n"
          ]
        },
        {
          "output_type": "execute_result",
          "data": {
            "text/plain": [
              "array([[0.1570066 ],\n",
              "       [0.7446776 ],\n",
              "       [0.9877511 ],\n",
              "       [0.19960617],\n",
              "       [0.7283781 ],\n",
              "       [0.6844635 ],\n",
              "       [0.9817423 ],\n",
              "       [0.97646743],\n",
              "       [0.9232991 ],\n",
              "       [0.09719217]], dtype=float32)"
            ]
          },
          "metadata": {},
          "execution_count": 85
        }
      ]
    },
    {
      "cell_type": "code",
      "source": [
        "# convert prediction probabilities to labels\n",
        "model_6_preds = tf.squeeze(tf.round(model_6_pred_probs))\n",
        "model_6_preds[:10]"
      ],
      "metadata": {
        "colab": {
          "base_uri": "https://localhost:8080/"
        },
        "id": "UQt5WlMzYqRy",
        "outputId": "5c5416db-ff6f-4f06-e65e-ec649a24f447"
      },
      "execution_count": null,
      "outputs": [
        {
          "output_type": "execute_result",
          "data": {
            "text/plain": [
              "<tf.Tensor: shape=(10,), dtype=float32, numpy=array([0., 1., 1., 0., 1., 1., 1., 1., 1., 0.], dtype=float32)>"
            ]
          },
          "metadata": {},
          "execution_count": 86
        }
      ]
    },
    {
      "cell_type": "code",
      "source": [
        "# calculate model 6 performance metrics\n",
        "model_6_result = calculate_result(y_true=val_labels,\n",
        "                                  y_pred=model_6_preds)\n",
        "model_6_result"
      ],
      "metadata": {
        "colab": {
          "base_uri": "https://localhost:8080/"
        },
        "id": "YwvvQgtqY9KC",
        "outputId": "0d0596a9-9fbe-43c1-8767-49d60d31ec33"
      },
      "execution_count": null,
      "outputs": [
        {
          "output_type": "execute_result",
          "data": {
            "text/plain": [
              "{'accuracy': 81.62729658792651,\n",
              " 'precision': 0.8187546712946793,\n",
              " 'recall': 0.8162729658792651,\n",
              " 'f1': 0.8147089025083661}"
            ]
          },
          "metadata": {},
          "execution_count": 87
        }
      ]
    },
    {
      "cell_type": "code",
      "source": [
        "baseline_result"
      ],
      "metadata": {
        "colab": {
          "base_uri": "https://localhost:8080/"
        },
        "id": "vdt5Z-UJZYLX",
        "outputId": "8717fa8c-6256-442f-97d4-13adcbaa22b5"
      },
      "execution_count": null,
      "outputs": [
        {
          "output_type": "execute_result",
          "data": {
            "text/plain": [
              "{'accuracy': 79.26509186351706,\n",
              " 'precision': 0.8111390004213173,\n",
              " 'recall': 0.7926509186351706,\n",
              " 'f1': 0.7862189758049549}"
            ]
          },
          "metadata": {},
          "execution_count": 88
        }
      ]
    },
    {
      "cell_type": "markdown",
      "source": [
        "# Model 7 : TF Hub pretrained USE but with 10% of training data\n",
        "\n",
        "Transfer Learning really helps when you don't have large dataset\n",
        "\n"
      ],
      "metadata": {
        "id": "y45KRwfSZb8O"
      }
    },
    {
      "cell_type": "code",
      "source": [
        "train_df_shuffle.shape"
      ],
      "metadata": {
        "colab": {
          "base_uri": "https://localhost:8080/"
        },
        "id": "X_n3NHo8bvNd",
        "outputId": "15659441-15a7-4800-fe57-169f6d39e9f5"
      },
      "execution_count": null,
      "outputs": [
        {
          "output_type": "execute_result",
          "data": {
            "text/plain": [
              "(7613, 5)"
            ]
          },
          "metadata": {},
          "execution_count": 89
        }
      ]
    },
    {
      "cell_type": "code",
      "source": [
        "# Note: Making data split like below leads to data leakage (model_7 trained on 10% data, outperforms model_6 trained on 100%)\n",
        "## DO NOT MAKE DATA SPLITS WHICH LEAK DATA FROM VALIDATION/TEST SETS INTO TRAINING SET\n",
        "\n",
        "# # create subset of 10% of the training data\n",
        "# train_10_percent = train_df_shuffle[[\"text\", \"target\"]].sample(frac=0.1, random_state=42)\n",
        "# print(train_10_percent.shape)\n",
        "\n",
        "# # divide into label n features\n",
        "# train_sentences_10_percent = train_10_percent[\"text\"].to_list()\n",
        "# train_labels_10_percent = train_10_percent[\"target\"].to_list()\n",
        "# len(train_sentences_10_percent), len(train_labels_10_percent)"
      ],
      "metadata": {
        "id": "2IGtQeGybRYs"
      },
      "execution_count": null,
      "outputs": []
    },
    {
      "cell_type": "markdown",
      "source": [
        "🔑**Note**: Be very aware while splitting data into train/val/test dataset otherwise because of data lekage you can't evaluate metrics correctly."
      ],
      "metadata": {
        "id": "W6qlG04xyyAG"
      }
    },
    {
      "cell_type": "code",
      "source": [
        "# Making a better dataset split (no data leakage)\n",
        "train_10_percent_split = int(0.1 * len(train_sentences))\n",
        "train_sentences_10_percent = train_sentences[:train_10_percent_split]\n",
        "train_labels_10_percent = train_labels[:train_10_percent_split]"
      ],
      "metadata": {
        "id": "AIPoMneEvzWY"
      },
      "execution_count": null,
      "outputs": []
    },
    {
      "cell_type": "code",
      "source": [
        "len(train_sentences_10_percent), len(train_labels_10_percent)"
      ],
      "metadata": {
        "colab": {
          "base_uri": "https://localhost:8080/"
        },
        "id": "Br5na6pTw1nf",
        "outputId": "fd641389-4007-4ad4-bee5-4d5076cea4c3"
      },
      "execution_count": null,
      "outputs": [
        {
          "output_type": "execute_result",
          "data": {
            "text/plain": [
              "(685, 685)"
            ]
          },
          "metadata": {},
          "execution_count": 92
        }
      ]
    },
    {
      "cell_type": "code",
      "source": [
        "import numpy as np\n",
        "# check the number of targets in our subset of data\n",
        "pd.Series(np.array(train_labels_10_percent)).value_counts()"
      ],
      "metadata": {
        "colab": {
          "base_uri": "https://localhost:8080/"
        },
        "id": "HqhqGfn5xIio",
        "outputId": "11680390-6a7a-43e2-a93e-ab208dab211d"
      },
      "execution_count": null,
      "outputs": [
        {
          "output_type": "execute_result",
          "data": {
            "text/plain": [
              "0    406\n",
              "1    279\n",
              "dtype: int64"
            ]
          },
          "metadata": {},
          "execution_count": 93
        }
      ]
    },
    {
      "cell_type": "code",
      "source": [
        "# check the number of targets in our subset of data\n",
        "# train_10_percent['target'].value_counts()"
      ],
      "metadata": {
        "id": "WzRDkVnzb-U3"
      },
      "execution_count": null,
      "outputs": []
    },
    {
      "cell_type": "code",
      "source": [
        "train_df_shuffle['target'].value_counts()"
      ],
      "metadata": {
        "colab": {
          "base_uri": "https://localhost:8080/"
        },
        "id": "kUDhcBeYdLcq",
        "outputId": "943dde13-285f-4f55-d216-aa5b925ccb79"
      },
      "execution_count": null,
      "outputs": [
        {
          "output_type": "execute_result",
          "data": {
            "text/plain": [
              "0    4342\n",
              "1    3271\n",
              "Name: target, dtype: int64"
            ]
          },
          "metadata": {},
          "execution_count": 97
        }
      ]
    },
    {
      "cell_type": "markdown",
      "source": [
        "To recreate a model the same as a previous model you've created you can use `tf.keras.models.clone`"
      ],
      "metadata": {
        "id": "sHizh194d8a2"
      }
    },
    {
      "cell_type": "code",
      "source": [
        "# let's build a model the same as model_6\n",
        "model_7 = tf.keras.models.clone_model(model_6)\n",
        "\n",
        "# compile model\n",
        "model_7.compile(loss=\"binary_crossentropy\",\n",
        "                optimizer=tf.keras.optimizers.Adam(),\n",
        "                metrics=[\"accuracy\"])\n",
        "\n",
        "model_7.summary()"
      ],
      "metadata": {
        "colab": {
          "base_uri": "https://localhost:8080/"
        },
        "id": "SatLSm7leiSt",
        "outputId": "854e822a-6747-4da6-c641-85557f110e0f"
      },
      "execution_count": null,
      "outputs": [
        {
          "output_type": "stream",
          "name": "stdout",
          "text": [
            "Model: \"model_6_USE\"\n",
            "_________________________________________________________________\n",
            " Layer (type)                Output Shape              Param #   \n",
            "=================================================================\n",
            " USE (KerasLayer)            (None, 512)               256797824 \n",
            "                                                                 \n",
            " dense_6 (Dense)             (None, 64)                32832     \n",
            "                                                                 \n",
            " dense_7 (Dense)             (None, 1)                 65        \n",
            "                                                                 \n",
            "=================================================================\n",
            "Total params: 256,830,721\n",
            "Trainable params: 32,897\n",
            "Non-trainable params: 256,797,824\n",
            "_________________________________________________________________\n"
          ]
        }
      ]
    },
    {
      "cell_type": "code",
      "source": [
        "# fit a model\n",
        "model_7_history = model_7.fit(train_sentences_10_percent,\n",
        "                  train_labels_10_percent,\n",
        "                  epochs=5,\n",
        "                  validation_data=(val_sentence, val_labels),\n",
        "                  callbacks=[create_tensorboard_callback(SAVE_DIR,\n",
        "                                                        \"tf_hub_sentnce_encoder_10_percent_correct_split\")])"
      ],
      "metadata": {
        "colab": {
          "base_uri": "https://localhost:8080/"
        },
        "id": "j2Ux1yKNgKAO",
        "outputId": "71801c57-f1ff-4003-dad5-7dce15269703"
      },
      "execution_count": null,
      "outputs": [
        {
          "output_type": "stream",
          "name": "stdout",
          "text": [
            "Saving TensorBoard log files to: model_logs/tf_hub_sentnce_encoder_10_percent_correct_split/20230309-114006\n",
            "Epoch 1/5\n",
            "22/22 [==============================] - 4s 43ms/step - loss: 0.6633 - accuracy: 0.7212 - val_loss: 0.6450 - val_accuracy: 0.7257\n",
            "Epoch 2/5\n",
            "22/22 [==============================] - 1s 26ms/step - loss: 0.5923 - accuracy: 0.8000 - val_loss: 0.5884 - val_accuracy: 0.7559\n",
            "Epoch 3/5\n",
            "22/22 [==============================] - 0s 23ms/step - loss: 0.5173 - accuracy: 0.8175 - val_loss: 0.5355 - val_accuracy: 0.7703\n",
            "Epoch 4/5\n",
            "22/22 [==============================] - 0s 22ms/step - loss: 0.4584 - accuracy: 0.8204 - val_loss: 0.5064 - val_accuracy: 0.7756\n",
            "Epoch 5/5\n",
            "22/22 [==============================] - 0s 23ms/step - loss: 0.4183 - accuracy: 0.8350 - val_loss: 0.4906 - val_accuracy: 0.7756\n"
          ]
        }
      ]
    },
    {
      "cell_type": "code",
      "source": [
        "# make predictions with the model trained on 10%\n",
        "model_7_pred_probs = model_7.predict(val_sentence)\n",
        "model_7_pred_probs[:10]"
      ],
      "metadata": {
        "colab": {
          "base_uri": "https://localhost:8080/"
        },
        "id": "JE3DIH3sgSUR",
        "outputId": "f07bd137-6ed5-4825-f050-19a3583af555"
      },
      "execution_count": null,
      "outputs": [
        {
          "output_type": "stream",
          "name": "stdout",
          "text": [
            "24/24 [==============================] - 1s 15ms/step\n"
          ]
        },
        {
          "output_type": "execute_result",
          "data": {
            "text/plain": [
              "array([[0.20615855],\n",
              "       [0.56490993],\n",
              "       [0.9282367 ],\n",
              "       [0.35105696],\n",
              "       [0.5178613 ],\n",
              "       [0.6893032 ],\n",
              "       [0.88904697],\n",
              "       [0.8066506 ],\n",
              "       [0.87132215],\n",
              "       [0.16702528]], dtype=float32)"
            ]
          },
          "metadata": {},
          "execution_count": 100
        }
      ]
    },
    {
      "cell_type": "code",
      "source": [
        "model_7_pred = tf.squeeze(tf.round(model_7_pred_probs))\n",
        "model_7_pred[:10]"
      ],
      "metadata": {
        "colab": {
          "base_uri": "https://localhost:8080/"
        },
        "id": "2KXfATGehDpr",
        "outputId": "20b85dc0-5ee6-4d30-aea6-1e7006bea96a"
      },
      "execution_count": null,
      "outputs": [
        {
          "output_type": "execute_result",
          "data": {
            "text/plain": [
              "<tf.Tensor: shape=(10,), dtype=float32, numpy=array([0., 1., 1., 0., 1., 1., 1., 1., 1., 0.], dtype=float32)>"
            ]
          },
          "metadata": {},
          "execution_count": 101
        }
      ]
    },
    {
      "cell_type": "code",
      "source": [
        "# evaluate model 7 predictions\n",
        "model_7_result = calculate_result(y_true=val_labels,\n",
        "                                  y_pred=model_7_pred)\n",
        "model_7_result"
      ],
      "metadata": {
        "colab": {
          "base_uri": "https://localhost:8080/"
        },
        "id": "oJUNnb4ehQmP",
        "outputId": "b9607320-c345-477b-dc9c-5ed25ce59edf"
      },
      "execution_count": null,
      "outputs": [
        {
          "output_type": "execute_result",
          "data": {
            "text/plain": [
              "{'accuracy': 77.55905511811024,\n",
              " 'precision': 0.7765218346613636,\n",
              " 'recall': 0.7755905511811023,\n",
              " 'f1': 0.7739772681043204}"
            ]
          },
          "metadata": {},
          "execution_count": 102
        }
      ]
    },
    {
      "cell_type": "code",
      "source": [
        "model_6_result"
      ],
      "metadata": {
        "colab": {
          "base_uri": "https://localhost:8080/"
        },
        "id": "53PcTQVMhoZB",
        "outputId": "0d8cfaf2-4508-4fd2-ce6a-585accaff3f5"
      },
      "execution_count": null,
      "outputs": [
        {
          "output_type": "execute_result",
          "data": {
            "text/plain": [
              "{'accuracy': 81.62729658792651,\n",
              " 'precision': 0.8187546712946793,\n",
              " 'recall': 0.8162729658792651,\n",
              " 'f1': 0.8147089025083661}"
            ]
          },
          "metadata": {},
          "execution_count": 103
        }
      ]
    },
    {
      "cell_type": "markdown",
      "source": [
        "# Comapring the performace of each of our models"
      ],
      "metadata": {
        "id": "OccS4aHGh58R"
      }
    },
    {
      "cell_type": "code",
      "source": [
        "# combine model results into a DataFrame\n",
        "all_model_results = pd.DataFrame({\"0_baseline\": baseline_result,\n",
        "                                 \"1_simple_dense\": model_1_results,\n",
        "                                 \"2_lstm\": model_2_results,\n",
        "                                 \"3_gru\": model_3_results,\n",
        "                                 \"4_bidirectional\": model_4_results,\n",
        "                                 \"5_conv1d\": model_5_results,\n",
        "                                 \"6_tf_hub_use_encoder\": model_6_result,\n",
        "                                 \"7_tf_hub_use_encoder_10_percent\":model_7_result})\n",
        "all_model_results = all_model_results.transpose()\n",
        "all_model_results"
      ],
      "metadata": {
        "colab": {
          "base_uri": "https://localhost:8080/",
          "height": 300
        },
        "id": "baDhr_Y7zeNY",
        "outputId": "8bcaf48b-976f-4769-ba24-858254723bc3"
      },
      "execution_count": null,
      "outputs": [
        {
          "output_type": "execute_result",
          "data": {
            "text/plain": [
              "                                  accuracy  precision    recall        f1\n",
              "0_baseline                       79.265092   0.811139  0.792651  0.786219\n",
              "1_simple_dense                   78.346457   0.788873  0.783465  0.780192\n",
              "2_lstm                           77.952756   0.781655  0.779528  0.777402\n",
              "3_gru                            77.296588   0.783782  0.772966  0.767543\n",
              "4_bidirectional                  76.377953   0.764568  0.763780  0.762021\n",
              "5_conv1d                         76.377953   0.764984  0.763780  0.761769\n",
              "6_tf_hub_use_encoder             81.627297   0.818755  0.816273  0.814709\n",
              "7_tf_hub_use_encoder_10_percent  77.559055   0.776522  0.775591  0.773977"
            ],
            "text/html": [
              "\n",
              "  <div id=\"df-ff8d9d41-8024-4c6f-866b-27fbbfed8c04\">\n",
              "    <div class=\"colab-df-container\">\n",
              "      <div>\n",
              "<style scoped>\n",
              "    .dataframe tbody tr th:only-of-type {\n",
              "        vertical-align: middle;\n",
              "    }\n",
              "\n",
              "    .dataframe tbody tr th {\n",
              "        vertical-align: top;\n",
              "    }\n",
              "\n",
              "    .dataframe thead th {\n",
              "        text-align: right;\n",
              "    }\n",
              "</style>\n",
              "<table border=\"1\" class=\"dataframe\">\n",
              "  <thead>\n",
              "    <tr style=\"text-align: right;\">\n",
              "      <th></th>\n",
              "      <th>accuracy</th>\n",
              "      <th>precision</th>\n",
              "      <th>recall</th>\n",
              "      <th>f1</th>\n",
              "    </tr>\n",
              "  </thead>\n",
              "  <tbody>\n",
              "    <tr>\n",
              "      <th>0_baseline</th>\n",
              "      <td>79.265092</td>\n",
              "      <td>0.811139</td>\n",
              "      <td>0.792651</td>\n",
              "      <td>0.786219</td>\n",
              "    </tr>\n",
              "    <tr>\n",
              "      <th>1_simple_dense</th>\n",
              "      <td>78.346457</td>\n",
              "      <td>0.788873</td>\n",
              "      <td>0.783465</td>\n",
              "      <td>0.780192</td>\n",
              "    </tr>\n",
              "    <tr>\n",
              "      <th>2_lstm</th>\n",
              "      <td>77.952756</td>\n",
              "      <td>0.781655</td>\n",
              "      <td>0.779528</td>\n",
              "      <td>0.777402</td>\n",
              "    </tr>\n",
              "    <tr>\n",
              "      <th>3_gru</th>\n",
              "      <td>77.296588</td>\n",
              "      <td>0.783782</td>\n",
              "      <td>0.772966</td>\n",
              "      <td>0.767543</td>\n",
              "    </tr>\n",
              "    <tr>\n",
              "      <th>4_bidirectional</th>\n",
              "      <td>76.377953</td>\n",
              "      <td>0.764568</td>\n",
              "      <td>0.763780</td>\n",
              "      <td>0.762021</td>\n",
              "    </tr>\n",
              "    <tr>\n",
              "      <th>5_conv1d</th>\n",
              "      <td>76.377953</td>\n",
              "      <td>0.764984</td>\n",
              "      <td>0.763780</td>\n",
              "      <td>0.761769</td>\n",
              "    </tr>\n",
              "    <tr>\n",
              "      <th>6_tf_hub_use_encoder</th>\n",
              "      <td>81.627297</td>\n",
              "      <td>0.818755</td>\n",
              "      <td>0.816273</td>\n",
              "      <td>0.814709</td>\n",
              "    </tr>\n",
              "    <tr>\n",
              "      <th>7_tf_hub_use_encoder_10_percent</th>\n",
              "      <td>77.559055</td>\n",
              "      <td>0.776522</td>\n",
              "      <td>0.775591</td>\n",
              "      <td>0.773977</td>\n",
              "    </tr>\n",
              "  </tbody>\n",
              "</table>\n",
              "</div>\n",
              "      <button class=\"colab-df-convert\" onclick=\"convertToInteractive('df-ff8d9d41-8024-4c6f-866b-27fbbfed8c04')\"\n",
              "              title=\"Convert this dataframe to an interactive table.\"\n",
              "              style=\"display:none;\">\n",
              "        \n",
              "  <svg xmlns=\"http://www.w3.org/2000/svg\" height=\"24px\"viewBox=\"0 0 24 24\"\n",
              "       width=\"24px\">\n",
              "    <path d=\"M0 0h24v24H0V0z\" fill=\"none\"/>\n",
              "    <path d=\"M18.56 5.44l.94 2.06.94-2.06 2.06-.94-2.06-.94-.94-2.06-.94 2.06-2.06.94zm-11 1L8.5 8.5l.94-2.06 2.06-.94-2.06-.94L8.5 2.5l-.94 2.06-2.06.94zm10 10l.94 2.06.94-2.06 2.06-.94-2.06-.94-.94-2.06-.94 2.06-2.06.94z\"/><path d=\"M17.41 7.96l-1.37-1.37c-.4-.4-.92-.59-1.43-.59-.52 0-1.04.2-1.43.59L10.3 9.45l-7.72 7.72c-.78.78-.78 2.05 0 2.83L4 21.41c.39.39.9.59 1.41.59.51 0 1.02-.2 1.41-.59l7.78-7.78 2.81-2.81c.8-.78.8-2.07 0-2.86zM5.41 20L4 18.59l7.72-7.72 1.47 1.35L5.41 20z\"/>\n",
              "  </svg>\n",
              "      </button>\n",
              "      \n",
              "  <style>\n",
              "    .colab-df-container {\n",
              "      display:flex;\n",
              "      flex-wrap:wrap;\n",
              "      gap: 12px;\n",
              "    }\n",
              "\n",
              "    .colab-df-convert {\n",
              "      background-color: #E8F0FE;\n",
              "      border: none;\n",
              "      border-radius: 50%;\n",
              "      cursor: pointer;\n",
              "      display: none;\n",
              "      fill: #1967D2;\n",
              "      height: 32px;\n",
              "      padding: 0 0 0 0;\n",
              "      width: 32px;\n",
              "    }\n",
              "\n",
              "    .colab-df-convert:hover {\n",
              "      background-color: #E2EBFA;\n",
              "      box-shadow: 0px 1px 2px rgba(60, 64, 67, 0.3), 0px 1px 3px 1px rgba(60, 64, 67, 0.15);\n",
              "      fill: #174EA6;\n",
              "    }\n",
              "\n",
              "    [theme=dark] .colab-df-convert {\n",
              "      background-color: #3B4455;\n",
              "      fill: #D2E3FC;\n",
              "    }\n",
              "\n",
              "    [theme=dark] .colab-df-convert:hover {\n",
              "      background-color: #434B5C;\n",
              "      box-shadow: 0px 1px 3px 1px rgba(0, 0, 0, 0.15);\n",
              "      filter: drop-shadow(0px 1px 2px rgba(0, 0, 0, 0.3));\n",
              "      fill: #FFFFFF;\n",
              "    }\n",
              "  </style>\n",
              "\n",
              "      <script>\n",
              "        const buttonEl =\n",
              "          document.querySelector('#df-ff8d9d41-8024-4c6f-866b-27fbbfed8c04 button.colab-df-convert');\n",
              "        buttonEl.style.display =\n",
              "          google.colab.kernel.accessAllowed ? 'block' : 'none';\n",
              "\n",
              "        async function convertToInteractive(key) {\n",
              "          const element = document.querySelector('#df-ff8d9d41-8024-4c6f-866b-27fbbfed8c04');\n",
              "          const dataTable =\n",
              "            await google.colab.kernel.invokeFunction('convertToInteractive',\n",
              "                                                     [key], {});\n",
              "          if (!dataTable) return;\n",
              "\n",
              "          const docLinkHtml = 'Like what you see? Visit the ' +\n",
              "            '<a target=\"_blank\" href=https://colab.research.google.com/notebooks/data_table.ipynb>data table notebook</a>'\n",
              "            + ' to learn more about interactive tables.';\n",
              "          element.innerHTML = '';\n",
              "          dataTable['output_type'] = 'display_data';\n",
              "          await google.colab.output.renderOutput(dataTable, element);\n",
              "          const docLink = document.createElement('div');\n",
              "          docLink.innerHTML = docLinkHtml;\n",
              "          element.appendChild(docLink);\n",
              "        }\n",
              "      </script>\n",
              "    </div>\n",
              "  </div>\n",
              "  "
            ]
          },
          "metadata": {},
          "execution_count": 104
        }
      ]
    },
    {
      "cell_type": "code",
      "source": [
        "# reduce the accuracy to the same scale as other metrics\n",
        "all_model_results[\"accuracy\"] = all_model_results[\"accuracy\"]/100\n",
        "all_model_results"
      ],
      "metadata": {
        "colab": {
          "base_uri": "https://localhost:8080/",
          "height": 300
        },
        "id": "gF-eqzER5fV1",
        "outputId": "b53e8d63-160f-4847-e491-fadae256329b"
      },
      "execution_count": null,
      "outputs": [
        {
          "output_type": "execute_result",
          "data": {
            "text/plain": [
              "                                 accuracy  precision    recall        f1\n",
              "0_baseline                       0.792651   0.811139  0.792651  0.786219\n",
              "1_simple_dense                   0.783465   0.788873  0.783465  0.780192\n",
              "2_lstm                           0.779528   0.781655  0.779528  0.777402\n",
              "3_gru                            0.772966   0.783782  0.772966  0.767543\n",
              "4_bidirectional                  0.763780   0.764568  0.763780  0.762021\n",
              "5_conv1d                         0.763780   0.764984  0.763780  0.761769\n",
              "6_tf_hub_use_encoder             0.816273   0.818755  0.816273  0.814709\n",
              "7_tf_hub_use_encoder_10_percent  0.775591   0.776522  0.775591  0.773977"
            ],
            "text/html": [
              "\n",
              "  <div id=\"df-b4bcae5c-a505-46f0-9ac5-69c3629c8718\">\n",
              "    <div class=\"colab-df-container\">\n",
              "      <div>\n",
              "<style scoped>\n",
              "    .dataframe tbody tr th:only-of-type {\n",
              "        vertical-align: middle;\n",
              "    }\n",
              "\n",
              "    .dataframe tbody tr th {\n",
              "        vertical-align: top;\n",
              "    }\n",
              "\n",
              "    .dataframe thead th {\n",
              "        text-align: right;\n",
              "    }\n",
              "</style>\n",
              "<table border=\"1\" class=\"dataframe\">\n",
              "  <thead>\n",
              "    <tr style=\"text-align: right;\">\n",
              "      <th></th>\n",
              "      <th>accuracy</th>\n",
              "      <th>precision</th>\n",
              "      <th>recall</th>\n",
              "      <th>f1</th>\n",
              "    </tr>\n",
              "  </thead>\n",
              "  <tbody>\n",
              "    <tr>\n",
              "      <th>0_baseline</th>\n",
              "      <td>0.792651</td>\n",
              "      <td>0.811139</td>\n",
              "      <td>0.792651</td>\n",
              "      <td>0.786219</td>\n",
              "    </tr>\n",
              "    <tr>\n",
              "      <th>1_simple_dense</th>\n",
              "      <td>0.783465</td>\n",
              "      <td>0.788873</td>\n",
              "      <td>0.783465</td>\n",
              "      <td>0.780192</td>\n",
              "    </tr>\n",
              "    <tr>\n",
              "      <th>2_lstm</th>\n",
              "      <td>0.779528</td>\n",
              "      <td>0.781655</td>\n",
              "      <td>0.779528</td>\n",
              "      <td>0.777402</td>\n",
              "    </tr>\n",
              "    <tr>\n",
              "      <th>3_gru</th>\n",
              "      <td>0.772966</td>\n",
              "      <td>0.783782</td>\n",
              "      <td>0.772966</td>\n",
              "      <td>0.767543</td>\n",
              "    </tr>\n",
              "    <tr>\n",
              "      <th>4_bidirectional</th>\n",
              "      <td>0.763780</td>\n",
              "      <td>0.764568</td>\n",
              "      <td>0.763780</td>\n",
              "      <td>0.762021</td>\n",
              "    </tr>\n",
              "    <tr>\n",
              "      <th>5_conv1d</th>\n",
              "      <td>0.763780</td>\n",
              "      <td>0.764984</td>\n",
              "      <td>0.763780</td>\n",
              "      <td>0.761769</td>\n",
              "    </tr>\n",
              "    <tr>\n",
              "      <th>6_tf_hub_use_encoder</th>\n",
              "      <td>0.816273</td>\n",
              "      <td>0.818755</td>\n",
              "      <td>0.816273</td>\n",
              "      <td>0.814709</td>\n",
              "    </tr>\n",
              "    <tr>\n",
              "      <th>7_tf_hub_use_encoder_10_percent</th>\n",
              "      <td>0.775591</td>\n",
              "      <td>0.776522</td>\n",
              "      <td>0.775591</td>\n",
              "      <td>0.773977</td>\n",
              "    </tr>\n",
              "  </tbody>\n",
              "</table>\n",
              "</div>\n",
              "      <button class=\"colab-df-convert\" onclick=\"convertToInteractive('df-b4bcae5c-a505-46f0-9ac5-69c3629c8718')\"\n",
              "              title=\"Convert this dataframe to an interactive table.\"\n",
              "              style=\"display:none;\">\n",
              "        \n",
              "  <svg xmlns=\"http://www.w3.org/2000/svg\" height=\"24px\"viewBox=\"0 0 24 24\"\n",
              "       width=\"24px\">\n",
              "    <path d=\"M0 0h24v24H0V0z\" fill=\"none\"/>\n",
              "    <path d=\"M18.56 5.44l.94 2.06.94-2.06 2.06-.94-2.06-.94-.94-2.06-.94 2.06-2.06.94zm-11 1L8.5 8.5l.94-2.06 2.06-.94-2.06-.94L8.5 2.5l-.94 2.06-2.06.94zm10 10l.94 2.06.94-2.06 2.06-.94-2.06-.94-.94-2.06-.94 2.06-2.06.94z\"/><path d=\"M17.41 7.96l-1.37-1.37c-.4-.4-.92-.59-1.43-.59-.52 0-1.04.2-1.43.59L10.3 9.45l-7.72 7.72c-.78.78-.78 2.05 0 2.83L4 21.41c.39.39.9.59 1.41.59.51 0 1.02-.2 1.41-.59l7.78-7.78 2.81-2.81c.8-.78.8-2.07 0-2.86zM5.41 20L4 18.59l7.72-7.72 1.47 1.35L5.41 20z\"/>\n",
              "  </svg>\n",
              "      </button>\n",
              "      \n",
              "  <style>\n",
              "    .colab-df-container {\n",
              "      display:flex;\n",
              "      flex-wrap:wrap;\n",
              "      gap: 12px;\n",
              "    }\n",
              "\n",
              "    .colab-df-convert {\n",
              "      background-color: #E8F0FE;\n",
              "      border: none;\n",
              "      border-radius: 50%;\n",
              "      cursor: pointer;\n",
              "      display: none;\n",
              "      fill: #1967D2;\n",
              "      height: 32px;\n",
              "      padding: 0 0 0 0;\n",
              "      width: 32px;\n",
              "    }\n",
              "\n",
              "    .colab-df-convert:hover {\n",
              "      background-color: #E2EBFA;\n",
              "      box-shadow: 0px 1px 2px rgba(60, 64, 67, 0.3), 0px 1px 3px 1px rgba(60, 64, 67, 0.15);\n",
              "      fill: #174EA6;\n",
              "    }\n",
              "\n",
              "    [theme=dark] .colab-df-convert {\n",
              "      background-color: #3B4455;\n",
              "      fill: #D2E3FC;\n",
              "    }\n",
              "\n",
              "    [theme=dark] .colab-df-convert:hover {\n",
              "      background-color: #434B5C;\n",
              "      box-shadow: 0px 1px 3px 1px rgba(0, 0, 0, 0.15);\n",
              "      filter: drop-shadow(0px 1px 2px rgba(0, 0, 0, 0.3));\n",
              "      fill: #FFFFFF;\n",
              "    }\n",
              "  </style>\n",
              "\n",
              "      <script>\n",
              "        const buttonEl =\n",
              "          document.querySelector('#df-b4bcae5c-a505-46f0-9ac5-69c3629c8718 button.colab-df-convert');\n",
              "        buttonEl.style.display =\n",
              "          google.colab.kernel.accessAllowed ? 'block' : 'none';\n",
              "\n",
              "        async function convertToInteractive(key) {\n",
              "          const element = document.querySelector('#df-b4bcae5c-a505-46f0-9ac5-69c3629c8718');\n",
              "          const dataTable =\n",
              "            await google.colab.kernel.invokeFunction('convertToInteractive',\n",
              "                                                     [key], {});\n",
              "          if (!dataTable) return;\n",
              "\n",
              "          const docLinkHtml = 'Like what you see? Visit the ' +\n",
              "            '<a target=\"_blank\" href=https://colab.research.google.com/notebooks/data_table.ipynb>data table notebook</a>'\n",
              "            + ' to learn more about interactive tables.';\n",
              "          element.innerHTML = '';\n",
              "          dataTable['output_type'] = 'display_data';\n",
              "          await google.colab.output.renderOutput(dataTable, element);\n",
              "          const docLink = document.createElement('div');\n",
              "          docLink.innerHTML = docLinkHtml;\n",
              "          element.appendChild(docLink);\n",
              "        }\n",
              "      </script>\n",
              "    </div>\n",
              "  </div>\n",
              "  "
            ]
          },
          "metadata": {},
          "execution_count": 105
        }
      ]
    },
    {
      "cell_type": "code",
      "source": [
        "# plot and compare all of the model results\n",
        "all_model_results.plot(kind=\"bar\", figsize=(10, 7)).legend(bbox_to_anchor=(1.0, 1.0));"
      ],
      "metadata": {
        "colab": {
          "base_uri": "https://localhost:8080/",
          "height": 560
        },
        "id": "cgNvu8lq6r1Z",
        "outputId": "ecb89e8d-2307-44d7-e71f-7c0242a25cc8"
      },
      "execution_count": null,
      "outputs": [
        {
          "output_type": "display_data",
          "data": {
            "text/plain": [
              "<Figure size 720x504 with 1 Axes>"
            ],
            "image/png": "[encoded data removed]"
          },
          "metadata": {
            "needs_background": "light"
          }
        }
      ]
    },
    {
      "cell_type": "code",
      "source": [
        "# sort model result by f1-score\n",
        "all_model_results.sort_values(\"f1\", ascending=False)[\"f1\"].plot(kind=\"bar\", figsize=(10, 7))"
      ],
      "metadata": {
        "colab": {
          "base_uri": "https://localhost:8080/",
          "height": 607
        },
        "id": "Wq2rzUxl7fj0",
        "outputId": "e493b371-40d8-452c-aca3-49b1b81216ba"
      },
      "execution_count": null,
      "outputs": [
        {
          "output_type": "execute_result",
          "data": {
            "text/plain": [
              "<AxesSubplot:>"
            ]
          },
          "metadata": {},
          "execution_count": 107
        },
        {
          "output_type": "display_data",
          "data": {
            "text/plain": [
              "<Figure size 720x504 with 1 Axes>"
            ],
            "image/png": "[encoded data removed]"
          },
          "metadata": {
            "needs_background": "light"
          }
        }
      ]
    },
    {
      "cell_type": "markdown",
      "source": [
        "# Uploading our model training logs to TensorBoard.dev\n",
        "\n",
        "We can further inspect our model's performance using TensorBoard.dev:https://tensorboard.dev/"
      ],
      "metadata": {
        "id": "JdB_TbvJ89Kz"
      }
    },
    {
      "cell_type": "code",
      "source": [
        "# from tables import description\n",
        "# # View TensorBoard logs of transfer learning modeling experiments\n",
        "# # upload dev records\n",
        "# !tensorboard dev upload --logdir ./model_logs/ \\\n",
        "#   --name \"NLP Modeling Experiments Course\" \\\n",
        "#   --description \"Comparing multiple different types of model archetecture on the kaggle tweet text classification datasets\" \\\n",
        "#   --one_shot"
      ],
      "metadata": {
        "id": "ZIXClbV__9Ih"
      },
      "execution_count": null,
      "outputs": []
    },
    {
      "cell_type": "markdown",
      "source": [
        "https://tensorboard.dev/experiment/fywSMe5ATjO4rOzQ2J3fGQ/"
      ],
      "metadata": {
        "id": "pnSLhua6DXhm"
      }
    },
    {
      "cell_type": "code",
      "source": [
        "# see previous Tensorboard dev experiment list\n",
        "# !tensorboard dev list"
      ],
      "metadata": {
        "id": "_c5-SDdBEqNG"
      },
      "execution_count": null,
      "outputs": []
    },
    {
      "cell_type": "code",
      "source": [
        "# if you need to delete an experiment\n",
        "# !tensorboard dev delete --experiment_id xyz"
      ],
      "metadata": {
        "id": "g54HQQJ3FRFF"
      },
      "execution_count": null,
      "outputs": []
    },
    {
      "cell_type": "markdown",
      "source": [
        "# Saving and loading a trained model\n",
        "\n",
        "There are two main formats to save a model to in TensorFlow\n",
        "1. The HDF5\n",
        "2. the `savedModel` format (this is the default when using Tensorflow)"
      ],
      "metadata": {
        "id": "YTu3d0TZFjhS"
      }
    },
    {
      "cell_type": "code",
      "source": [
        "# save TF hub senetnce Encoder model to HDF5\n",
        "model_6.save(\"model_6.h5\")"
      ],
      "metadata": {
        "id": "P2UNPlLIGKV3"
      },
      "execution_count": null,
      "outputs": []
    },
    {
      "cell_type": "code",
      "source": [
        "# load model with custom hub layers (required HDF5 format)\n",
        "import tensorflow_hub as hub\n",
        "loaded_model_6 = tf.keras.models.load_model((\"model_6.h5\"),\n",
        "                                            custom_objects={'KerasLayer':hub.KerasLayer})"
      ],
      "metadata": {
        "id": "Jn5TQtLiGON5"
      },
      "execution_count": null,
      "outputs": []
    },
    {
      "cell_type": "code",
      "source": [
        "# how does our loaded model perform?\n",
        "loaded_model_6.evaluate(val_sentence, val_labels)"
      ],
      "metadata": {
        "colab": {
          "base_uri": "https://localhost:8080/"
        },
        "id": "SGzycrZ4Hr6M",
        "outputId": "6f04a8e1-fc52-46e7-9ede-804d892e9638"
      },
      "execution_count": null,
      "outputs": [
        {
          "output_type": "stream",
          "name": "stdout",
          "text": [
            "24/24 [==============================] - 1s 11ms/step - loss: 0.4299 - accuracy: 0.8163\n"
          ]
        },
        {
          "output_type": "execute_result",
          "data": {
            "text/plain": [
              "[0.429918497800827, 0.8162729740142822]"
            ]
          },
          "metadata": {},
          "execution_count": 113
        }
      ]
    },
    {
      "cell_type": "markdown",
      "source": [
        "Now let's save to the `SaveModel` format"
      ],
      "metadata": {
        "id": "TywYZ2AfJaoN"
      }
    },
    {
      "cell_type": "code",
      "source": [
        "model_6.save(\"model_6_SaveModel_format\")"
      ],
      "metadata": {
        "colab": {
          "base_uri": "https://localhost:8080/"
        },
        "id": "mb7uWCg7KDF0",
        "outputId": "ca2e42bb-158d-4d54-d679-6800233edcb8"
      },
      "execution_count": null,
      "outputs": [
        {
          "output_type": "stream",
          "name": "stderr",
          "text": [
            "WARNING:absl:Function `_wrapped_model` contains input name(s) USE_input with unsupported characters which will be renamed to use_input in the SavedModel.\n"
          ]
        }
      ]
    },
    {
      "cell_type": "code",
      "source": [
        "# load in a model from the SaveModel format\n",
        "loaded_model_6_savemodel_format = tf.keras.models.load_model('model_6_SaveModel_format')"
      ],
      "metadata": {
        "id": "gCC_dnWFKJbI"
      },
      "execution_count": null,
      "outputs": []
    },
    {
      "cell_type": "code",
      "source": [
        "# evaluate model in SaveModel format\n",
        "loaded_model_6_savemodel_format.evaluate(val_sentence, val_labels)"
      ],
      "metadata": {
        "colab": {
          "base_uri": "https://localhost:8080/"
        },
        "id": "_Kuwo0kIKbrH",
        "outputId": "03cca4b0-459a-4928-8eb7-5d69f4293cba"
      },
      "execution_count": null,
      "outputs": [
        {
          "output_type": "stream",
          "name": "stdout",
          "text": [
            "24/24 [==============================] - 1s 10ms/step - loss: 0.4299 - accuracy: 0.8163\n"
          ]
        },
        {
          "output_type": "execute_result",
          "data": {
            "text/plain": [
              "[0.429918497800827, 0.8162729740142822]"
            ]
          },
          "metadata": {},
          "execution_count": 116
        }
      ]
    },
    {
      "cell_type": "markdown",
      "source": [
        "# Finding the most wrong examples\n",
        "\n",
        "- if our best model still isn't perfect, what examples is it getting wrong?\n",
        "- And of these wrong examples which ones is it getting most wrong (those will predictions probabilities closest to the opposite class)\n",
        "\n",
        "For examples if a sample should have a label of 0 but our model predicts a prediction probability of 0.999(really close to 1) and vice versa."
      ],
      "metadata": {
        "id": "r5F507o8KpFp"
      }
    },
    {
      "cell_type": "code",
      "source": [
        "# download a pretrained model from google storage\n",
        "!wget https://storage.googleapis.com/ztm_tf_course/08_model_6_USE_feature_extractor.zip\n",
        "!unzip 08_model_6_USE_feature_extractor.zip"
      ],
      "metadata": {
        "colab": {
          "base_uri": "https://localhost:8080/"
        },
        "id": "MPcpxOsOUAOC",
        "outputId": "ad2200f8-ef2d-4e96-bc28-08f9a0174a7f"
      },
      "execution_count": null,
      "outputs": [
        {
          "output_type": "stream",
          "name": "stdout",
          "text": [
            "--2023-03-09 12:20:57--  https://storage.googleapis.com/ztm_tf_course/08_model_6_USE_feature_extractor.zip\n",
            "Resolving storage.googleapis.com (storage.googleapis.com)... 173.194.215.128, 108.177.11.128, 172.217.204.128, ...\n",
            "Connecting to storage.googleapis.com (storage.googleapis.com)|173.194.215.128|:443... connected.\n",
            "HTTP request sent, awaiting response... 200 OK\n",
            "Length: 960779165 (916M) [application/zip]\n",
            "Saving to: ‘08_model_6_USE_feature_extractor.zip’\n",
            "\n",
            "08_model_6_USE_feat 100%[===================>] 916.27M   118MB/s    in 7.1s    \n",
            "\n",
            "2023-03-09 12:21:04 (128 MB/s) - ‘08_model_6_USE_feature_extractor.zip’ saved [960779165/960779165]\n",
            "\n",
            "Archive:  08_model_6_USE_feature_extractor.zip\n",
            "   creating: 08_model_6_USE_feature_extractor/\n",
            "   creating: 08_model_6_USE_feature_extractor/assets/\n",
            "   creating: 08_model_6_USE_feature_extractor/variables/\n",
            "  inflating: 08_model_6_USE_feature_extractor/variables/variables.data-00000-of-00001  \n",
            "  inflating: 08_model_6_USE_feature_extractor/variables/variables.index  \n",
            "  inflating: 08_model_6_USE_feature_extractor/saved_model.pb  \n"
          ]
        }
      ]
    },
    {
      "cell_type": "code",
      "source": [
        "# import previously trained model from google storage\n",
        "model_6_pretrained = tf.keras.models.load_model('08_model_6_USE_feature_extractor')\n",
        "model_6_pretrained.evaluate(val_sentence, val_labels)"
      ],
      "metadata": {
        "colab": {
          "base_uri": "https://localhost:8080/"
        },
        "id": "GYvkDOaaUmpp",
        "outputId": "098c3ad4-f099-41b5-c120-328c5a280498"
      },
      "execution_count": null,
      "outputs": [
        {
          "output_type": "stream",
          "name": "stderr",
          "text": [
            "WARNING:tensorflow:SavedModel saved prior to TF 2.5 detected when loading Keras model. Please ensure that you are saving the model with model.save() or tf.keras.models.save_model(), *NOT* tf.saved_model.save(). To confirm, there should be a file named \"keras_metadata.pb\" in the SavedModel directory.\n"
          ]
        },
        {
          "output_type": "stream",
          "name": "stdout",
          "text": [
            "24/24 [==============================] - 1s 10ms/step - loss: 0.4272 - accuracy: 0.8163\n"
          ]
        },
        {
          "output_type": "execute_result",
          "data": {
            "text/plain": [
              "[0.42723122239112854, 0.8162729740142822]"
            ]
          },
          "metadata": {},
          "execution_count": 121
        }
      ]
    },
    {
      "cell_type": "code",
      "source": [
        "# make predictions with the loaded model from GS\n",
        "model_6_pretrained_pred_probs = model_6_pretrained.predict(val_sentence)\n",
        "model_6_pretrained_pred = tf.squeeze(tf.round(model_6_pred_probs))\n",
        "model_6_pretrained_pred[:10]"
      ],
      "metadata": {
        "colab": {
          "base_uri": "https://localhost:8080/"
        },
        "id": "P-2PDUKtWFqM",
        "outputId": "d6baddc9-4f2b-4b72-9220-97e40c8a18d7"
      },
      "execution_count": null,
      "outputs": [
        {
          "output_type": "stream",
          "name": "stdout",
          "text": [
            "24/24 [==============================] - 1s 10ms/step\n"
          ]
        },
        {
          "output_type": "execute_result",
          "data": {
            "text/plain": [
              "<tf.Tensor: shape=(10,), dtype=float32, numpy=array([0., 1., 1., 0., 1., 1., 1., 1., 1., 0.], dtype=float32)>"
            ]
          },
          "metadata": {},
          "execution_count": 122
        }
      ]
    },
    {
      "cell_type": "code",
      "source": [
        "# create DataFrame with validation sentences and best performing model prediction\n",
        "val_df = pd.DataFrame({\"test\":val_sentence,\n",
        "                       \"target\":val_labels,\n",
        "                       \"pred\":model_6_pretrained_pred,\n",
        "                       \"pred_prob\":tf.squeeze(model_6_pretrained_pred_probs)})\n",
        "val_df.head()"
      ],
      "metadata": {
        "colab": {
          "base_uri": "https://localhost:8080/",
          "height": 206
        },
        "id": "nMX4UvK_R7fG",
        "outputId": "9d2bb9f2-0ba6-4fdf-fbb8-d87788dbd517"
      },
      "execution_count": null,
      "outputs": [
        {
          "output_type": "execute_result",
          "data": {
            "text/plain": [
              "                                                test  target  pred  pred_prob\n",
              "0  DFR EP016 Monthly Meltdown - On Dnbheaven 2015...       0   0.0   0.159757\n",
              "1  FedEx no longer to transport bioterror germs i...       0   1.0   0.747162\n",
              "2  Gunmen kill four in El Salvador bus attack: Su...       1   1.0   0.988749\n",
              "3  @camilacabello97 Internally and externally scr...       1   0.0   0.196229\n",
              "4  Radiation emergency #preparedness starts with ...       1   1.0   0.707808"
            ],
            "text/html": [
              "\n",
              "  <div id=\"df-7bc41244-b36d-4b24-9a09-301077e3e2da\">\n",
              "    <div class=\"colab-df-container\">\n",
              "      <div>\n",
              "<style scoped>\n",
              "    .dataframe tbody tr th:only-of-type {\n",
              "        vertical-align: middle;\n",
              "    }\n",
              "\n",
              "    .dataframe tbody tr th {\n",
              "        vertical-align: top;\n",
              "    }\n",
              "\n",
              "    .dataframe thead th {\n",
              "        text-align: right;\n",
              "    }\n",
              "</style>\n",
              "<table border=\"1\" class=\"dataframe\">\n",
              "  <thead>\n",
              "    <tr style=\"text-align: right;\">\n",
              "      <th></th>\n",
              "      <th>test</th>\n",
              "      <th>target</th>\n",
              "      <th>pred</th>\n",
              "      <th>pred_prob</th>\n",
              "    </tr>\n",
              "  </thead>\n",
              "  <tbody>\n",
              "    <tr>\n",
              "      <th>0</th>\n",
              "      <td>DFR EP016 Monthly Meltdown - On Dnbheaven 2015...</td>\n",
              "      <td>0</td>\n",
              "      <td>0.0</td>\n",
              "      <td>0.159757</td>\n",
              "    </tr>\n",
              "    <tr>\n",
              "      <th>1</th>\n",
              "      <td>FedEx no longer to transport bioterror germs i...</td>\n",
              "      <td>0</td>\n",
              "      <td>1.0</td>\n",
              "      <td>0.747162</td>\n",
              "    </tr>\n",
              "    <tr>\n",
              "      <th>2</th>\n",
              "      <td>Gunmen kill four in El Salvador bus attack: Su...</td>\n",
              "      <td>1</td>\n",
              "      <td>1.0</td>\n",
              "      <td>0.988749</td>\n",
              "    </tr>\n",
              "    <tr>\n",
              "      <th>3</th>\n",
              "      <td>@camilacabello97 Internally and externally scr...</td>\n",
              "      <td>1</td>\n",
              "      <td>0.0</td>\n",
              "      <td>0.196229</td>\n",
              "    </tr>\n",
              "    <tr>\n",
              "      <th>4</th>\n",
              "      <td>Radiation emergency #preparedness starts with ...</td>\n",
              "      <td>1</td>\n",
              "      <td>1.0</td>\n",
              "      <td>0.707808</td>\n",
              "    </tr>\n",
              "  </tbody>\n",
              "</table>\n",
              "</div>\n",
              "      <button class=\"colab-df-convert\" onclick=\"convertToInteractive('df-7bc41244-b36d-4b24-9a09-301077e3e2da')\"\n",
              "              title=\"Convert this dataframe to an interactive table.\"\n",
              "              style=\"display:none;\">\n",
              "        \n",
              "  <svg xmlns=\"http://www.w3.org/2000/svg\" height=\"24px\"viewBox=\"0 0 24 24\"\n",
              "       width=\"24px\">\n",
              "    <path d=\"M0 0h24v24H0V0z\" fill=\"none\"/>\n",
              "    <path d=\"M18.56 5.44l.94 2.06.94-2.06 2.06-.94-2.06-.94-.94-2.06-.94 2.06-2.06.94zm-11 1L8.5 8.5l.94-2.06 2.06-.94-2.06-.94L8.5 2.5l-.94 2.06-2.06.94zm10 10l.94 2.06.94-2.06 2.06-.94-2.06-.94-.94-2.06-.94 2.06-2.06.94z\"/><path d=\"M17.41 7.96l-1.37-1.37c-.4-.4-.92-.59-1.43-.59-.52 0-1.04.2-1.43.59L10.3 9.45l-7.72 7.72c-.78.78-.78 2.05 0 2.83L4 21.41c.39.39.9.59 1.41.59.51 0 1.02-.2 1.41-.59l7.78-7.78 2.81-2.81c.8-.78.8-2.07 0-2.86zM5.41 20L4 18.59l7.72-7.72 1.47 1.35L5.41 20z\"/>\n",
              "  </svg>\n",
              "      </button>\n",
              "      \n",
              "  <style>\n",
              "    .colab-df-container {\n",
              "      display:flex;\n",
              "      flex-wrap:wrap;\n",
              "      gap: 12px;\n",
              "    }\n",
              "\n",
              "    .colab-df-convert {\n",
              "      background-color: #E8F0FE;\n",
              "      border: none;\n",
              "      border-radius: 50%;\n",
              "      cursor: pointer;\n",
              "      display: none;\n",
              "      fill: #1967D2;\n",
              "      height: 32px;\n",
              "      padding: 0 0 0 0;\n",
              "      width: 32px;\n",
              "    }\n",
              "\n",
              "    .colab-df-convert:hover {\n",
              "      background-color: #E2EBFA;\n",
              "      box-shadow: 0px 1px 2px rgba(60, 64, 67, 0.3), 0px 1px 3px 1px rgba(60, 64, 67, 0.15);\n",
              "      fill: #174EA6;\n",
              "    }\n",
              "\n",
              "    [theme=dark] .colab-df-convert {\n",
              "      background-color: #3B4455;\n",
              "      fill: #D2E3FC;\n",
              "    }\n",
              "\n",
              "    [theme=dark] .colab-df-convert:hover {\n",
              "      background-color: #434B5C;\n",
              "      box-shadow: 0px 1px 3px 1px rgba(0, 0, 0, 0.15);\n",
              "      filter: drop-shadow(0px 1px 2px rgba(0, 0, 0, 0.3));\n",
              "      fill: #FFFFFF;\n",
              "    }\n",
              "  </style>\n",
              "\n",
              "      <script>\n",
              "        const buttonEl =\n",
              "          document.querySelector('#df-7bc41244-b36d-4b24-9a09-301077e3e2da button.colab-df-convert');\n",
              "        buttonEl.style.display =\n",
              "          google.colab.kernel.accessAllowed ? 'block' : 'none';\n",
              "\n",
              "        async function convertToInteractive(key) {\n",
              "          const element = document.querySelector('#df-7bc41244-b36d-4b24-9a09-301077e3e2da');\n",
              "          const dataTable =\n",
              "            await google.colab.kernel.invokeFunction('convertToInteractive',\n",
              "                                                     [key], {});\n",
              "          if (!dataTable) return;\n",
              "\n",
              "          const docLinkHtml = 'Like what you see? Visit the ' +\n",
              "            '<a target=\"_blank\" href=https://colab.research.google.com/notebooks/data_table.ipynb>data table notebook</a>'\n",
              "            + ' to learn more about interactive tables.';\n",
              "          element.innerHTML = '';\n",
              "          dataTable['output_type'] = 'display_data';\n",
              "          await google.colab.output.renderOutput(dataTable, element);\n",
              "          const docLink = document.createElement('div');\n",
              "          docLink.innerHTML = docLinkHtml;\n",
              "          element.appendChild(docLink);\n",
              "        }\n",
              "      </script>\n",
              "    </div>\n",
              "  </div>\n",
              "  "
            ]
          },
          "metadata": {},
          "execution_count": 125
        }
      ]
    },
    {
      "cell_type": "code",
      "source": [
        "# find the most wrong predictions and sort by prediction probabilities\n",
        "most_wrong = val_df[val_df[\"target\"] != val_df[\"pred\"]].sort_values(\"pred_prob\", ascending=False)\n",
        "most_wrong[:10]"
      ],
      "metadata": {
        "colab": {
          "base_uri": "https://localhost:8080/",
          "height": 584
        },
        "id": "rqspYg20ZMi8",
        "outputId": "edaf7948-75ac-4c29-8190-5811332712f6"
      },
      "execution_count": null,
      "outputs": [
        {
          "output_type": "execute_result",
          "data": {
            "text/plain": [
              "                                                  test  target  pred  \\\n",
              "31   ? High Skies - Burning Buildings ? http://t.co...       0   1.0   \n",
              "759  FedEx will no longer transport bioterror patho...       0   1.0   \n",
              "628  @noah_anyname That's where the concentration c...       0   1.0   \n",
              "209  Ashes 2015: AustraliaÛªs collapse at Trent Br...       0   1.0   \n",
              "251  @AshGhebranious civil rights continued in the ...       0   1.0   \n",
              "393  @SonofLiberty357 all illuminated by the bright...       0   1.0   \n",
              "109  [55436] 1950 LIONEL TRAINS SMOKE LOCOMOTIVES W...       0   1.0   \n",
              "49   @madonnamking RSPCA site multiple 7 story high...       0   1.0   \n",
              "119  @freefromwolves GodsLove &amp; #thankU brother...       0   1.0   \n",
              "344  Air Group is here to the rescue! We have 24/7 ...       0   1.0   \n",
              "\n",
              "     pred_prob  \n",
              "31    0.910196  \n",
              "759   0.876982  \n",
              "628   0.852300  \n",
              "209   0.835454  \n",
              "251   0.827213  \n",
              "393   0.814816  \n",
              "109   0.810840  \n",
              "49    0.803122  \n",
              "119   0.766901  \n",
              "344   0.766625  "
            ],
            "text/html": [
              "\n",
              "  <div id=\"df-c5575aa2-3e40-45f0-a1f7-be364016af22\">\n",
              "    <div class=\"colab-df-container\">\n",
              "      <div>\n",
              "<style scoped>\n",
              "    .dataframe tbody tr th:only-of-type {\n",
              "        vertical-align: middle;\n",
              "    }\n",
              "\n",
              "    .dataframe tbody tr th {\n",
              "        vertical-align: top;\n",
              "    }\n",
              "\n",
              "    .dataframe thead th {\n",
              "        text-align: right;\n",
              "    }\n",
              "</style>\n",
              "<table border=\"1\" class=\"dataframe\">\n",
              "  <thead>\n",
              "    <tr style=\"text-align: right;\">\n",
              "      <th></th>\n",
              "      <th>test</th>\n",
              "      <th>target</th>\n",
              "      <th>pred</th>\n",
              "      <th>pred_prob</th>\n",
              "    </tr>\n",
              "  </thead>\n",
              "  <tbody>\n",
              "    <tr>\n",
              "      <th>31</th>\n",
              "      <td>? High Skies - Burning Buildings ? http://t.co...</td>\n",
              "      <td>0</td>\n",
              "      <td>1.0</td>\n",
              "      <td>0.910196</td>\n",
              "    </tr>\n",
              "    <tr>\n",
              "      <th>759</th>\n",
              "      <td>FedEx will no longer transport bioterror patho...</td>\n",
              "      <td>0</td>\n",
              "      <td>1.0</td>\n",
              "      <td>0.876982</td>\n",
              "    </tr>\n",
              "    <tr>\n",
              "      <th>628</th>\n",
              "      <td>@noah_anyname That's where the concentration c...</td>\n",
              "      <td>0</td>\n",
              "      <td>1.0</td>\n",
              "      <td>0.852300</td>\n",
              "    </tr>\n",
              "    <tr>\n",
              "      <th>209</th>\n",
              "      <td>Ashes 2015: AustraliaÛªs collapse at Trent Br...</td>\n",
              "      <td>0</td>\n",
              "      <td>1.0</td>\n",
              "      <td>0.835454</td>\n",
              "    </tr>\n",
              "    <tr>\n",
              "      <th>251</th>\n",
              "      <td>@AshGhebranious civil rights continued in the ...</td>\n",
              "      <td>0</td>\n",
              "      <td>1.0</td>\n",
              "      <td>0.827213</td>\n",
              "    </tr>\n",
              "    <tr>\n",
              "      <th>393</th>\n",
              "      <td>@SonofLiberty357 all illuminated by the bright...</td>\n",
              "      <td>0</td>\n",
              "      <td>1.0</td>\n",
              "      <td>0.814816</td>\n",
              "    </tr>\n",
              "    <tr>\n",
              "      <th>109</th>\n",
              "      <td>[55436] 1950 LIONEL TRAINS SMOKE LOCOMOTIVES W...</td>\n",
              "      <td>0</td>\n",
              "      <td>1.0</td>\n",
              "      <td>0.810840</td>\n",
              "    </tr>\n",
              "    <tr>\n",
              "      <th>49</th>\n",
              "      <td>@madonnamking RSPCA site multiple 7 story high...</td>\n",
              "      <td>0</td>\n",
              "      <td>1.0</td>\n",
              "      <td>0.803122</td>\n",
              "    </tr>\n",
              "    <tr>\n",
              "      <th>119</th>\n",
              "      <td>@freefromwolves GodsLove &amp;amp; #thankU brother...</td>\n",
              "      <td>0</td>\n",
              "      <td>1.0</td>\n",
              "      <td>0.766901</td>\n",
              "    </tr>\n",
              "    <tr>\n",
              "      <th>344</th>\n",
              "      <td>Air Group is here to the rescue! We have 24/7 ...</td>\n",
              "      <td>0</td>\n",
              "      <td>1.0</td>\n",
              "      <td>0.766625</td>\n",
              "    </tr>\n",
              "  </tbody>\n",
              "</table>\n",
              "</div>\n",
              "      <button class=\"colab-df-convert\" onclick=\"convertToInteractive('df-c5575aa2-3e40-45f0-a1f7-be364016af22')\"\n",
              "              title=\"Convert this dataframe to an interactive table.\"\n",
              "              style=\"display:none;\">\n",
              "        \n",
              "  <svg xmlns=\"http://www.w3.org/2000/svg\" height=\"24px\"viewBox=\"0 0 24 24\"\n",
              "       width=\"24px\">\n",
              "    <path d=\"M0 0h24v24H0V0z\" fill=\"none\"/>\n",
              "    <path d=\"M18.56 5.44l.94 2.06.94-2.06 2.06-.94-2.06-.94-.94-2.06-.94 2.06-2.06.94zm-11 1L8.5 8.5l.94-2.06 2.06-.94-2.06-.94L8.5 2.5l-.94 2.06-2.06.94zm10 10l.94 2.06.94-2.06 2.06-.94-2.06-.94-.94-2.06-.94 2.06-2.06.94z\"/><path d=\"M17.41 7.96l-1.37-1.37c-.4-.4-.92-.59-1.43-.59-.52 0-1.04.2-1.43.59L10.3 9.45l-7.72 7.72c-.78.78-.78 2.05 0 2.83L4 21.41c.39.39.9.59 1.41.59.51 0 1.02-.2 1.41-.59l7.78-7.78 2.81-2.81c.8-.78.8-2.07 0-2.86zM5.41 20L4 18.59l7.72-7.72 1.47 1.35L5.41 20z\"/>\n",
              "  </svg>\n",
              "      </button>\n",
              "      \n",
              "  <style>\n",
              "    .colab-df-container {\n",
              "      display:flex;\n",
              "      flex-wrap:wrap;\n",
              "      gap: 12px;\n",
              "    }\n",
              "\n",
              "    .colab-df-convert {\n",
              "      background-color: #E8F0FE;\n",
              "      border: none;\n",
              "      border-radius: 50%;\n",
              "      cursor: pointer;\n",
              "      display: none;\n",
              "      fill: #1967D2;\n",
              "      height: 32px;\n",
              "      padding: 0 0 0 0;\n",
              "      width: 32px;\n",
              "    }\n",
              "\n",
              "    .colab-df-convert:hover {\n",
              "      background-color: #E2EBFA;\n",
              "      box-shadow: 0px 1px 2px rgba(60, 64, 67, 0.3), 0px 1px 3px 1px rgba(60, 64, 67, 0.15);\n",
              "      fill: #174EA6;\n",
              "    }\n",
              "\n",
              "    [theme=dark] .colab-df-convert {\n",
              "      background-color: #3B4455;\n",
              "      fill: #D2E3FC;\n",
              "    }\n",
              "\n",
              "    [theme=dark] .colab-df-convert:hover {\n",
              "      background-color: #434B5C;\n",
              "      box-shadow: 0px 1px 3px 1px rgba(0, 0, 0, 0.15);\n",
              "      filter: drop-shadow(0px 1px 2px rgba(0, 0, 0, 0.3));\n",
              "      fill: #FFFFFF;\n",
              "    }\n",
              "  </style>\n",
              "\n",
              "      <script>\n",
              "        const buttonEl =\n",
              "          document.querySelector('#df-c5575aa2-3e40-45f0-a1f7-be364016af22 button.colab-df-convert');\n",
              "        buttonEl.style.display =\n",
              "          google.colab.kernel.accessAllowed ? 'block' : 'none';\n",
              "\n",
              "        async function convertToInteractive(key) {\n",
              "          const element = document.querySelector('#df-c5575aa2-3e40-45f0-a1f7-be364016af22');\n",
              "          const dataTable =\n",
              "            await google.colab.kernel.invokeFunction('convertToInteractive',\n",
              "                                                     [key], {});\n",
              "          if (!dataTable) return;\n",
              "\n",
              "          const docLinkHtml = 'Like what you see? Visit the ' +\n",
              "            '<a target=\"_blank\" href=https://colab.research.google.com/notebooks/data_table.ipynb>data table notebook</a>'\n",
              "            + ' to learn more about interactive tables.';\n",
              "          element.innerHTML = '';\n",
              "          dataTable['output_type'] = 'display_data';\n",
              "          await google.colab.output.renderOutput(dataTable, element);\n",
              "          const docLink = document.createElement('div');\n",
              "          docLink.innerHTML = docLinkHtml;\n",
              "          element.appendChild(docLink);\n",
              "        }\n",
              "      </script>\n",
              "    </div>\n",
              "  </div>\n",
              "  "
            ]
          },
          "metadata": {},
          "execution_count": 127
        }
      ]
    },
    {
      "cell_type": "code",
      "source": [
        "most_wrong.tail()"
      ],
      "metadata": {
        "colab": {
          "base_uri": "https://localhost:8080/",
          "height": 206
        },
        "id": "ku8ofIFxaguZ",
        "outputId": "44eb337a-06aa-4e34-caa0-ec33254eac9f"
      },
      "execution_count": null,
      "outputs": [
        {
          "output_type": "execute_result",
          "data": {
            "text/plain": [
              "                                                  test  target  pred  \\\n",
              "411  @SoonerMagic_ I mean I'm a fan but I don't nee...       1   0.0   \n",
              "233                    I get to smoke my shit in peace       1   0.0   \n",
              "38   Why are you deluged with low self-image? Take ...       1   0.0   \n",
              "244  Reddit Will Now QuarantineÛ_ http://t.co/pkUA...       1   0.0   \n",
              "23   Ron &amp; Fez - Dave's High School Crush https...       1   0.0   \n",
              "\n",
              "     pred_prob  \n",
              "411   0.043919  \n",
              "233   0.042087  \n",
              "38    0.038998  \n",
              "244   0.038949  \n",
              "23    0.037186  "
            ],
            "text/html": [
              "\n",
              "  <div id=\"df-2fb42814-84eb-41eb-88ea-72f542dfda76\">\n",
              "    <div class=\"colab-df-container\">\n",
              "      <div>\n",
              "<style scoped>\n",
              "    .dataframe tbody tr th:only-of-type {\n",
              "        vertical-align: middle;\n",
              "    }\n",
              "\n",
              "    .dataframe tbody tr th {\n",
              "        vertical-align: top;\n",
              "    }\n",
              "\n",
              "    .dataframe thead th {\n",
              "        text-align: right;\n",
              "    }\n",
              "</style>\n",
              "<table border=\"1\" class=\"dataframe\">\n",
              "  <thead>\n",
              "    <tr style=\"text-align: right;\">\n",
              "      <th></th>\n",
              "      <th>test</th>\n",
              "      <th>target</th>\n",
              "      <th>pred</th>\n",
              "      <th>pred_prob</th>\n",
              "    </tr>\n",
              "  </thead>\n",
              "  <tbody>\n",
              "    <tr>\n",
              "      <th>411</th>\n",
              "      <td>@SoonerMagic_ I mean I'm a fan but I don't nee...</td>\n",
              "      <td>1</td>\n",
              "      <td>0.0</td>\n",
              "      <td>0.043919</td>\n",
              "    </tr>\n",
              "    <tr>\n",
              "      <th>233</th>\n",
              "      <td>I get to smoke my shit in peace</td>\n",
              "      <td>1</td>\n",
              "      <td>0.0</td>\n",
              "      <td>0.042087</td>\n",
              "    </tr>\n",
              "    <tr>\n",
              "      <th>38</th>\n",
              "      <td>Why are you deluged with low self-image? Take ...</td>\n",
              "      <td>1</td>\n",
              "      <td>0.0</td>\n",
              "      <td>0.038998</td>\n",
              "    </tr>\n",
              "    <tr>\n",
              "      <th>244</th>\n",
              "      <td>Reddit Will Now QuarantineÛ_ http://t.co/pkUA...</td>\n",
              "      <td>1</td>\n",
              "      <td>0.0</td>\n",
              "      <td>0.038949</td>\n",
              "    </tr>\n",
              "    <tr>\n",
              "      <th>23</th>\n",
              "      <td>Ron &amp;amp; Fez - Dave's High School Crush https...</td>\n",
              "      <td>1</td>\n",
              "      <td>0.0</td>\n",
              "      <td>0.037186</td>\n",
              "    </tr>\n",
              "  </tbody>\n",
              "</table>\n",
              "</div>\n",
              "      <button class=\"colab-df-convert\" onclick=\"convertToInteractive('df-2fb42814-84eb-41eb-88ea-72f542dfda76')\"\n",
              "              title=\"Convert this dataframe to an interactive table.\"\n",
              "              style=\"display:none;\">\n",
              "        \n",
              "  <svg xmlns=\"http://www.w3.org/2000/svg\" height=\"24px\"viewBox=\"0 0 24 24\"\n",
              "       width=\"24px\">\n",
              "    <path d=\"M0 0h24v24H0V0z\" fill=\"none\"/>\n",
              "    <path d=\"M18.56 5.44l.94 2.06.94-2.06 2.06-.94-2.06-.94-.94-2.06-.94 2.06-2.06.94zm-11 1L8.5 8.5l.94-2.06 2.06-.94-2.06-.94L8.5 2.5l-.94 2.06-2.06.94zm10 10l.94 2.06.94-2.06 2.06-.94-2.06-.94-.94-2.06-.94 2.06-2.06.94z\"/><path d=\"M17.41 7.96l-1.37-1.37c-.4-.4-.92-.59-1.43-.59-.52 0-1.04.2-1.43.59L10.3 9.45l-7.72 7.72c-.78.78-.78 2.05 0 2.83L4 21.41c.39.39.9.59 1.41.59.51 0 1.02-.2 1.41-.59l7.78-7.78 2.81-2.81c.8-.78.8-2.07 0-2.86zM5.41 20L4 18.59l7.72-7.72 1.47 1.35L5.41 20z\"/>\n",
              "  </svg>\n",
              "      </button>\n",
              "      \n",
              "  <style>\n",
              "    .colab-df-container {\n",
              "      display:flex;\n",
              "      flex-wrap:wrap;\n",
              "      gap: 12px;\n",
              "    }\n",
              "\n",
              "    .colab-df-convert {\n",
              "      background-color: #E8F0FE;\n",
              "      border: none;\n",
              "      border-radius: 50%;\n",
              "      cursor: pointer;\n",
              "      display: none;\n",
              "      fill: #1967D2;\n",
              "      height: 32px;\n",
              "      padding: 0 0 0 0;\n",
              "      width: 32px;\n",
              "    }\n",
              "\n",
              "    .colab-df-convert:hover {\n",
              "      background-color: #E2EBFA;\n",
              "      box-shadow: 0px 1px 2px rgba(60, 64, 67, 0.3), 0px 1px 3px 1px rgba(60, 64, 67, 0.15);\n",
              "      fill: #174EA6;\n",
              "    }\n",
              "\n",
              "    [theme=dark] .colab-df-convert {\n",
              "      background-color: #3B4455;\n",
              "      fill: #D2E3FC;\n",
              "    }\n",
              "\n",
              "    [theme=dark] .colab-df-convert:hover {\n",
              "      background-color: #434B5C;\n",
              "      box-shadow: 0px 1px 3px 1px rgba(0, 0, 0, 0.15);\n",
              "      filter: drop-shadow(0px 1px 2px rgba(0, 0, 0, 0.3));\n",
              "      fill: #FFFFFF;\n",
              "    }\n",
              "  </style>\n",
              "\n",
              "      <script>\n",
              "        const buttonEl =\n",
              "          document.querySelector('#df-2fb42814-84eb-41eb-88ea-72f542dfda76 button.colab-df-convert');\n",
              "        buttonEl.style.display =\n",
              "          google.colab.kernel.accessAllowed ? 'block' : 'none';\n",
              "\n",
              "        async function convertToInteractive(key) {\n",
              "          const element = document.querySelector('#df-2fb42814-84eb-41eb-88ea-72f542dfda76');\n",
              "          const dataTable =\n",
              "            await google.colab.kernel.invokeFunction('convertToInteractive',\n",
              "                                                     [key], {});\n",
              "          if (!dataTable) return;\n",
              "\n",
              "          const docLinkHtml = 'Like what you see? Visit the ' +\n",
              "            '<a target=\"_blank\" href=https://colab.research.google.com/notebooks/data_table.ipynb>data table notebook</a>'\n",
              "            + ' to learn more about interactive tables.';\n",
              "          element.innerHTML = '';\n",
              "          dataTable['output_type'] = 'display_data';\n",
              "          await google.colab.output.renderOutput(dataTable, element);\n",
              "          const docLink = document.createElement('div');\n",
              "          docLink.innerHTML = docLinkHtml;\n",
              "          element.appendChild(docLink);\n",
              "        }\n",
              "      </script>\n",
              "    </div>\n",
              "  </div>\n",
              "  "
            ]
          },
          "metadata": {},
          "execution_count": 128
        }
      ]
    },
    {
      "cell_type": "markdown",
      "source": [
        "Let's remind ourselves of the target labels...\n",
        "- 0 = not diaster\n",
        "- 1 = diaster"
      ],
      "metadata": {
        "id": "CyfOt4wNbFmf"
      }
    },
    {
      "cell_type": "code",
      "source": [
        "# check the false positive (model predicted 1 when should've been 0)\n",
        "for row in most_wrong[:10].itertuples():\n",
        "  _, text, target, pred, pred_prob = row\n",
        "  print(f\"Target:{target}, Pred: {pred}, Prob: {pred_prob}\")\n",
        "  print(f\"Text:\\n{text}\\n\")\n",
        "  print(\"------\\n\")"
      ],
      "metadata": {
        "colab": {
          "base_uri": "https://localhost:8080/"
        },
        "id": "jkuNVoTeba_s",
        "outputId": "c35b5abd-f541-4db3-c2c1-293fc0c7ea73"
      },
      "execution_count": null,
      "outputs": [
        {
          "output_type": "stream",
          "name": "stdout",
          "text": [
            "Target:0, Pred: 1.0, Prob: 0.9101957678794861\n",
            "Text:\n",
            "? High Skies - Burning Buildings ? http://t.co/uVq41i3Kx2 #nowplaying\n",
            "\n",
            "------\n",
            "\n",
            "Target:0, Pred: 1.0, Prob: 0.8769821524620056\n",
            "Text:\n",
            "FedEx will no longer transport bioterror pathogens in wake of anthrax lab mishaps http://t.co/lHpgxc4b8J\n",
            "\n",
            "------\n",
            "\n",
            "Target:0, Pred: 1.0, Prob: 0.8523001074790955\n",
            "Text:\n",
            "@noah_anyname That's where the concentration camps and mass murder come in. \n",
            " \n",
            "EVERY. FUCKING. TIME.\n",
            "\n",
            "------\n",
            "\n",
            "Target:0, Pred: 1.0, Prob: 0.8354544043540955\n",
            "Text:\n",
            "Ashes 2015: AustraliaÛªs collapse at Trent Bridge among worst in history: England bundled out Australia for 60 ... http://t.co/t5TrhjUAU0\n",
            "\n",
            "------\n",
            "\n",
            "Target:0, Pred: 1.0, Prob: 0.8272132873535156\n",
            "Text:\n",
            "@AshGhebranious civil rights continued in the 60s. And what about trans-generational trauma? if anything we should listen to the Americans.\n",
            "\n",
            "------\n",
            "\n",
            "Target:0, Pred: 1.0, Prob: 0.814815878868103\n",
            "Text:\n",
            "@SonofLiberty357 all illuminated by the brightly burning buildings all around the town!\n",
            "\n",
            "------\n",
            "\n",
            "Target:0, Pred: 1.0, Prob: 0.8108396530151367\n",
            "Text:\n",
            "[55436] 1950 LIONEL TRAINS SMOKE LOCOMOTIVES WITH MAGNE-TRACTION INSTRUCTIONS http://t.co/xEZBs3sq0y http://t.co/C2x0QoKGlY\n",
            "\n",
            "------\n",
            "\n",
            "Target:0, Pred: 1.0, Prob: 0.8031218647956848\n",
            "Text:\n",
            "@madonnamking RSPCA site multiple 7 story high rise buildings next to low density character residential in an area that floods\n",
            "\n",
            "------\n",
            "\n",
            "Target:0, Pred: 1.0, Prob: 0.7669008374214172\n",
            "Text:\n",
            "@freefromwolves GodsLove &amp; #thankU brother Danny for RT of NEW VIDEO http://t.co/cybKsXHF7d The Coming Apocalyptic US Earthquake &amp; Tsunami\n",
            "\n",
            "------\n",
            "\n",
            "Target:0, Pred: 1.0, Prob: 0.7666252255439758\n",
            "Text:\n",
            "Air Group is here to the rescue! We have 24/7 Emergency Service! Learn more about it here - http://t.co/9lyx7zMtHE http://t.co/5PbC96rTMJ\n",
            "\n",
            "------\n",
            "\n"
          ]
        }
      ]
    },
    {
      "cell_type": "code",
      "source": [
        "# check the false negative (model predicted 0 when should've been 1)\n",
        "for row in most_wrong[-10:].itertuples():\n",
        "  _, text, target, pred, pred_prob = row\n",
        "  print(f\"Target:{target}, Pred: {pred}, Prob: {pred_prob}\")\n",
        "  print(f\"Text:\\n{text}\\n\")\n",
        "  print(\"------\\n\")"
      ],
      "metadata": {
        "colab": {
          "base_uri": "https://localhost:8080/"
        },
        "id": "m0csiXVPcZG0",
        "outputId": "71a49636-0b3b-409a-844b-642437e2389a"
      },
      "execution_count": null,
      "outputs": [
        {
          "output_type": "stream",
          "name": "stdout",
          "text": [
            "Target:1, Pred: 0.0, Prob: 0.06730346381664276\n",
            "Text:\n",
            "@DavidVonderhaar At least you were sincere ??\n",
            "\n",
            "------\n",
            "\n",
            "Target:1, Pred: 0.0, Prob: 0.05507583171129227\n",
            "Text:\n",
            "@willienelson We need help! Horses will die!Please RT &amp; sign petition!Take a stand &amp; be a voice for them! #gilbert23 https://t.co/e8dl1lNCVu\n",
            "\n",
            "------\n",
            "\n",
            "Target:1, Pred: 0.0, Prob: 0.05460337549448013\n",
            "Text:\n",
            "Lucas Duda is Ghost Rider. Not the Nic Cage version but an actual 'engulfed in flames' badass. #Mets\n",
            "\n",
            "------\n",
            "\n",
            "Target:1, Pred: 0.0, Prob: 0.054597001522779465\n",
            "Text:\n",
            "going to redo my nails and watch behind the scenes of desolation of smaug ayyy\n",
            "\n",
            "------\n",
            "\n",
            "Target:1, Pred: 0.0, Prob: 0.049637261778116226\n",
            "Text:\n",
            "You can never escape me. Bullets don't harm me. Nothing harms me. But I know pain. I know pain. Sometimes I share it. With someone like you.\n",
            "\n",
            "------\n",
            "\n",
            "Target:1, Pred: 0.0, Prob: 0.04391850158572197\n",
            "Text:\n",
            "@SoonerMagic_ I mean I'm a fan but I don't need a girl sounding off like a damn siren\n",
            "\n",
            "------\n",
            "\n",
            "Target:1, Pred: 0.0, Prob: 0.042086850851774216\n",
            "Text:\n",
            "I get to smoke my shit in peace\n",
            "\n",
            "------\n",
            "\n",
            "Target:1, Pred: 0.0, Prob: 0.03899793699383736\n",
            "Text:\n",
            "Why are you deluged with low self-image? Take the quiz: http://t.co/XsPqdOrIqj http://t.co/CQYvFR4UCy\n",
            "\n",
            "------\n",
            "\n",
            "Target:1, Pred: 0.0, Prob: 0.03894945606589317\n",
            "Text:\n",
            "Reddit Will Now QuarantineÛ_ http://t.co/pkUAMXw6pm #onlinecommunities #reddit #amageddon #freespeech #Business http://t.co/PAWvNJ4sAP\n",
            "\n",
            "------\n",
            "\n",
            "Target:1, Pred: 0.0, Prob: 0.03718579187989235\n",
            "Text:\n",
            "Ron &amp; Fez - Dave's High School Crush https://t.co/aN3W16c8F6 via @YouTube\n",
            "\n",
            "------\n",
            "\n"
          ]
        }
      ]
    },
    {
      "cell_type": "markdown",
      "source": [
        "# Making predictions on the test dataset"
      ],
      "metadata": {
        "id": "isJJHpZhdRMW"
      }
    },
    {
      "cell_type": "code",
      "source": [
        "# making predictions on the test dataset and visualizing them\n",
        "test_sentences = test_df[\"text\"].to_list()\n",
        "test_samples = random.sample(test_sentences, 10)\n",
        "for test_sample in test_samples:\n",
        "  pred_prob = tf.squeeze(model_6_pretrained.predict([test_sample]))\n",
        "  pred = tf.round(pred_prob)\n",
        "  print(f\"Pred:{int(pred)}, Prob:{pred_prob}\")\n",
        "  print(f\"Text:\\n{test_sample}\\n\")\n",
        "  print(\"-----\\n\")"
      ],
      "metadata": {
        "colab": {
          "base_uri": "https://localhost:8080/"
        },
        "id": "C78FRzJ3eEwI",
        "outputId": "565ef49f-0d4d-4378-b4bb-ce353db8b978"
      },
      "execution_count": null,
      "outputs": [
        {
          "output_type": "stream",
          "name": "stdout",
          "text": [
            "1/1 [==============================] - 0s 230ms/step\n",
            "Pred:0, Prob:0.19069397449493408\n",
            "Text:\n",
            "of electricity he had wire and a golf ball hooked up to catch a bolt of lightning and electrocute it you're not my brother I can tell. The\n",
            "\n",
            "-----\n",
            "\n",
            "1/1 [==============================] - 0s 195ms/step\n",
            "Pred:0, Prob:0.10904203355312347\n",
            "Text:\n",
            "@Spencer_VH I hope you fall off a cliff\n",
            "\n",
            "-----\n",
            "\n",
            "1/1 [==============================] - 0s 127ms/step\n",
            "Pred:0, Prob:0.43640026450157166\n",
            "Text:\n",
            "@SushmaSwaraj Am sure background check of the child's details are done before the kid gets into another upheaval.\n",
            "\n",
            "-----\n",
            "\n",
            "1/1 [==============================] - 0s 123ms/step\n",
            "Pred:1, Prob:0.9599230289459229\n",
            "Text:\n",
            "Families to sue over Legionnaires - More than 40 families affected by the fatal outbreak of Legionnaires' disease ... http://t.co/urbl692Syj\n",
            "\n",
            "-----\n",
            "\n",
            "1/1 [==============================] - 0s 159ms/step\n",
            "Pred:0, Prob:0.04554058238863945\n",
            "Text:\n",
            "Tonight It's Going To Be Mayhem @ #4PlayThursdays. Everybody Free w/ Text. 1716 I ST NW (18+) http://t.co/omYWCLpGEf\n",
            "\n",
            "-----\n",
            "\n",
            "1/1 [==============================] - 0s 46ms/step\n",
            "Pred:0, Prob:0.37972891330718994\n",
            "Text:\n",
            "Hollywood Movie About Trapped Miners Released in Chile: 'The 33' Hollywood movie about trapped min... http://t.co/BinNJwobtU #topstories\n",
            "\n",
            "-----\n",
            "\n",
            "1/1 [==============================] - 0s 39ms/step\n",
            "Pred:1, Prob:0.5321141481399536\n",
            "Text:\n",
            "@whatupdave Headline in 2075 'Dust Storm on Mars Destroys 1% of Money Supply'\n",
            "\n",
            "-----\n",
            "\n",
            "1/1 [==============================] - 0s 39ms/step\n",
            "Pred:0, Prob:0.280768483877182\n",
            "Text:\n",
            "@AlexandBondarev Discovered by @NickCannon \n",
            " Listen/Buy @realmandyrain #RIOT on @iTunesMusic @iTunes https://t.co/dehMym5lpk Û_ #BlowMandyUp\n",
            "\n",
            "-----\n",
            "\n",
            "1/1 [==============================] - 0s 38ms/step\n",
            "Pred:1, Prob:0.9878012537956238\n",
            "Text:\n",
            "Israeli police unable to solve the case of Duma arson attack http://t.co/WtZgXzaf7Z\n",
            "\n",
            "-----\n",
            "\n",
            "1/1 [==============================] - 0s 53ms/step\n",
            "Pred:1, Prob:0.6613835692405701\n",
            "Text:\n",
            "@21Joseph fire\n",
            "\n",
            "-----\n",
            "\n"
          ]
        }
      ]
    },
    {
      "cell_type": "markdown",
      "source": [
        "# Speed/Score Tradeoff"
      ],
      "metadata": {
        "id": "-5Ad4r20eXXx"
      }
    },
    {
      "cell_type": "code",
      "source": [
        "# Let's make a function to measure the time of prediction\n",
        "import time\n",
        "def pred_timer(model, samples):\n",
        "  \"\"\"\n",
        "  Times how long a model takes to make predictions on samples.\n",
        "  \"\"\"\n",
        "  start_time = time.perf_counter() # get start time\n",
        "  model.predict(samples) # make predictions\n",
        "  end_time = time.perf_counter() # get finish time\n",
        "  total_time = end_time - start_time # calculate how long predictions took to make\n",
        "  time_per_pred = total_time/len(samples)\n",
        "  return total_time, time_per_pred"
      ],
      "metadata": {
        "id": "KSTmTxWPla-B"
      },
      "execution_count": null,
      "outputs": []
    },
    {
      "cell_type": "code",
      "source": [
        "#  calculate TF Hub Sentense Encoder time per pred\n",
        "model_6_total_pred_time, model_6_time_per_pred = pred_timer(model=model_6_pretrained,\n",
        "                                                            samples=val_sentence)\n",
        "model_6_total_pred_time, model_6_time_per_pred"
      ],
      "metadata": {
        "colab": {
          "base_uri": "https://localhost:8080/"
        },
        "id": "M_5KStsJoQ0S",
        "outputId": "3edc6880-edd1-440d-fc65-ae46580f9820"
      },
      "execution_count": null,
      "outputs": [
        {
          "output_type": "stream",
          "name": "stdout",
          "text": [
            "24/24 [==============================] - 0s 17ms/step\n"
          ]
        },
        {
          "output_type": "execute_result",
          "data": {
            "text/plain": [
              "(0.7170344750011282, 0.0009409901246733966)"
            ]
          },
          "metadata": {},
          "execution_count": 136
        }
      ]
    },
    {
      "cell_type": "code",
      "source": [
        "# calculate our baseline model times per pred\n",
        "baseline_total_pred_time, baseline_time_per_pred = pred_timer(model_0, val_sentence)\n",
        "baseline_total_pred_time, baseline_time_per_pred"
      ],
      "metadata": {
        "colab": {
          "base_uri": "https://localhost:8080/"
        },
        "id": "Kv14lYGOqPDw",
        "outputId": "8e5ae3d9-11e0-4f4b-b85e-39b482c15d12"
      },
      "execution_count": null,
      "outputs": [
        {
          "output_type": "execute_result",
          "data": {
            "text/plain": [
              "(0.049295906001134426, 6.469279002773546e-05)"
            ]
          },
          "metadata": {},
          "execution_count": 137
        }
      ]
    },
    {
      "cell_type": "code",
      "source": [
        "# get results for pretrained GS model\n",
        "model_6_pretrained_result = calculate_result(y_true=val_labels,\n",
        "                                             y_pred=model_6_pretrained_pred)\n",
        "model_6_pretrained_result"
      ],
      "metadata": {
        "colab": {
          "base_uri": "https://localhost:8080/"
        },
        "id": "QhOyV-KLrLXt",
        "outputId": "13f178d2-71b6-4f7f-f77e-d540db595145"
      },
      "execution_count": null,
      "outputs": [
        {
          "output_type": "execute_result",
          "data": {
            "text/plain": [
              "{'accuracy': 81.62729658792651,\n",
              " 'precision': 0.8187546712946793,\n",
              " 'recall': 0.8162729658792651,\n",
              " 'f1': 0.8147089025083661}"
            ]
          },
          "metadata": {},
          "execution_count": 139
        }
      ]
    },
    {
      "cell_type": "code",
      "source": [
        "import matplotlib.pyplot as plt\n",
        "\n",
        "plt.figure(figsize=(10, 7))\n",
        "plt.scatter(baseline_time_per_pred, baseline_result[\"f1\"], label=\"baseline\")\n",
        "plt.scatter(model_6_time_per_pred, model_6_pretrained_result[\"f1\"], label=\"tf_hub_sentence_encoder\")\n",
        "plt.legend()\n",
        "plt.title(\"F1-score versus time per prediction\")\n",
        "plt.xlabel(\"Time per prediction\")\n",
        "plt.ylabel(\"F1-score\");"
      ],
      "metadata": {
        "colab": {
          "base_uri": "https://localhost:8080/",
          "height": 458
        },
        "id": "FoKrui_zr4WL",
        "outputId": "e1013b63-1906-47fd-9e5f-ce91bc8e4b1c"
      },
      "execution_count": null,
      "outputs": [
        {
          "output_type": "display_data",
          "data": {
            "text/plain": [
              "<Figure size 720x504 with 1 Axes>"
            ],
            "image/png": "[encoded data removed]"
          },
          "metadata": {
            "needs_background": "light"
          }
        }
      ]
    },
    {
      "cell_type": "code",
      "source": [],
      "metadata": {
        "id": "-izmqEwYu5Jp"
      },
      "execution_count": null,
      "outputs": []
    }
  ]
}